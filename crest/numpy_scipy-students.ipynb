{
 "cells": [
  {
   "cell_type": "markdown",
   "metadata": {},
   "source": [
    "## Scientific programming/numpy"
   ]
  },
  {
   "cell_type": "markdown",
   "metadata": {},
   "source": [
    "Load these routines for numpy and plotting"
   ]
  },
  {
   "cell_type": "code",
   "execution_count": 2,
   "metadata": {
    "collapsed": false
   },
   "outputs": [],
   "source": [
    "import matplotlib\n",
    "import numpy as np\n",
    "import matplotlib.pyplot as plt\n",
    "%matplotlib inline"
   ]
  },
  {
   "cell_type": "markdown",
   "metadata": {},
   "source": [
    "### Class exercise\n",
    "- Measure the heights of your classmates\n",
    "- Measure their arm spans\n"
   ]
  },
  {
   "cell_type": "code",
   "execution_count": 7,
   "metadata": {
    "collapsed": false
   },
   "outputs": [],
   "source": [
    "data = np.array([\n",
    "      [156,162],  # height (cm), armspan (cm)\n",
    "      [159,161]\\\n",
    "      # add more!!  \n",
    "])"
   ]
  },
  {
   "cell_type": "markdown",
   "metadata": {},
   "source": [
    "- show the armspans, heights we recorded"
   ]
  },
  {
   "cell_type": "code",
   "execution_count": 8,
   "metadata": {
    "collapsed": false
   },
   "outputs": [
    {
     "name": "stdout",
     "output_type": "stream",
     "text": [
      "heights [156 159]\n"
     ]
    }
   ],
   "source": [
    "heights =  data[:,0]  \n",
    "print \"heights\",heights\n",
    "\n",
    "# armspans? "
   ]
  },
  {
   "cell_type": "markdown",
   "metadata": {},
   "source": [
    "- how are the heights distributed? (which heights are most frequent)\n",
    "\n",
    "Tip: use the plt.hist() function:\n",
    "\n",
    "<code>\n",
    "plt.hist(Xs)\n",
    "</code>"
   ]
  },
  {
   "cell_type": "code",
   "execution_count": null,
   "metadata": {
    "collapsed": false
   },
   "outputs": [],
   "source": []
  },
  {
   "cell_type": "markdown",
   "metadata": {},
   "source": [
    "- are height and armspan correlated?\n",
    "\n",
    "Tip: Use the plt.scatter() function:\n",
    "<code>\n",
    "plt.scatter(Xs,Ys)\n",
    "</code>"
   ]
  },
  {
   "cell_type": "markdown",
   "metadata": {},
   "source": [
    "### Another fun example\n",
    "Simulate a crazy fly!\n",
    "\n",
    "Tips:\n",
    "1. start out with an initial position\n",
    "2. draw a random number \n",
    "3. add the random number to the initial position to get a new position\n",
    "4. repeat 2-3 for N steps\n",
    "5. plot the result\n"
   ]
  },
  {
   "cell_type": "code",
   "execution_count": null,
   "metadata": {
    "collapsed": true
   },
   "outputs": [],
   "source": []
  }
 ],
 "metadata": {
  "kernelspec": {
   "display_name": "Python 2",
   "language": "python",
   "name": "python2"
  },
  "language_info": {
   "codemirror_mode": {
    "name": "ipython",
    "version": 2
   },
   "file_extension": ".py",
   "mimetype": "text/x-python",
   "name": "python",
   "nbconvert_exporter": "python",
   "pygments_lexer": "ipython2",
   "version": "2.7.10"
  }
 },
 "nbformat": 4,
 "nbformat_minor": 0
}
