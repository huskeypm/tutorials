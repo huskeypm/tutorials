{
 "cells": [
  {
   "cell_type": "markdown",
   "metadata": {},
   "source": [
    "## Scientific programming/numpy"
   ]
  },
  {
   "cell_type": "markdown",
   "metadata": {},
   "source": [
    "Load these routines for numpy and plotting"
   ]
  },
  {
   "cell_type": "code",
   "execution_count": 1,
   "metadata": {
    "collapsed": false
   },
   "outputs": [],
   "source": [
    "import matplotlib\n",
    "import numpy as np\n",
    "import matplotlib.pyplot as plt\n",
    "%matplotlib inline"
   ]
  },
  {
   "cell_type": "markdown",
   "metadata": {},
   "source": [
    "### Class exercise\n",
    "- Measure the heights of your classmates\n",
    "- Measure their arm spans\n"
   ]
  },
  {
   "cell_type": "code",
   "execution_count": 6,
   "metadata": {
    "collapsed": false
   },
   "outputs": [],
   "source": [
    "data = np.array([\n",
    "      [156,162],  # height (cm), armspan (cm)\n",
    "      [159,161],\n",
    "      [152,162],\n",
    "      [152,163]    \n",
    "      # add more!!  \n",
    "])"
   ]
  },
  {
   "cell_type": "markdown",
   "metadata": {},
   "source": [
    "- show the armspans, heights we recorded"
   ]
  },
  {
   "cell_type": "code",
   "execution_count": 7,
   "metadata": {
    "collapsed": false
   },
   "outputs": [
    {
     "name": "stdout",
     "output_type": "stream",
     "text": [
      "heights [156 159 152 152]\n"
     ]
    }
   ],
   "source": [
    "heights =  data[:,0]  \n",
    "print \"heights\",heights\n",
    "\n",
    "# armspans? "
   ]
  },
  {
   "cell_type": "markdown",
   "metadata": {},
   "source": [
    "- how are the heights distributed? (which heights are most frequent)\n",
    "\n",
    "Tip: use the plt.hist() function:\n",
    "\n",
    "<code>\n",
    "plt.hist(Xs) # replace Xs with heights/armspans etc\n",
    "</code>"
   ]
  },
  {
   "cell_type": "markdown",
   "metadata": {},
   "source": [
    "- are height and armspan correlated?\n",
    "\n",
    "Tip: Use the plt.scatter() function:\n",
    "<code>\n",
    "plt.scatter(Xs,Ys)\n",
    "</code>\n",
    "\n",
    "Now get the fit $y = m\\cdot x + b$ using polyfit. We want a linear correlation, so use 'degree=1':\n",
    "<code>\n",
    "m, b = np.polyfit(heights,armspans,1)\n",
    "</code>"
   ]
  },
  {
   "cell_type": "code",
   "execution_count": 16,
   "metadata": {
    "collapsed": false
   },
   "outputs": [
    {
     "data": {
      "text/plain": [
       "<matplotlib.legend.Legend at 0x115480910>"
      ]
     },
     "execution_count": 16,
     "metadata": {},
     "output_type": "execute_result"
    },
    {
     "data": {
      "image/png": "[encoded data removed]",
      "text/plain": [
       "<matplotlib.figure.Figure at 0x115480710>"
      ]
     },
     "metadata": {},
     "output_type": "display_data"
    }
   ],
   "source": []
  },
  {
   "cell_type": "markdown",
   "metadata": {},
   "source": [
    "### Another fun example\n",
    "Simulate a crazy fly!\n",
    "\n",
    "Tips:\n",
    "1. start out with an initial position\n",
    "<code>\n",
    "posn = np.array([0,0])\n",
    "</code>\n",
    "2. draw a random number \n",
    "<code>\n",
    "rand = np.random.rand(2) # to get 2 random numbers for x, y \n",
    "</code>\n",
    "3. add the random number to the initial position to get a new position\n",
    "<code>\n",
    "posn = posn + rand\n",
    "</code>\n",
    "4. repeat 2-3 for N steps. Tip: use a 'while' loop and consider storing your cordinates as a list, e.g. \n",
    "<code>\n",
    "posns = np.zeros([10,2]) # 10 steps, 2 entrys for x and y\n",
    "i = 1 # current step\n",
    "while(i < 10):\n",
    "  posns[i-1,:] = posn + rand\n",
    "  i=i+1\n",
    "</code>  \n",
    "5. plot the result\n"
   ]
  },
  {
   "cell_type": "code",
   "execution_count": null,
   "metadata": {
    "collapsed": true
   },
   "outputs": [],
   "source": []
  }
 ],
 "metadata": {
  "kernelspec": {
   "display_name": "Python 2",
   "language": "python",
   "name": "python2"
  },
  "language_info": {
   "codemirror_mode": {
    "name": "ipython",
    "version": 2
   },
   "file_extension": ".py",
   "mimetype": "text/x-python",
   "name": "python",
   "nbconvert_exporter": "python",
   "pygments_lexer": "ipython2",
   "version": "2.7.13"
  }
 },
 "nbformat": 4,
 "nbformat_minor": 0
}
