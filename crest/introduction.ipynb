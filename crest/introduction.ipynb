{
 "cells": [
  {
   "cell_type": "markdown",
   "metadata": {},
   "source": [
    "## Introduction"
   ]
  },
  {
   "cell_type": "code",
   "execution_count": 1,
   "metadata": {
    "collapsed": false
   },
   "outputs": [
    {
     "name": "stdout",
     "output_type": "stream",
     "text": [
      "Hello, World!\n"
     ]
    }
   ],
   "source": [
    "print \"Hello, World!\""
   ]
  },
  {
   "cell_type": "code",
   "execution_count": 3,
   "metadata": {
    "collapsed": false
   },
   "outputs": [
    {
     "name": "stdout",
     "output_type": "stream",
     "text": [
      "Local:  2\n",
      "Global 1\n"
     ]
    }
   ],
   "source": [
    "myVariable = 1\n",
    "def function(): # <-- this is a 'local' environment\n",
    "  myVariable = 2\n",
    "  print \"Local: \", myVariable\n",
    "function()  \n",
    "print \"Global\", myVariable  "
   ]
  },
  {
   "cell_type": "code",
   "execution_count": 4,
   "metadata": {
    "collapsed": false
   },
   "outputs": [
    {
     "name": "stdout",
     "output_type": "stream",
     "text": [
      "0\n",
      "1\n",
      "2\n",
      "3\n",
      "4\n",
      "5\n",
      "6\n",
      "7\n",
      "8\n",
      "9\n"
     ]
    }
   ],
   "source": [
    "t=0\n",
    "while(t < 10):\n",
    "  print t\n",
    "  t = t+1"
   ]
  },
  {
   "cell_type": "code",
   "execution_count": 7,
   "metadata": {
    "collapsed": false
   },
   "outputs": [
    {
     "name": "stdout",
     "output_type": "stream",
     "text": [
      "It is NOT rainy\n"
     ]
    }
   ],
   "source": [
    "isRainy = False\n",
    "if isRainy:\n",
    "    print \"It is rainy!\"\n",
    "else:\n",
    "    print \"It is NOT rainy\"\n"
   ]
  },
  {
   "cell_type": "code",
   "execution_count": 8,
   "metadata": {
    "collapsed": false
   },
   "outputs": [
    {
     "name": "stdout",
     "output_type": "stream",
     "text": [
      "3\n"
     ]
    }
   ],
   "source": [
    "# add two numbers \n",
    "def function(number1,number2): \n",
    "    return number1 + number2\n",
    "\n",
    "print function(1,2)"
   ]
  },
  {
   "cell_type": "code",
   "execution_count": 11,
   "metadata": {
    "collapsed": false
   },
   "outputs": [
    {
     "name": "stdout",
     "output_type": "stream",
     "text": [
      "c) Wow, that's a lot of cats!\n"
     ]
    }
   ],
   "source": [
    "numCats = 5\n",
    "if numCats < 2: \n",
    "  print \"a) That's a manageable\"\n",
    "elif numCats >=2 and numCats < 5:\n",
    "  print \"b) That's quite a few cats\"\n",
    "else:\n",
    "  print \"c) Wow, that's a lot of cats!\"\n"
   ]
  },
  {
   "cell_type": "code",
   "execution_count": 12,
   "metadata": {
    "collapsed": false
   },
   "outputs": [
    {
     "name": "stdout",
     "output_type": "stream",
     "text": [
      "Good!\n"
     ]
    }
   ],
   "source": [
    "def computeAverage(grade1,grade2,grade3):\n",
    "  tot = grade1+grade2+grade3\n",
    "  avg = tot/3.\n",
    "  return avg\n",
    "  \n",
    "if computeAverage(70,80,90) < 80:\n",
    "  print \"Darn!\"\n",
    "else:\n",
    "  print \"Good!\""
   ]
  },
  {
   "cell_type": "code",
   "execution_count": null,
   "metadata": {
    "collapsed": true
   },
   "outputs": [],
   "source": []
  },
  {
   "cell_type": "code",
   "execution_count": null,
   "metadata": {
    "collapsed": true
   },
   "outputs": [],
   "source": []
  }
 ],
 "metadata": {
  "kernelspec": {
   "display_name": "Python 2",
   "language": "python",
   "name": "python2"
  },
  "language_info": {
   "codemirror_mode": {
    "name": "ipython",
    "version": 2
   },
   "file_extension": ".py",
   "mimetype": "text/x-python",
   "name": "python",
   "nbconvert_exporter": "python",
   "pygments_lexer": "ipython2",
   "version": "2.7.10"
  }
 },
 "nbformat": 4,
 "nbformat_minor": 0
}
