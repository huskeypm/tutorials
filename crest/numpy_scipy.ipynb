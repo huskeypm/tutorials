{
 "metadata": {
  "kernelspec": {
   "display_name": "Python 2",
   "language": "python",
   "name": "python2"
  },
  "language_info": {
   "codemirror_mode": {
    "name": "ipython",
    "version": 2
   },
   "file_extension": ".py",
   "mimetype": "text/x-python",
   "name": "python",
   "nbconvert_exporter": "python",
   "pygments_lexer": "ipython2",
   "version": "2.7.11"
  },
  "name": "",
  "signature": "sha256:29a2118a8914c31e9ee32bf4079b473bf94554138cf9bf1491fa9248e753601f"
 },
 "nbformat": 3,
 "nbformat_minor": 0,
 "worksheets": [
  {
   "cells": [
    {
     "cell_type": "heading",
     "level": 2,
     "metadata": {},
     "source": [
      "Scientific programming/numpy"
     ]
    },
    {
     "cell_type": "markdown",
     "metadata": {},
     "source": [
      "Load these routines for numpy and plotting"
     ]
    },
    {
     "cell_type": "code",
     "collapsed": false,
     "input": [
      "import matplotlib\n",
      "import numpy as np\n",
      "import matplotlib.pyplot as plt\n",
      "%matplotlib inline\n"
     ],
     "language": "python",
     "metadata": {},
     "outputs": [],
     "prompt_number": 1
    },
    {
     "cell_type": "markdown",
     "metadata": {},
     "source": [
      "### Class exercise\n",
      "- Measure the heights of your classmates\n",
      "- Measure their arm spans\n"
     ]
    },
    {
     "cell_type": "code",
     "collapsed": false,
     "input": [
      "instructor=True\n",
      "if instructor:\n",
      "    # loads a file with data already stored\n",
      "    data = np.loadtxt(\"heightlength.csv\",delimiter=\",\")\n",
      "    data = data[:,1:3]\n",
      "else:\n",
      "    data = np.array(\n",
      "      [156,162],  # height (cm), armspan (cm)\n",
      "      [159,161]\n",
      "      # add more!!  \n",
      "    )"
     ],
     "language": "python",
     "metadata": {},
     "outputs": [],
     "prompt_number": 2
    },
    {
     "cell_type": "markdown",
     "metadata": {},
     "source": [
      "- show the armspans, heights we recorded"
     ]
    },
    {
     "cell_type": "code",
     "collapsed": false,
     "input": [
      "heights =  data[:,0]  \n",
      "print \"heights\",heights\n",
      "armspans =  data[:,1]  \n",
      "print \"armspans\", armspans"
     ],
     "language": "python",
     "metadata": {},
     "outputs": [
      {
       "output_type": "stream",
       "stream": "stdout",
       "text": [
        "heights [ 156.  157.  159.  160.  161.  161.  162.  165.  170.  177.  177.  178.\n",
        "  184.  188.  188.  188.  188.  188.  194.  196.  200.]\n",
        "armspans [ 162.  160.  162.  155.  160.  162.  170.  166.  170.  173.  176.  178.\n",
        "  180.  188.  187.  182.  181.  192.  193.  184.  186.]\n"
       ]
      }
     ],
     "prompt_number": 3
    },
    {
     "cell_type": "markdown",
     "metadata": {},
     "source": [
      "- how are the heights distributed? (which heights are most frequent)\n",
      "\n",
      "Tip: use the plt.hist() function:\n",
      "\n",
      "<code>\n",
      "plt.hist(Xs)\n",
      "</code>"
     ]
    },
    {
     "cell_type": "code",
     "collapsed": false,
     "input": [
      "plt.hist(heights)\n",
      "plt.xlabel(\"Height (cm)\")\n",
      "plt.ylabel(\"Number of people\")"
     ],
     "language": "python",
     "metadata": {},
     "outputs": [
      {
       "metadata": {},
       "output_type": "pyout",
       "prompt_number": 4,
       "text": [
        "<matplotlib.text.Text at 0x7fbe238a7390>"
       ]
      },
      {
       "metadata": {},
       "output_type": "display_data",
       "png": "[encoded data removed]",
       "text": [
        "<matplotlib.figure.Figure at 0x7fbe24397a90>"
       ]
      }
     ],
     "prompt_number": 4
    },
    {
     "cell_type": "markdown",
     "metadata": {},
     "source": [
      "- are height and armspan correlated?\n",
      "\n",
      "Tip: Use the plt.scatter() function:\n",
      "<code>\n",
      "plt.scatter(Xs,Ys)\n",
      "</code>"
     ]
    },
    {
     "cell_type": "code",
     "collapsed": false,
     "input": [
      "plt.scatter(heights,armspans)"
     ],
     "language": "python",
     "metadata": {},
     "outputs": [
      {
       "metadata": {},
       "output_type": "pyout",
       "prompt_number": 5,
       "text": [
        "<matplotlib.collections.PathCollection at 0x7fbe23731e50>"
       ]
      },
      {
       "metadata": {},
       "output_type": "display_data",
       "png": "[encoded data removed]",
       "text": [
        "<matplotlib.figure.Figure at 0x7fbe237e9bd0>"
       ]
      }
     ],
     "prompt_number": 5
    },
    {
     "cell_type": "markdown",
     "metadata": {},
     "source": [
      "### Another fun example\n",
      "Simulate a crazy fly!\n",
      "\n",
      "Tips:\n",
      "1. start out with an initial position\n",
      "2. draw a random number \n",
      "3. add the random number to the initial position to get a new position\n",
      "4. repeat 2-3 for N steps\n",
      "5. plot the result\n"
     ]
    },
    {
     "cell_type": "code",
     "collapsed": false,
     "input": [
      "def myflysimulator():\n",
      "    initialPosition=np.array([0,0]) # where the fly started (x,y)\n",
      "    numMoves = 100 # number of times it moves\n",
      "    trajectory = np.zeros([numMoves+1,2])  # an 'array' of positions at each time \n",
      "\n",
      "    # store first position\n",
      "    trajectory[0,0] = initialPosition[0]  # X\n",
      "    trajectory[0,1] = initialPosition[1]  # Y\n",
      "    \n",
      "    i=1\n",
      "    while(i < numMoves):\n",
      "      randomX = np.random.randn(1)  \n",
      "      randomY = np.random.randn(1)  \n",
      "      trajectory[i,0] = trajectory[i-1,0] + randomX\n",
      "      trajectory[i,1] = trajectory[i-1,1] + randomY\n",
      "      i = i+1  \n",
      "    return trajectory  "
     ],
     "language": "python",
     "metadata": {},
     "outputs": [],
     "prompt_number": 14
    },
    {
     "cell_type": "code",
     "collapsed": false,
     "input": [
      "firstFlyTrajectory = myflysimulator()\n",
      "secondFlyTrajectory = myflysimulator()\n",
      "\n",
      "plt.plot(firstFlyTrajectory[:,0],firstFlyTrajectory[:,1],label=\"fly 1\")\n",
      "plt.plot(secondFlyTrajectory[:,0],secondFlyTrajectory[:,1],label=\"fly 2\")\n",
      "plt.legend(loc=0)"
     ],
     "language": "python",
     "metadata": {},
     "outputs": [
      {
       "metadata": {},
       "output_type": "pyout",
       "prompt_number": 15,
       "text": [
        "<matplotlib.legend.Legend at 0x7fbe23226650>"
       ]
      },
      {
       "metadata": {},
       "output_type": "display_data",
       "png": "[encoded data removed]",
       "text": [
        "<matplotlib.figure.Figure at 0x7fbe2341af50>"
       ]
      }
     ],
     "prompt_number": 15
    },
    {
     "cell_type": "code",
     "collapsed": true,
     "input": [],
     "language": "python",
     "metadata": {},
     "outputs": [],
     "prompt_number": null
    }
   ],
   "metadata": {}
  }
 ]
}