{
 "metadata": {
  "name": "",
  "signature": "sha256:32ce34e4337c482255f66ab2a7f3c85cb400bca4f6999652aff8527925a9af53"
 },
 "nbformat": 3,
 "nbformat_minor": 0,
 "worksheets": [
  {
   "cells": [
    {
     "cell_type": "markdown",
     "metadata": {},
     "source": [
      "This notebook illustrates how to use LOOS to do simple analyses (e.g. measure an atom-atom distance) on MD-generated trajectories\n",
      "\n",
      "- run from kafka\n",
      "\n",
      "<code>$ ssh kafka</code>\n",
      "\n",
      "- source LOOS file\n",
      "\n",
      "<code>$ source /opt/LOOS/setup.sh</code>\n",
      "\n",
      "- Be sure to convert *.cdf file to dcd using catdcd for traj_file step:\n",
      "\n",
      "<code>$/net/share/shared/catdcd -o out.dcd -otype dcd -s step2_solvator.pdb -first 0 -last 1000 -stride 1  -netcdf foo.cdf\n",
      "</code>"
     ]
    },
    {
     "cell_type": "markdown",
     "metadata": {},
     "source": [
      "### Import libraries needed fo analyses"
     ]
    },
    {
     "cell_type": "code",
     "collapsed": false,
     "input": [
      "import loos\n",
      "import sys\n",
      "import math\n",
      "import PyTraj"
     ],
     "language": "python",
     "metadata": {},
     "outputs": [],
     "prompt_number": 26
    },
    {
     "cell_type": "markdown",
     "metadata": {},
     "source": [
      "### Load structure/trajectory into 'loos' objects"
     ]
    },
    {
     "cell_type": "code",
     "collapsed": true,
     "input": [
      "#dataDirectory=\"/u1/cesc235/source/tutorials/loos_amber/\"\n",
      "#%system_file=dataDirectory+\"step2_solvator.pdb\"\n",
      "#traj_file=dataDirectory+\"out.dcd\"\n",
      "\n",
      "dataDirectory=\"/net/share/shared/Examples_and_Tutorials/tutorials/parvTutorial/\"\n",
      "system_file=dataDirectory+\"small.pdb\"\n",
      "traj_file=dataDirectory+\"small.dcd\"\n"
     ],
     "language": "python",
     "metadata": {},
     "outputs": [],
     "prompt_number": 6
    },
    {
     "cell_type": "code",
     "collapsed": false,
     "input": [
      "system=loos.createSystem(system_file)\n",
      "traj=loos.createTrajectory(traj_file,system)\n",
      "ptraj = PyTraj.PyTraj(traj, system, skip = 1)"
     ],
     "language": "python",
     "metadata": {},
     "outputs": [],
     "prompt_number": 30
    },
    {
     "cell_type": "markdown",
     "metadata": {},
     "source": [
      "### Calc distances (Tyr/Asp distance)\n",
      "#### Make atom selection . see <a href=file:///opt/LOOS/docs/selections.html>here </a> for tips"
     ]
    },
    {
     "cell_type": "code",
     "collapsed": false,
     "input": [
      "sel1chain1 = loos.selectAtoms(system,'name == \"OH\" && resid == 57') # Tyrosine\n",
      "sel2chain1 = loos.selectAtoms(system,'name == \"OD1\" && resid == 94') # Asp\n",
      "sel3chain1 = loos.selectAtoms(system,'name == \"OD2\" && resid == 94')\n"
     ],
     "language": "python",
     "metadata": {},
     "outputs": [],
     "prompt_number": 31
    },
    {
     "cell_type": "markdown",
     "metadata": {},
     "source": [
      "Here we actually do the measurement by loading up each frame and calculating/storing the distance. Note: <strong>Not sure how to 'rewind' trajectory, so need to repeat the 'PyTraj.PyTraj' codeblock above</strong>"
     ]
    },
    {
     "cell_type": "code",
     "collapsed": false,
     "input": [
      "NS_PER_FRAME = 1e-3 # only a guess\n",
      "distschain1 = np.zeros((traj.nframes(),2))\n",
      "distschain1[:,0] = np.arange(traj.nframes())*NS_PER_FRAME\n",
      "distschain2 = np.zeros((traj.nframes(),2))\n",
      "distschain2[:,0] = np.arange(traj.nframes())*NS_PER_FRAME\n",
      "\n",
      "\n",
      "def seldist(dists,fr,sel1,sel2):\n",
      "  c1 = sel1.centroid()\n",
      "  c2 = sel2.centroid()\n",
      "  #print c1, c2  \n",
      "  diff = c1-c2\n",
      "  distance = diff.length()\n",
      "  dists[fr,1] = distance    \n",
      "\n",
      "fr=0\n",
      "for frame in ptraj:\n",
      "  seldist(distschain1,fr,sel1chain1,sel2chain1)  \n",
      "  seldist(distschain2,fr,sel1chain1,sel3chain1)  \n",
      "  fr+=1"
     ],
     "language": "python",
     "metadata": {},
     "outputs": [],
     "prompt_number": 32
    },
    {
     "cell_type": "markdown",
     "metadata": {},
     "source": [
      "### Plot the resulting data. \n",
      "Notice the line for saving the resulting image"
     ]
    },
    {
     "cell_type": "code",
     "collapsed": false,
     "input": [
      "plt.plot(distschain1[:,0],distschain1[:,1],label=\"chain1\")\n",
      "plt.plot(distschain2[:,0],distschain2[:,1],label=\"chain2\")\n",
      "#plt.ylim([11,14])\n",
      "plt.xlabel(\"Time [ns]\")\n",
      "plt.ylabel(\"Dist [Ang]\")\n",
      "plt.legend(loc=0)\n",
      "plt.title(\"Site I/II Cal distances\") \n",
      "plt.gcf().savefig(\"myfig.png\",dpi=300)"
     ],
     "language": "python",
     "metadata": {},
     "outputs": [
      {
       "metadata": {},
       "output_type": "display_data",
       "png": "[encoded data removed]",
       "text": [
        "<matplotlib.figure.Figure at 0x7fd67fb4df50>"
       ]
      }
     ],
     "prompt_number": 34
    },
    {
     "cell_type": "markdown",
     "metadata": {},
     "source": []
    }
   ],
   "metadata": {}
  }
 ]
}