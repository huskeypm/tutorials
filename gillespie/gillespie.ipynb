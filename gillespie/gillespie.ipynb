{
 "metadata": {
  "name": "",
  "signature": "sha256:615227f9dd9d01d34bc06245057f5e8c95d204344a9c2b34d1c1feb021821646"
 },
 "nbformat": 3,
 "nbformat_minor": 0,
 "worksheets": [
  {
   "cells": [
    {
     "cell_type": "markdown",
     "metadata": {},
     "source": [
      "## Gillespie simulator"
     ]
    },
    {
     "cell_type": "markdown",
     "metadata": {},
     "source": [
      "This file contains a Gillespie simulator for the reaction\n",
      "Borrowed from Markus Dittrich\n",
      "\n",
      "<code>\n",
      "   A + B -> C  [k1]\n",
      "   C -> A + B  [k2]\n",
      "</code>"
     ]
    },
    {
     "cell_type": "markdown",
     "metadata": {},
     "source": [
      "http://staff.psc.edu/dittrich/PGSS/pdfs/Gillespie_1977.pdf"
     ]
    },
    {
     "cell_type": "code",
     "collapsed": false,
     "input": [
      "%load_ext autoreload\n",
      "%autoreload 2"
     ],
     "language": "python",
     "metadata": {},
     "outputs": [],
     "prompt_number": 1
    },
    {
     "cell_type": "code",
     "collapsed": false,
     "input": [
      "\n",
      "# import pythons random number generator\n",
      "# NOTE: for production code you need to make sure to have\n",
      "# a very good random number generator.\n",
      "import random as rng\n",
      "import math\n"
     ],
     "language": "python",
     "metadata": {},
     "outputs": [],
     "prompt_number": 2
    },
    {
     "cell_type": "code",
     "collapsed": false,
     "input": [
      "from helper import *"
     ],
     "language": "python",
     "metadata": {},
     "outputs": [],
     "prompt_number": 4
    },
    {
     "cell_type": "markdown",
     "metadata": {},
     "source": [
      "### Define gillespie simulator\n",
      "\n",
      "#### <font color=red>Need to explain each routine in helper etc</font>"
     ]
    },
    {
     "cell_type": "code",
     "collapsed": false,
     "input": [
      "\n",
      "\n",
      "\n",
      "################################################################\n",
      "# start of main simulation\n",
      "################################################################\n",
      "\n",
      "def main(\n",
      "    # parameters\n",
      "    A0 = 30110, # initial molecule count for species A\n",
      "    B0 = 30110, # initial molecule count for species B\n",
      "    C0 =     0, # initial molecule count for species C\n",
      "    k1 = 0.024e5,           # forward rate [#/(Mol*s)]\n",
      "    k2 = 0.015e5,           # backward rate [1/s]\n",
      "    volume = 5e-20,         # reaction volume [L]\n",
      "    maxTime = 1.0e-2,   # maximum simulation time [s]\n",
      "    outputFreq = 1000,                            # output frequency\n",
      "    verbose = False\n",
      "):\n",
      "\n",
      "    # initialize time, random number generator,\n",
      "    # initial molecule counts, and molecule count update\n",
      "    # functions\n",
      "    rng.seed(124213)\n",
      "    N_avo  = 6.0221415e23  \n",
      "    time       = 0.0\n",
      "    iteration  = 0 # iteration count\n",
      "    molCounts  = [A0,B0,C0]\n",
      "    rates      = [k1/volume/N_avo, k2]           # need to convert \n",
      "    updaters   = [react1_updater,react2_updater]\n",
      "\n",
      "    # open output files\n",
      "    fileHandles = open_output_files() \n",
      "    results = dict()\n",
      "    results[\"time\"]=[]\n",
      "    results[\"molCounts\"]=[]\n",
      "    results[\"molConcs\"]=[]\n",
      "    \n",
      "    # we simulate until we hit our maximum simulation time\n",
      "    while time < maxTime:\n",
      "    #for i in np.arange(10000):\n",
      "        \n",
      "        # compute the propensities a_i for each reaction\n",
      "        # and the sum a_0\n",
      "        a_i = compute_propensities(molCounts, rates)\n",
      "        a_0 = sum(a_i)\n",
      "\n",
      "        # pick a random number, compute the time increment\n",
      "        # and update t (equation 21a in Gillespie's paper)\n",
      "        rand_1 = rng.random()\n",
      "        tau    = 1.0/a_0 * math.log(1/rand_1)\n",
      "        time  += tau\n",
      "\n",
      "        # find the reaction to execute (equation 21b in\n",
      "        # Gillespie's paper). We need a second random number\n",
      "        # here. We don't really need the while loop here since\n",
      "        # we only have two possible reactions but we do it anyway\n",
      "        # to keep it more general. \n",
      "        rand_2    = rng.random()\n",
      "        threshold = a_0 * rand_2\n",
      "        \n",
      "        summation = 0\n",
      "        count     = 0\n",
      "        while threshold > summation:\n",
      "            summation += a_i[count]\n",
      "            count += 1\n",
      "            \n",
      "        # update molecule counts by calling the proper updater\n",
      "        # function. Note, arrays in python are zero index based\n",
      "        # hence we need count-1 to access the proper updater.\n",
      "        molCounts = updaters[count-1](molCounts)\n",
      "\n",
      "        # dump data every outputFreq iteration\n",
      "        # we also print a short progess message \n",
      "        if (iteration % outputFreq) == 0:\n",
      "            if verbose: \n",
      "              print \"iteration %d   time %5.4g\" % (iteration, time)  \n",
      "            \n",
      "            # store \n",
      "            results[\"time\"].append(time)\n",
      "            molCts = np.copy(molCounts)\n",
      "            molConcs = molCts/volume/N_avo\n",
      "            results[\"molCounts\"].append(molCts)\n",
      "            results[\"molConcs\"].append(molConcs)\n",
      "            #print molCounts\n",
      "            #print \"###\",results[\"molCounts\"]\n",
      "            write_data_to_output(fileHandles, time, molConcs)\n",
      "\n",
      "        iteration += 1    \n",
      "\n",
      "    \n",
      "    # cleanup\n",
      "    close_output_files(fileHandles)\n",
      "\n",
      "\n",
      "    # reformat\n",
      "    for key in results.keys():\n",
      "      results[key] = np.asarray( results[key] )\n",
      "   \n",
      "    return results       "
     ],
     "language": "python",
     "metadata": {},
     "outputs": [],
     "prompt_number": 17
    },
    {
     "cell_type": "markdown",
     "metadata": {},
     "source": [
      "### Define input parameters"
     ]
    },
    {
     "cell_type": "code",
     "collapsed": false,
     "input": [
      "\n",
      "###############################################################\n",
      "# initial conditions and variables\n",
      "###############################################################\n",
      "\n",
      "# initial molecule counts\n",
      "A0 = 30110\n",
      "B0 = 20110\n",
      "C0 = 0\n",
      "\n",
      "# Reaction volume\n",
      "volume = 5e-20         # in l\n",
      "\n",
      "\n",
      "# initial rates\n",
      "k1 = 0.024e5           # units are #/(Mol*s)\n",
      "k2 = 0.015e5           # units are 1/s\n",
      "\n"
     ],
     "language": "python",
     "metadata": {},
     "outputs": [],
     "prompt_number": 38
    },
    {
     "cell_type": "markdown",
     "metadata": {},
     "source": [
      "### Simulate "
     ]
    },
    {
     "cell_type": "code",
     "collapsed": false,
     "input": [
      "results = main(\n",
      "  A0 = A0,\n",
      "  B0 = B0,\n",
      "  C0 = C0,\n",
      "  k1 = k1,\n",
      "  k2 = k2,\n",
      "  verbose=True\n",
      ")\n"
     ],
     "language": "python",
     "metadata": {},
     "outputs": [
      {
       "output_type": "stream",
       "stream": "stdout",
       "text": [
        "iteration 0   time 1.77e-08\n",
        "iteration 1000   time 2.199e-05\n",
        "iteration 2000   time 4.468e-05"
       ]
      },
      {
       "output_type": "stream",
       "stream": "stdout",
       "text": [
        "\n",
        "iteration 3000   time 6.821e-05\n",
        "iteration 4000   time 9.311e-05"
       ]
      },
      {
       "output_type": "stream",
       "stream": "stdout",
       "text": [
        "\n",
        "iteration 5000   time 0.000118\n",
        "iteration 6000   time 0.0001438\n",
        "iteration 7000   time 0.0001719"
       ]
      },
      {
       "output_type": "stream",
       "stream": "stdout",
       "text": [
        "\n",
        "iteration 8000   time 0.0001984\n",
        "iteration 9000   time 0.0002253\n",
        "iteration 10000   time 0.0002528"
       ]
      },
      {
       "output_type": "stream",
       "stream": "stdout",
       "text": [
        "\n",
        "iteration 11000   time 0.000282\n",
        "iteration 12000   time 0.0003118\n",
        "iteration 13000   time 0.000341"
       ]
      },
      {
       "output_type": "stream",
       "stream": "stdout",
       "text": [
        "\n",
        "iteration 14000   time 0.0003692\n",
        "iteration 15000   time 0.0004009\n",
        "iteration 16000   time 0.0004318"
       ]
      },
      {
       "output_type": "stream",
       "stream": "stdout",
       "text": [
        "\n",
        "iteration 17000   time 0.0004613\n",
        "iteration 18000   time 0.0004925\n",
        "iteration 19000   time 0.0005242"
       ]
      },
      {
       "output_type": "stream",
       "stream": "stdout",
       "text": [
        "\n",
        "iteration 20000   time 0.000555\n",
        "iteration 21000   time 0.0005874\n",
        "iteration 22000   time 0.000619"
       ]
      },
      {
       "output_type": "stream",
       "stream": "stdout",
       "text": [
        "\n",
        "iteration 23000   time 0.0006514\n",
        "iteration 24000   time 0.0006827\n",
        "iteration 25000   time 0.0007138"
       ]
      },
      {
       "output_type": "stream",
       "stream": "stdout",
       "text": [
        "\n",
        "iteration 26000   time 0.0007457\n",
        "iteration 27000   time 0.0007793\n",
        "iteration 28000   time 0.0008119"
       ]
      },
      {
       "output_type": "stream",
       "stream": "stdout",
       "text": [
        "\n",
        "iteration 29000   time 0.0008439\n",
        "iteration 30000   time 0.0008762\n",
        "iteration 31000   time 0.0009083"
       ]
      },
      {
       "output_type": "stream",
       "stream": "stdout",
       "text": [
        "\n",
        "iteration 32000   time 0.0009419\n",
        "iteration 33000   time 0.0009749\n",
        "iteration 34000   time 0.001006"
       ]
      },
      {
       "output_type": "stream",
       "stream": "stdout",
       "text": [
        "\n",
        "iteration 35000   time 0.001038\n",
        "iteration 36000   time 0.001071\n",
        "iteration 37000   time 0.001103"
       ]
      },
      {
       "output_type": "stream",
       "stream": "stdout",
       "text": [
        "\n",
        "iteration 38000   time 0.001135\n",
        "iteration 39000   time 0.001168\n",
        "iteration 40000   time 0.0012"
       ]
      },
      {
       "output_type": "stream",
       "stream": "stdout",
       "text": [
        "\n",
        "iteration 41000   time 0.001233\n",
        "iteration 42000   time 0.001265\n",
        "iteration 43000   time 0.001298"
       ]
      },
      {
       "output_type": "stream",
       "stream": "stdout",
       "text": [
        "\n",
        "iteration 44000   time 0.001333\n",
        "iteration 45000   time 0.001365"
       ]
      },
      {
       "output_type": "stream",
       "stream": "stdout",
       "text": [
        "\n",
        "iteration 46000   time 0.001398\n",
        "iteration 47000   time 0.001431\n",
        "iteration 48000   time 0.001464"
       ]
      },
      {
       "output_type": "stream",
       "stream": "stdout",
       "text": [
        "\n",
        "iteration 49000   time 0.001496\n",
        "iteration 50000   time 0.00153\n",
        "iteration 51000   time 0.001564"
       ]
      },
      {
       "output_type": "stream",
       "stream": "stdout",
       "text": [
        "\n",
        "iteration 52000   time 0.001596\n",
        "iteration 53000   time 0.001628\n",
        "iteration 54000   time 0.001661"
       ]
      },
      {
       "output_type": "stream",
       "stream": "stdout",
       "text": [
        "\n",
        "iteration 55000   time 0.001693\n",
        "iteration 56000   time 0.001727\n",
        "iteration 57000   time 0.001759"
       ]
      },
      {
       "output_type": "stream",
       "stream": "stdout",
       "text": [
        "\n",
        "iteration 58000   time 0.001792\n",
        "iteration 59000   time 0.001825\n",
        "iteration 60000   time 0.001857"
       ]
      },
      {
       "output_type": "stream",
       "stream": "stdout",
       "text": [
        "\n",
        "iteration 61000   time 0.00189\n",
        "iteration 62000   time 0.001922\n",
        "iteration 63000   time 0.001953"
       ]
      },
      {
       "output_type": "stream",
       "stream": "stdout",
       "text": [
        "\n",
        "iteration 64000   time 0.001986\n",
        "iteration 65000   time 0.002018\n",
        "iteration 66000   time 0.002051"
       ]
      },
      {
       "output_type": "stream",
       "stream": "stdout",
       "text": [
        "\n",
        "iteration 67000   time 0.002083\n",
        "iteration 68000   time 0.002116\n",
        "iteration 69000   time 0.002148"
       ]
      },
      {
       "output_type": "stream",
       "stream": "stdout",
       "text": [
        "\n",
        "iteration 70000   time 0.002181\n",
        "iteration 71000   time 0.002213\n",
        "iteration 72000   time 0.002246"
       ]
      },
      {
       "output_type": "stream",
       "stream": "stdout",
       "text": [
        "\n",
        "iteration 73000   time 0.00228\n",
        "iteration 74000   time 0.002311\n",
        "iteration 75000   time 0.002344"
       ]
      },
      {
       "output_type": "stream",
       "stream": "stdout",
       "text": [
        "\n",
        "iteration 76000   time 0.002376\n",
        "iteration 77000   time 0.002407\n",
        "iteration 78000   time 0.00244"
       ]
      },
      {
       "output_type": "stream",
       "stream": "stdout",
       "text": [
        "\n",
        "iteration 79000   time 0.002473\n",
        "iteration 80000   time 0.002504\n",
        "iteration 81000   time 0.002537"
       ]
      },
      {
       "output_type": "stream",
       "stream": "stdout",
       "text": [
        "\n",
        "iteration 82000   time 0.002567\n",
        "iteration 83000   time 0.002601\n",
        "iteration 84000   time 0.002633"
       ]
      },
      {
       "output_type": "stream",
       "stream": "stdout",
       "text": [
        "\n",
        "iteration 85000   time 0.002666\n",
        "iteration 86000   time 0.0027\n",
        "iteration 87000   time 0.002732"
       ]
      },
      {
       "output_type": "stream",
       "stream": "stdout",
       "text": [
        "\n",
        "iteration 88000   time 0.002765\n",
        "iteration 89000   time 0.002798\n",
        "iteration 90000   time 0.00283"
       ]
      },
      {
       "output_type": "stream",
       "stream": "stdout",
       "text": [
        "\n",
        "iteration 91000   time 0.002862\n",
        "iteration 92000   time 0.002894\n",
        "iteration 93000   time 0.002927"
       ]
      },
      {
       "output_type": "stream",
       "stream": "stdout",
       "text": [
        "\n",
        "iteration 94000   time 0.002959\n",
        "iteration 95000   time 0.002993\n",
        "iteration 96000   time 0.003025"
       ]
      },
      {
       "output_type": "stream",
       "stream": "stdout",
       "text": [
        "\n",
        "iteration 97000   time 0.003059\n",
        "iteration 98000   time 0.003092\n",
        "iteration 99000   time 0.003124"
       ]
      },
      {
       "output_type": "stream",
       "stream": "stdout",
       "text": [
        "\n",
        "iteration 100000   time 0.003156\n",
        "iteration 101000   time 0.003189\n",
        "iteration 102000   time 0.003222"
       ]
      },
      {
       "output_type": "stream",
       "stream": "stdout",
       "text": [
        "\n",
        "iteration 103000   time 0.003254\n",
        "iteration 104000   time 0.003286\n",
        "iteration 105000   time 0.003318"
       ]
      },
      {
       "output_type": "stream",
       "stream": "stdout",
       "text": [
        "\n",
        "iteration 106000   time 0.00335\n",
        "iteration 107000   time 0.003381\n",
        "iteration 108000   time 0.003414"
       ]
      },
      {
       "output_type": "stream",
       "stream": "stdout",
       "text": [
        "\n",
        "iteration 109000   time 0.003447\n",
        "iteration 110000   time 0.00348\n",
        "iteration 111000   time 0.003511"
       ]
      },
      {
       "output_type": "stream",
       "stream": "stdout",
       "text": [
        "\n",
        "iteration 112000   time 0.003543\n",
        "iteration 113000   time 0.003575\n",
        "iteration 114000   time 0.003607"
       ]
      },
      {
       "output_type": "stream",
       "stream": "stdout",
       "text": [
        "\n",
        "iteration 115000   time 0.003641\n",
        "iteration 116000   time 0.003674\n",
        "iteration 117000   time 0.003708"
       ]
      },
      {
       "output_type": "stream",
       "stream": "stdout",
       "text": [
        "\n",
        "iteration 118000   time 0.00374\n",
        "iteration 119000   time 0.00377\n",
        "iteration 120000   time 0.003802"
       ]
      },
      {
       "output_type": "stream",
       "stream": "stdout",
       "text": [
        "\n",
        "iteration 121000   time 0.003835\n",
        "iteration 122000   time 0.003868\n",
        "iteration 123000   time 0.003904"
       ]
      },
      {
       "output_type": "stream",
       "stream": "stdout",
       "text": [
        "\n",
        "iteration 124000   time 0.003937\n",
        "iteration 125000   time 0.00397\n",
        "iteration 126000   time 0.004001"
       ]
      },
      {
       "output_type": "stream",
       "stream": "stdout",
       "text": [
        "\n",
        "iteration 127000   time 0.004034\n",
        "iteration 128000   time 0.004064\n",
        "iteration 129000   time 0.004098"
       ]
      },
      {
       "output_type": "stream",
       "stream": "stdout",
       "text": [
        "\n",
        "iteration 130000   time 0.00413\n",
        "iteration 131000   time 0.004161\n",
        "iteration 132000   time 0.004194"
       ]
      },
      {
       "output_type": "stream",
       "stream": "stdout",
       "text": [
        "\n",
        "iteration 133000   time 0.004227\n",
        "iteration 134000   time 0.00426\n",
        "iteration 135000   time 0.004293"
       ]
      },
      {
       "output_type": "stream",
       "stream": "stdout",
       "text": [
        "\n",
        "iteration 136000   time 0.004326\n",
        "iteration 137000   time 0.004359\n",
        "iteration 138000   time 0.00439"
       ]
      },
      {
       "output_type": "stream",
       "stream": "stdout",
       "text": [
        "\n",
        "iteration 139000   time 0.004422\n",
        "iteration 140000   time 0.004455\n",
        "iteration 141000   time 0.004488"
       ]
      },
      {
       "output_type": "stream",
       "stream": "stdout",
       "text": [
        "\n",
        "iteration 142000   time 0.004518\n",
        "iteration 143000   time 0.004551\n",
        "iteration 144000   time 0.004582"
       ]
      },
      {
       "output_type": "stream",
       "stream": "stdout",
       "text": [
        "\n",
        "iteration 145000   time 0.004615\n",
        "iteration 146000   time 0.004648\n",
        "iteration 147000   time 0.004679"
       ]
      },
      {
       "output_type": "stream",
       "stream": "stdout",
       "text": [
        "\n",
        "iteration 148000   time 0.004712\n",
        "iteration 149000   time 0.004745\n",
        "iteration 150000   time 0.004777"
       ]
      },
      {
       "output_type": "stream",
       "stream": "stdout",
       "text": [
        "\n",
        "iteration 151000   time 0.004808\n",
        "iteration 152000   time 0.004841\n",
        "iteration 153000   time 0.004872"
       ]
      },
      {
       "output_type": "stream",
       "stream": "stdout",
       "text": [
        "\n",
        "iteration 154000   time 0.004905\n",
        "iteration 155000   time 0.004939\n",
        "iteration 156000   time 0.004972"
       ]
      },
      {
       "output_type": "stream",
       "stream": "stdout",
       "text": [
        "\n",
        "iteration 157000   time 0.005004\n",
        "iteration 158000   time 0.005035\n",
        "iteration 159000   time 0.005068"
       ]
      },
      {
       "output_type": "stream",
       "stream": "stdout",
       "text": [
        "\n",
        "iteration 160000   time 0.005101\n",
        "iteration 161000   time 0.005134\n",
        "iteration 162000   time 0.005166"
       ]
      },
      {
       "output_type": "stream",
       "stream": "stdout",
       "text": [
        "\n",
        "iteration 163000   time 0.005199\n",
        "iteration 164000   time 0.005233\n",
        "iteration 165000   time 0.005266"
       ]
      },
      {
       "output_type": "stream",
       "stream": "stdout",
       "text": [
        "\n",
        "iteration 166000   time 0.005298\n",
        "iteration 167000   time 0.005332\n",
        "iteration 168000   time 0.005364"
       ]
      },
      {
       "output_type": "stream",
       "stream": "stdout",
       "text": [
        "\n",
        "iteration 169000   time 0.005397\n",
        "iteration 170000   time 0.005431\n",
        "iteration 171000   time 0.005464"
       ]
      },
      {
       "output_type": "stream",
       "stream": "stdout",
       "text": [
        "\n",
        "iteration 172000   time 0.005498\n",
        "iteration 173000   time 0.00553\n",
        "iteration 174000   time 0.005563"
       ]
      },
      {
       "output_type": "stream",
       "stream": "stdout",
       "text": [
        "\n",
        "iteration 175000   time 0.005596\n",
        "iteration 176000   time 0.005627\n",
        "iteration 177000   time 0.005659"
       ]
      },
      {
       "output_type": "stream",
       "stream": "stdout",
       "text": [
        "\n",
        "iteration 178000   time 0.005689\n",
        "iteration 179000   time 0.005721\n",
        "iteration 180000   time 0.005753"
       ]
      },
      {
       "output_type": "stream",
       "stream": "stdout",
       "text": [
        "\n",
        "iteration 181000   time 0.005787\n",
        "iteration 182000   time 0.005817\n",
        "iteration 183000   time 0.005851"
       ]
      },
      {
       "output_type": "stream",
       "stream": "stdout",
       "text": [
        "\n",
        "iteration 184000   time 0.005883\n",
        "iteration 185000   time 0.005916"
       ]
      },
      {
       "output_type": "stream",
       "stream": "stdout",
       "text": [
        "\n",
        "iteration 186000   time 0.005948\n",
        "iteration 187000   time 0.00598\n",
        "iteration 188000   time 0.006012"
       ]
      },
      {
       "output_type": "stream",
       "stream": "stdout",
       "text": [
        "\n",
        "iteration 189000   time 0.006045\n",
        "iteration 190000   time 0.006076\n",
        "iteration 191000   time 0.006109"
       ]
      },
      {
       "output_type": "stream",
       "stream": "stdout",
       "text": [
        "\n",
        "iteration 192000   time 0.006142\n",
        "iteration 193000   time 0.006173\n",
        "iteration 194000   time 0.006206"
       ]
      },
      {
       "output_type": "stream",
       "stream": "stdout",
       "text": [
        "\n",
        "iteration 195000   time 0.00624\n",
        "iteration 196000   time 0.006274\n",
        "iteration 197000   time 0.006308"
       ]
      },
      {
       "output_type": "stream",
       "stream": "stdout",
       "text": [
        "\n",
        "iteration 198000   time 0.006339\n",
        "iteration 199000   time 0.00637\n",
        "iteration 200000   time 0.006402"
       ]
      },
      {
       "output_type": "stream",
       "stream": "stdout",
       "text": [
        "\n",
        "iteration 201000   time 0.006436\n",
        "iteration 202000   time 0.006469\n",
        "iteration 203000   time 0.006501"
       ]
      },
      {
       "output_type": "stream",
       "stream": "stdout",
       "text": [
        "\n",
        "iteration 204000   time 0.006532\n",
        "iteration 205000   time 0.006565\n",
        "iteration 206000   time 0.006597"
       ]
      },
      {
       "output_type": "stream",
       "stream": "stdout",
       "text": [
        "\n",
        "iteration 207000   time 0.006629\n",
        "iteration 208000   time 0.006662\n",
        "iteration 209000   time 0.006695"
       ]
      },
      {
       "output_type": "stream",
       "stream": "stdout",
       "text": [
        "\n",
        "iteration 210000   time 0.006728\n",
        "iteration 211000   time 0.006761\n",
        "iteration 212000   time 0.006797"
       ]
      },
      {
       "output_type": "stream",
       "stream": "stdout",
       "text": [
        "\n",
        "iteration 213000   time 0.00683\n",
        "iteration 214000   time 0.006864\n",
        "iteration 215000   time 0.006898"
       ]
      },
      {
       "output_type": "stream",
       "stream": "stdout",
       "text": [
        "\n",
        "iteration 216000   time 0.00693\n",
        "iteration 217000   time 0.006962\n",
        "iteration 218000   time 0.006995"
       ]
      },
      {
       "output_type": "stream",
       "stream": "stdout",
       "text": [
        "\n",
        "iteration 219000   time 0.007027\n",
        "iteration 220000   time 0.007059\n",
        "iteration 221000   time 0.007091"
       ]
      },
      {
       "output_type": "stream",
       "stream": "stdout",
       "text": [
        "\n",
        "iteration 222000   time 0.007122\n",
        "iteration 223000   time 0.007153\n",
        "iteration 224000   time 0.007186"
       ]
      },
      {
       "output_type": "stream",
       "stream": "stdout",
       "text": [
        "\n",
        "iteration 225000   time 0.007219\n",
        "iteration 226000   time 0.007251\n",
        "iteration 227000   time 0.007283"
       ]
      },
      {
       "output_type": "stream",
       "stream": "stdout",
       "text": [
        "\n",
        "iteration 228000   time 0.007316\n",
        "iteration 229000   time 0.007348\n",
        "iteration 230000   time 0.007381"
       ]
      },
      {
       "output_type": "stream",
       "stream": "stdout",
       "text": [
        "\n",
        "iteration 231000   time 0.007413\n",
        "iteration 232000   time 0.007445\n",
        "iteration 233000   time 0.007476"
       ]
      },
      {
       "output_type": "stream",
       "stream": "stdout",
       "text": [
        "\n",
        "iteration 234000   time 0.007508\n",
        "iteration 235000   time 0.007542\n",
        "iteration 236000   time 0.007574"
       ]
      },
      {
       "output_type": "stream",
       "stream": "stdout",
       "text": [
        "\n",
        "iteration 237000   time 0.007606\n",
        "iteration 238000   time 0.007637\n",
        "iteration 239000   time 0.00767"
       ]
      },
      {
       "output_type": "stream",
       "stream": "stdout",
       "text": [
        "\n",
        "iteration 240000   time 0.007703\n",
        "iteration 241000   time 0.007735\n",
        "iteration 242000   time 0.007768"
       ]
      },
      {
       "output_type": "stream",
       "stream": "stdout",
       "text": [
        "\n",
        "iteration 243000   time 0.007801\n",
        "iteration 244000   time 0.007833\n",
        "iteration 245000   time 0.007864"
       ]
      },
      {
       "output_type": "stream",
       "stream": "stdout",
       "text": [
        "\n",
        "iteration 246000   time 0.007897\n",
        "iteration 247000   time 0.007929\n",
        "iteration 248000   time 0.007963"
       ]
      },
      {
       "output_type": "stream",
       "stream": "stdout",
       "text": [
        "\n",
        "iteration 249000   time 0.007994\n",
        "iteration 250000   time 0.008028\n",
        "iteration 251000   time 0.008059"
       ]
      },
      {
       "output_type": "stream",
       "stream": "stdout",
       "text": [
        "\n",
        "iteration 252000   time 0.00809\n",
        "iteration 253000   time 0.008123\n",
        "iteration 254000   time 0.008156"
       ]
      },
      {
       "output_type": "stream",
       "stream": "stdout",
       "text": [
        "\n",
        "iteration 255000   time 0.008186\n",
        "iteration 256000   time 0.008217\n",
        "iteration 257000   time 0.008249"
       ]
      },
      {
       "output_type": "stream",
       "stream": "stdout",
       "text": [
        "\n",
        "iteration 258000   time 0.008282\n",
        "iteration 259000   time 0.008315\n",
        "iteration 260000   time 0.008347"
       ]
      },
      {
       "output_type": "stream",
       "stream": "stdout",
       "text": [
        "\n",
        "iteration 261000   time 0.008379\n",
        "iteration 262000   time 0.008409\n",
        "iteration 263000   time 0.008442"
       ]
      },
      {
       "output_type": "stream",
       "stream": "stdout",
       "text": [
        "\n",
        "iteration 264000   time 0.008476\n",
        "iteration 265000   time 0.008507\n",
        "iteration 266000   time 0.00854"
       ]
      },
      {
       "output_type": "stream",
       "stream": "stdout",
       "text": [
        "\n",
        "iteration 267000   time 0.008573\n",
        "iteration 268000   time 0.008604\n",
        "iteration 269000   time 0.008635"
       ]
      },
      {
       "output_type": "stream",
       "stream": "stdout",
       "text": [
        "\n",
        "iteration 270000   time 0.008667\n",
        "iteration 271000   time 0.0087\n",
        "iteration 272000   time 0.008732"
       ]
      },
      {
       "output_type": "stream",
       "stream": "stdout",
       "text": [
        "\n",
        "iteration 273000   time 0.008764\n",
        "iteration 274000   time 0.008796\n",
        "iteration 275000   time 0.008828"
       ]
      },
      {
       "output_type": "stream",
       "stream": "stdout",
       "text": [
        "\n",
        "iteration 276000   time 0.008858\n",
        "iteration 277000   time 0.008889\n",
        "iteration 278000   time 0.00892"
       ]
      },
      {
       "output_type": "stream",
       "stream": "stdout",
       "text": [
        "\n",
        "iteration 279000   time 0.008953\n",
        "iteration 280000   time 0.008985\n",
        "iteration 281000   time 0.009017"
       ]
      },
      {
       "output_type": "stream",
       "stream": "stdout",
       "text": [
        "\n",
        "iteration 282000   time 0.00905\n",
        "iteration 283000   time 0.009083\n",
        "iteration 284000   time 0.009116"
       ]
      },
      {
       "output_type": "stream",
       "stream": "stdout",
       "text": [
        "\n",
        "iteration 285000   time 0.009149\n",
        "iteration 286000   time 0.00918\n",
        "iteration 287000   time 0.009215"
       ]
      },
      {
       "output_type": "stream",
       "stream": "stdout",
       "text": [
        "\n",
        "iteration 288000   time 0.009248\n",
        "iteration 289000   time 0.00928\n",
        "iteration 290000   time 0.009314"
       ]
      },
      {
       "output_type": "stream",
       "stream": "stdout",
       "text": [
        "\n",
        "iteration 291000   time 0.009346\n",
        "iteration 292000   time 0.009378\n",
        "iteration 293000   time 0.009411"
       ]
      },
      {
       "output_type": "stream",
       "stream": "stdout",
       "text": [
        "\n",
        "iteration 294000   time 0.009444\n",
        "iteration 295000   time 0.009475\n",
        "iteration 296000   time 0.009508"
       ]
      },
      {
       "output_type": "stream",
       "stream": "stdout",
       "text": [
        "\n",
        "iteration 297000   time 0.00954\n",
        "iteration 298000   time 0.009573\n",
        "iteration 299000   time 0.009605"
       ]
      },
      {
       "output_type": "stream",
       "stream": "stdout",
       "text": [
        "\n",
        "iteration 300000   time 0.009638\n",
        "iteration 301000   time 0.009671\n",
        "iteration 302000   time 0.009703"
       ]
      },
      {
       "output_type": "stream",
       "stream": "stdout",
       "text": [
        "\n",
        "iteration 303000   time 0.009736\n",
        "iteration 304000   time 0.00977\n",
        "iteration 305000   time 0.009803"
       ]
      },
      {
       "output_type": "stream",
       "stream": "stdout",
       "text": [
        "\n",
        "iteration 306000   time 0.009835\n",
        "iteration 307000   time 0.009868\n",
        "iteration 308000   time 0.009899"
       ]
      },
      {
       "output_type": "stream",
       "stream": "stdout",
       "text": [
        "\n",
        "iteration 309000   time 0.009931\n",
        "iteration 310000   time 0.009962\n",
        "iteration 311000   time 0.009996"
       ]
      },
      {
       "output_type": "stream",
       "stream": "stdout",
       "text": [
        "\n"
       ]
      }
     ],
     "prompt_number": 39
    },
    {
     "cell_type": "markdown",
     "metadata": {},
     "source": [
      "### Load and plot results "
     ]
    },
    {
     "cell_type": "code",
     "collapsed": false,
     "input": [
      "ts = results['time']\n",
      "molCounts = results['molCounts']\n",
      "molConcs = results['molConcs']"
     ],
     "language": "python",
     "metadata": {},
     "outputs": [],
     "prompt_number": 40
    },
    {
     "cell_type": "code",
     "collapsed": false,
     "input": [
      "plt.figure()\n",
      "for i in np.arange(3):\n",
      "  plt.plot(ts,molCounts[:,i],label=\"Species %d\"%i)\n",
      "plt.xlabel(\"Count\")\n",
      "plt.ylabel(\"time\")\n",
      "plt.legend()\n",
      "\n",
      "\n",
      "plt.figure()\n",
      "for i in np.arange(3):\n",
      "  plt.plot(ts,molConcs[:,i],label=\"Species %d\"%i)\n",
      "plt.xlabel(\"Count\")\n",
      "plt.ylabel(\"time\")\n"
     ],
     "language": "python",
     "metadata": {},
     "outputs": [
      {
       "metadata": {},
       "output_type": "pyout",
       "prompt_number": 41,
       "text": [
        "<matplotlib.text.Text at 0x7fb661b8bc10>"
       ]
      },
      {
       "metadata": {},
       "output_type": "display_data",
       "png": "[encoded data removed]",
       "text": [
        "<matplotlib.figure.Figure at 0x7fb661a19ed0>"
       ]
      },
      {
       "metadata": {},
       "output_type": "display_data",
       "png": "[encoded data removed]",
       "text": [
        "<matplotlib.figure.Figure at 0x7fb66193aa10>"
       ]
      }
     ],
     "prompt_number": 41
    },
    {
     "cell_type": "code",
     "collapsed": false,
     "input": [],
     "language": "python",
     "metadata": {},
     "outputs": []
    }
   ],
   "metadata": {}
  }
 ]
}