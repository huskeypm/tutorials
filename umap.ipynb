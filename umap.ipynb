{
  "cells": [
    {
      "cell_type": "markdown",
      "metadata": {
        "id": "view-in-github",
        "colab_type": "text"
      },
      "source": [
        "<a href=\"https://colab.research.google.com/github/huskeypm/tutorials/blob/master/umap.ipynb\" target=\"_parent\"><img src=\"https://colab.research.google.com/assets/colab-badge.svg\" alt=\"Open In Colab\"/></a>"
      ]
    },
    {
      "cell_type": "markdown",
      "source": [
        "# UMAP tutorial for unsupervised ML"
      ],
      "metadata": {
        "id": "a5Cnpivscz7d"
      }
    },
    {
      "cell_type": "markdown",
      "source": [
        "## Installations and loading libraries"
      ],
      "metadata": {
        "id": "a62Rjcadc5HO"
      }
    },
    {
      "cell_type": "code",
      "execution_count": 1,
      "metadata": {
        "colab": {
          "base_uri": "https://localhost:8080/"
        },
        "id": "fnwh6TWtWjUf",
        "outputId": "893531cb-3b78-499a-cd7d-23ee2cbca335"
      },
      "outputs": [
        {
          "output_type": "stream",
          "name": "stdout",
          "text": [
            "Collecting umap-learn\n",
            "  Downloading umap_learn-0.5.6-py3-none-any.whl (85 kB)\n",
            "\u001b[2K     \u001b[90m━━━━━━━━━━━━━━━━━━━━━━━━━━━━━━━━━━━━━━━━\u001b[0m \u001b[32m85.7/85.7 kB\u001b[0m \u001b[31m1.5 MB/s\u001b[0m eta \u001b[36m0:00:00\u001b[0m\n",
            "\u001b[?25hRequirement already satisfied: numpy>=1.17 in /usr/local/lib/python3.10/dist-packages (from umap-learn) (1.25.2)\n",
            "Requirement already satisfied: scipy>=1.3.1 in /usr/local/lib/python3.10/dist-packages (from umap-learn) (1.11.4)\n",
            "Requirement already satisfied: scikit-learn>=0.22 in /usr/local/lib/python3.10/dist-packages (from umap-learn) (1.2.2)\n",
            "Requirement already satisfied: numba>=0.51.2 in /usr/local/lib/python3.10/dist-packages (from umap-learn) (0.58.1)\n",
            "Collecting pynndescent>=0.5 (from umap-learn)\n",
            "  Downloading pynndescent-0.5.12-py3-none-any.whl (56 kB)\n",
            "\u001b[2K     \u001b[90m━━━━━━━━━━━━━━━━━━━━━━━━━━━━━━━━━━━━━━━━\u001b[0m \u001b[32m56.8/56.8 kB\u001b[0m \u001b[31m2.9 MB/s\u001b[0m eta \u001b[36m0:00:00\u001b[0m\n",
            "\u001b[?25hRequirement already satisfied: tqdm in /usr/local/lib/python3.10/dist-packages (from umap-learn) (4.66.2)\n",
            "Requirement already satisfied: llvmlite<0.42,>=0.41.0dev0 in /usr/local/lib/python3.10/dist-packages (from numba>=0.51.2->umap-learn) (0.41.1)\n",
            "Requirement already satisfied: joblib>=0.11 in /usr/local/lib/python3.10/dist-packages (from pynndescent>=0.5->umap-learn) (1.4.0)\n",
            "Requirement already satisfied: threadpoolctl>=2.0.0 in /usr/local/lib/python3.10/dist-packages (from scikit-learn>=0.22->umap-learn) (3.5.0)\n",
            "Installing collected packages: pynndescent, umap-learn\n",
            "Successfully installed pynndescent-0.5.12 umap-learn-0.5.6\n"
          ]
        }
      ],
      "source": [
        "!pip install umap-learn"
      ]
    },
    {
      "cell_type": "code",
      "execution_count": 5,
      "metadata": {
        "id": "MZJLv-fyXq09"
      },
      "outputs": [],
      "source": [
        "import numpy as np\n",
        "import pandas as pd\n",
        "import matplotlib.pylab as plt"
      ]
    },
    {
      "cell_type": "code",
      "source": [],
      "metadata": {
        "id": "41lWHfq-YJ0P"
      },
      "execution_count": null,
      "outputs": []
    },
    {
      "cell_type": "markdown",
      "source": [
        "## Generating data with gaussian distributed random values"
      ],
      "metadata": {
        "id": "Goi3Eu6KYKrs"
      }
    },
    {
      "cell_type": "code",
      "execution_count": 12,
      "metadata": {
        "id": "J3-RsrgRZoeb",
        "colab": {
          "base_uri": "https://localhost:8080/",
          "height": 517
        },
        "outputId": "3c187f82-c1e2-4a85-b94d-5c2ed7b9f258"
      },
      "outputs": [
        {
          "output_type": "execute_result",
          "data": {
            "text/plain": [
              "(array([ 22., 223., 224.,  31.,   0.,   0.,  13., 173., 259.,  55.]),\n",
              " array([-1.65334547, -0.84417999, -0.0350145 ,  0.77415098,  1.58331646,\n",
              "         2.39248194,  3.20164742,  4.0108129 ,  4.81997838,  5.62914386,\n",
              "         6.43830934]),\n",
              " <BarContainer object of 10 artists>)"
            ]
          },
          "metadata": {},
          "execution_count": 12
        },
        {
          "output_type": "display_data",
          "data": {
            "text/plain": [
              "<Figure size 640x480 with 1 Axes>"
            ],
            "image/png": "[encoded data removed]"
          },
          "metadata": {}
        }
      ],
      "source": [
        "nDataPoints = 1000\n",
        "nDataPointsHalf = int(nDataPoints/2)\n",
        "# two distributions that differ by mean\n",
        "sigma=1.\n",
        "xs1 = np.random.randn( nDataPointsHalf)/(2*sigma**2)\n",
        "xs2 = 5 + np.random.randn(nDataPointsHalf)/(2*sigma**2)\n",
        "xs = np.concatenate([xs1,xs2])\n",
        "\n",
        "# y component\n",
        "sigma=0.5\n",
        "ys = np.random.randn(nDataPoints)/(2*sigma**2)\n",
        "\n",
        "\n",
        "plt.hist(xs)\n"
      ]
    },
    {
      "cell_type": "code",
      "source": [],
      "metadata": {
        "id": "tHbUxC6EZTHe"
      },
      "execution_count": null,
      "outputs": []
    },
    {
      "cell_type": "markdown",
      "source": [
        "## Create dataframe.\n",
        "This is a little bit of extra work, but well worth it since we can do lots of custom/fun things with these objects"
      ],
      "metadata": {
        "id": "QsaIfvtZZT6l"
      }
    },
    {
      "cell_type": "code",
      "source": [
        "df = pd.DataFrame(xs, columns=['x'])\n",
        "df['y']  = ys\n",
        "\n",
        "df.to_csv('mydata.csv')\n"
      ],
      "metadata": {
        "id": "AkuHoOrxZIAo"
      },
      "execution_count": 15,
      "outputs": []
    },
    {
      "cell_type": "markdown",
      "source": [
        "reading csv file so we have a template for your own tinkering around"
      ],
      "metadata": {
        "id": "l6Kv2L_rZj2a"
      }
    },
    {
      "cell_type": "code",
      "source": [
        "df = pd.read_csv('mydata.csv')"
      ],
      "metadata": {
        "id": "OX1stp47Zoct"
      },
      "execution_count": 17,
      "outputs": []
    },
    {
      "cell_type": "code",
      "source": [],
      "metadata": {
        "id": "oCKuDYo3bb6S"
      },
      "execution_count": null,
      "outputs": []
    },
    {
      "cell_type": "markdown",
      "source": [
        "## Create UMAP embedding with the data"
      ],
      "metadata": {
        "id": "O_eHUfX1bcdq"
      }
    },
    {
      "cell_type": "code",
      "execution_count": 18,
      "metadata": {
        "id": "KrIs66gaW_W3"
      },
      "outputs": [],
      "source": [
        "import umap\n",
        "reducer = umap.UMAP()\n"
      ]
    },
    {
      "cell_type": "code",
      "source": [
        "# Extract numerical features\n",
        "features = df[['x', 'y']].to_numpy()"
      ],
      "metadata": {
        "id": "xVwTIJ5yaSXU"
      },
      "execution_count": 19,
      "outputs": []
    },
    {
      "cell_type": "code",
      "execution_count": 20,
      "metadata": {
        "id": "FfdCNLBgXY0H"
      },
      "outputs": [],
      "source": [
        "embedding = reducer.fit_transform( features )"
      ]
    },
    {
      "cell_type": "code",
      "execution_count": null,
      "metadata": {
        "id": "4GqqOCk5ayS5"
      },
      "outputs": [],
      "source": []
    },
    {
      "cell_type": "markdown",
      "source": [
        "Recall that we set the first half of the points to $\\mu=0$, whereas second half has $\\mu = 5$"
      ],
      "metadata": {
        "id": "nv1Se0HgarZG"
      }
    },
    {
      "cell_type": "code",
      "execution_count": 24,
      "metadata": {
        "colab": {
          "base_uri": "https://localhost:8080/",
          "height": 447
        },
        "id": "0YQb6AYBanfy",
        "outputId": "aacd633d-458c-4750-d76e-de5644412b29"
      },
      "outputs": [
        {
          "output_type": "execute_result",
          "data": {
            "text/plain": [
              "<matplotlib.collections.PathCollection at 0x79865b7a0f70>"
            ]
          },
          "metadata": {},
          "execution_count": 24
        },
        {
          "output_type": "display_data",
          "data": {
            "text/plain": [
              "<Figure size 640x480 with 1 Axes>"
            ],
            "image/png": "[encoded data removed]"
          },
          "metadata": {}
        }
      ],
      "source": [
        "plt.scatter( embedding[0:nDataPointsHalf,0],embedding[0:nDataPointsHalf,1],facecolor='b' )\n",
        "plt.scatter( embedding[nDataPointsHalf:-1,0],embedding[nDataPointsHalf:-1,1],facecolor='r' )\n"
      ]
    },
    {
      "cell_type": "code",
      "execution_count": null,
      "metadata": {
        "id": "lcG7MPVSaxfB",
        "outputId": "fb91dbb8-5c21-435e-c01e-35a5ea9d0432",
        "colab": {
          "base_uri": "https://localhost:8080/"
        }
      },
      "outputs": [
        {
          "output_type": "execute_result",
          "data": {
            "text/plain": [
              "array([[ 0],\n",
              "       [ 1],\n",
              "       [ 2],\n",
              "       [ 4],\n",
              "       [ 8],\n",
              "       [11],\n",
              "       [12],\n",
              "       [19],\n",
              "       [24],\n",
              "       [25],\n",
              "       [26],\n",
              "       [27],\n",
              "       [34],\n",
              "       [35],\n",
              "       [37],\n",
              "       [39]])"
            ]
          },
          "metadata": {},
          "execution_count": 27
        }
      ],
      "source": [
        "\n"
      ]
    },
    {
      "cell_type": "markdown",
      "source": [],
      "metadata": {
        "id": "SBgMCa8wbnkY"
      }
    },
    {
      "cell_type": "markdown",
      "source": [
        "## More complex example\n",
        "Last example just had two degrees of freedom (DOFs), so UMAP was overkill when compared to standard techniques like principal component analysis. Here we add several more DOFs."
      ],
      "metadata": {
        "id": "VzGtSzOLbppn"
      }
    },
    {
      "cell_type": "code",
      "source": [
        "# two distributions that differ by mean\n",
        "sigma=0.5\n",
        "zs1 = np.random.randn( nDataPointsHalf)/(2*sigma**2)\n",
        "zs2 = 3 + np.random.randn(nDataPointsHalf)/(2*sigma**2)\n",
        "zs = np.concatenate([zs1,zs2])\n",
        "df['z']=zs\n",
        "\n",
        "# addl components\n",
        "\n",
        "sigma=0.5\n",
        "js = np.random.randn(nDataPoints)/(2*sigma**2)\n",
        "df['j'] = js"
      ],
      "metadata": {
        "id": "jn0Wk7mYbqGt"
      },
      "execution_count": 26,
      "outputs": []
    },
    {
      "cell_type": "code",
      "source": [
        "features = df.to_numpy()\n",
        "embedding = reducer.fit_transform( features )\n",
        "print(np.shape(features))"
      ],
      "metadata": {
        "colab": {
          "base_uri": "https://localhost:8080/"
        },
        "id": "HcHmB9MGcSAB",
        "outputId": "046dc03a-71d8-47c7-cc29-9bd22f0f10e0"
      },
      "execution_count": 30,
      "outputs": [
        {
          "output_type": "stream",
          "name": "stdout",
          "text": [
            "(1000, 5)\n"
          ]
        }
      ]
    },
    {
      "cell_type": "code",
      "source": [
        "plt.scatter( embedding[0:nDataPointsHalf,0],embedding[0:nDataPointsHalf,1],facecolor='b' )\n",
        "plt.scatter( embedding[nDataPointsHalf:-1,0],embedding[nDataPointsHalf:-1,1],facecolor='r' )\n"
      ],
      "metadata": {
        "colab": {
          "base_uri": "https://localhost:8080/",
          "height": 447
        },
        "id": "HAGmj_YqcWR0",
        "outputId": "fefc85c2-fe91-4413-84a8-84fa9f202f1e"
      },
      "execution_count": 29,
      "outputs": [
        {
          "output_type": "execute_result",
          "data": {
            "text/plain": [
              "<matplotlib.collections.PathCollection at 0x79865c6f7820>"
            ]
          },
          "metadata": {},
          "execution_count": 29
        },
        {
          "output_type": "display_data",
          "data": {
            "text/plain": [
              "<Figure size 640x480 with 1 Axes>"
            ],
            "image/png": "[encoded data removed]"
          },
          "metadata": {}
        }
      ]
    },
    {
      "cell_type": "code",
      "source": [
        "## Got"
      ],
      "metadata": {
        "id": "f4jRy1pXcb9V"
      },
      "execution_count": null,
      "outputs": []
    },
    {
      "cell_type": "markdown",
      "source": [
        "## Got data?\n",
        "Try your own dataset (csv?)"
      ],
      "metadata": {
        "id": "0-1AlVmPcuLA"
      }
    },
    {
      "cell_type": "code",
      "source": [],
      "metadata": {
        "id": "A9h-FrtMcxzb"
      },
      "execution_count": null,
      "outputs": []
    }
  ],
  "metadata": {
    "colab": {
      "provenance": [],
      "authorship_tag": "ABX9TyM9buNN3eucn2OxBSPEqn8X",
      "include_colab_link": true
    },
    "kernelspec": {
      "display_name": "Python 3",
      "name": "python3"
    },
    "language_info": {
      "name": "python"
    }
  },
  "nbformat": 4,
  "nbformat_minor": 0
}