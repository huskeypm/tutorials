{
 "cells": [
  {
   "cell_type": "markdown",
   "metadata": {},
   "source": [
    "Assumes I've opened a pdbqt file from autodock vina and saved it to a pdb file using pymol'"
   ]
  },
  {
   "cell_type": "markdown",
   "metadata": {},
   "source": [
    "Read in file"
   ]
  },
  {
   "cell_type": "code",
   "execution_count": 25,
   "metadata": {
    "collapsed": false
   },
   "outputs": [],
   "source": [
    "root = \"/Users/huskeypm/Downloads/\"\n",
    "fname=root+\"smaller.pdb\""
   ]
  },
  {
   "cell_type": "code",
   "execution_count": 16,
   "metadata": {
    "collapsed": true
   },
   "outputs": [],
   "source": [
    "with open(fname) as f:\n",
    "    content = f.readlines()\n",
    "# you may also want to remove whitespace characters like `\\n` at the end of each line\n",
    "content = [x.strip() for x in content] "
   ]
  },
  {
   "cell_type": "markdown",
   "metadata": {},
   "source": [
    "Store each molecule in dictionary as arrays"
   ]
  },
  {
   "cell_type": "code",
   "execution_count": 22,
   "metadata": {
    "collapsed": false
   },
   "outputs": [
    {
     "name": "stdout",
     "output_type": "stream",
     "text": [
      "New model! 1\n",
      "New model! 2\n",
      "New model! 3\n",
      "New model! 4\n",
      "New model! 5\n",
      "New model! 6\n",
      "New model! 7\n",
      "New model! 8\n",
      "New model! 9\n",
      "New model! 10\n",
      "New model! 11\n",
      "New model! 12\n",
      "New model! 13\n",
      "New model! 14\n",
      "New model! 15\n",
      "New model! 16\n",
      "New model! 17\n",
      "New model! 18\n",
      "New model! 19\n",
      "New model! 20\n",
      "New model! 21\n",
      "New model! 22\n",
      "New model! 23\n",
      "New model! 24\n",
      "New model! 25\n",
      "New model! 26\n",
      "New model! 27\n",
      "New model! 28\n",
      "New model! 29\n",
      "New model! 30\n",
      "New model! 31\n",
      "New model! 32\n",
      "New model! 33\n",
      "New model! 34\n"
     ]
    }
   ],
   "source": [
    "i=0\n",
    "allfiles = dict()\n",
    "for line in content:\n",
    "    if 'MODEL' in line:\n",
    "        i+=1\n",
    "        print \"New model!\", i\n",
    "        allfiles[i]=[]\n",
    "    if 'ATOM' in line:\n",
    "        allfiles[i].append(line)"
   ]
  },
  {
   "cell_type": "markdown",
   "metadata": {},
   "source": [
    "Iterate over array and save each entry as separate file "
   ]
  },
  {
   "cell_type": "code",
   "execution_count": 26,
   "metadata": {
    "collapsed": false
   },
   "outputs": [],
   "source": [
    "#allfiles[2]\n"
   ]
  },
  {
   "cell_type": "code",
   "execution_count": 31,
   "metadata": {
    "collapsed": false
   },
   "outputs": [],
   "source": [
    "for i,ar in allfiles.iteritems():\n",
    "    outName=root+\"x%.3d.pdb\"%i\n",
    "    file=open(outName,'w')\n",
    "    file.writelines([\"%s\\n\" % item  for item in ar])\n",
    "    file.close()"
   ]
  },
  {
   "cell_type": "code",
   "execution_count": null,
   "metadata": {
    "collapsed": true
   },
   "outputs": [],
   "source": []
  }
 ],
 "metadata": {
  "kernelspec": {
   "display_name": "Python 2",
   "language": "python",
   "name": "python2"
  },
  "language_info": {
   "codemirror_mode": {
    "name": "ipython",
    "version": 2
   },
   "file_extension": ".py",
   "mimetype": "text/x-python",
   "name": "python",
   "nbconvert_exporter": "python",
   "pygments_lexer": "ipython2",
   "version": "2.7.13"
  }
 },
 "nbformat": 4,
 "nbformat_minor": 2
}
