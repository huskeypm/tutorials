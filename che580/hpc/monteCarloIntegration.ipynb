{
 "metadata": {
  "name": "",
  "signature": "sha256:8d117e8b5aa4e621b5a2e6175225084699721d8fd3154e10b48ca99a488e12df"
 },
 "nbformat": 3,
 "nbformat_minor": 0,
 "worksheets": [
  {
   "cells": [
    {
     "cell_type": "markdown",
     "metadata": {},
     "source": [
      "Adapt from http://code.activestate.com/recipes/577263-numerical-integration-using-monte-carlo-method/"
     ]
    },
    {
     "cell_type": "code",
     "collapsed": false,
     "input": [
      "# Numerical Integration using Monte Carlo method\n",
      "# FB - 201006137\n",
      "import math\n",
      "import random\n"
     ],
     "language": "python",
     "metadata": {},
     "outputs": [],
     "prompt_number": 31
    },
    {
     "cell_type": "markdown",
     "metadata": {},
     "source": [
      "### Function to integrate"
     ]
    },
    {
     "cell_type": "code",
     "collapsed": false,
     "input": [
      "def f(x):\n",
      "    return math.sin(x)\n",
      "    #return math.sin(x)*math.exp(-x)\n"
     ],
     "language": "python",
     "metadata": {},
     "outputs": [],
     "prompt_number": 49
    },
    {
     "cell_type": "code",
     "collapsed": false,
     "input": [
      "# define any xmin-xmax interval here! (xmin < xmax)\n",
      "xmin = 0.0\n",
      "xmax = 2.0 * math.pi\n",
      "\n",
      "# find ymin-ymax for corresponding xmin/xmax\n",
      "numSteps = 1e3 # bigger the better but slower!\n",
      "ymin = f(xmin)\n",
      "ymax = ymin\n",
      "for i in range(np.int(numSteps)):\n",
      "    x = xmin + (xmax - xmin) * float(i) / numSteps\n",
      "    y = f(x)\n",
      "    if y < ymin: ymin = y\n",
      "    if y > ymax: ymax = y\n",
      "#print ymin, ymax        "
     ],
     "language": "python",
     "metadata": {},
     "outputs": [],
     "prompt_number": 50
    },
    {
     "cell_type": "markdown",
     "metadata": {},
     "source": [
      "### Monte Carlo"
     ]
    },
    {
     "cell_type": "code",
     "collapsed": false,
     "input": [
      "rectArea = (xmax - xmin) * (ymax - ymin)\n",
      "numPoints = 1e4 # bigger the better but slower!\n",
      "ctr = 0\n",
      "p = [] # for storing data \n",
      "n = []\n",
      "for j in range(np.int(numPoints)):\n",
      "    x = xmin + (xmax - xmin) * random.random()\n",
      "    y = ymin + (ymax - ymin) * random.random()\n",
      "    if math.fabs(y) <= math.fabs(f(x)):\n",
      "      if f(x) > 0 and y > 0 and y <= f(x):\n",
      "        ctr += 1 # area over x-axis is positive\n",
      "        p.append([x,y])\n",
      "      if f(x) < 0 and y < 0 and y >= f(x):\n",
      "        ctr -= 1 # area under x-axis is negative\n",
      "        n.append([x,y])\n",
      "\n",
      "fnArea = rectArea * float(ctr) / numPoints\n",
      "monteCarloResult = fnArea\n",
      "print \"Numerical integration = \" + str(monteCarloResult)"
     ],
     "language": "python",
     "metadata": {},
     "outputs": [
      {
       "output_type": "stream",
       "stream": "stdout",
       "text": [
        "Numerical integration = 0.499564566631\n"
       ]
      }
     ],
     "prompt_number": 62
    },
    {
     "cell_type": "markdown",
     "metadata": {},
     "source": [
      "### Numerical comparison "
     ]
    },
    {
     "cell_type": "code",
     "collapsed": false,
     "input": [
      "import scipy.integrate as integrate\n",
      "result = integrate.quad(lambda x: f(x), xmin, xmax)\n",
      "#print result \n",
      "numpyResult = result[0]\n",
      "print \"Error\", abs( monteCarloResult - numpyResult )"
     ],
     "language": "python",
     "metadata": {},
     "outputs": [
      {
       "output_type": "stream",
       "stream": "stdout",
       "text": [
        "Error 0.000498287996663\n"
       ]
      }
     ],
     "prompt_number": 63
    },
    {
     "cell_type": "markdown",
     "metadata": {},
     "source": [
      "### Compare results "
     ]
    },
    {
     "cell_type": "code",
     "collapsed": false,
     "input": [
      "n = np.asarray(n)\n",
      "p = np.asarray(p)\n",
      "xs = np.linspace(xmin,xmax,200)\n",
      "fvec = np.vectorize(f)\n",
      "\n",
      "\n",
      "plt.scatter(n[:,0],n[:,1],color='r')\n",
      "plt.scatter(p[:,0],p[:,1], color='b')\n",
      "plt.plot(xs,fvec(xs))"
     ],
     "language": "python",
     "metadata": {},
     "outputs": [
      {
       "metadata": {},
       "output_type": "pyout",
       "prompt_number": 52,
       "text": [
        "[<matplotlib.lines.Line2D at 0x7f83657b5e90>]"
       ]
      },
      {
       "metadata": {},
       "output_type": "display_data",
       "png": "[encoded data removed]",
       "text": [
        "<matplotlib.figure.Figure at 0x7f83658fe850>"
       ]
      }
     ],
     "prompt_number": 52
    },
    {
     "cell_type": "code",
     "collapsed": false,
     "input": [],
     "language": "python",
     "metadata": {},
     "outputs": []
    }
   ],
   "metadata": {}
  }
 ]
}