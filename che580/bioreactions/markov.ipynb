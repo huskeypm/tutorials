{
 "cells": [
  {
   "cell_type": "markdown",
   "metadata": {},
   "source": [
    "### Experiments with time-dependent evolution of reaction equations"
   ]
  },
  {
   "cell_type": "markdown",
   "metadata": {},
   "source": [
    "In class we described reaction processes such as \n",
    "\n",
    "$ATP \\rightarrow 0$ (e.g. ATP getting consumed)\n",
    "\n",
    "or equilibria between open and closed states:\n",
    "\n",
    "$ADP \\leftrightarrow ATP $    \n",
    "\n",
    "Each of these reactions can be written in a form like\n",
    "\n",
    "$\\frac{dATP}{dt} = f(t)$\n",
    "\n",
    "where $f(t)$ might describe the rate at which ATP is consumed or created. \n",
    "\n",
    "The point of this notebook is to predict the time dependent values of ATP, for instance, given some function f(t).  For this we will go through steps like defining a function to represent f(t) and using odeint to solve for ATP\n"
   ]
  },
  {
   "cell_type": "code",
   "execution_count": null,
   "metadata": {
    "collapsed": true
   },
   "outputs": [],
   "source": []
  },
  {
   "cell_type": "code",
   "execution_count": 3,
   "metadata": {
    "collapsed": false
   },
   "outputs": [],
   "source": [
    "# Function for integreating ODE and displaying results\n",
    "import scipy.integrate\n",
    "from scipy.integrate import odeint\n",
    "import numpy as np\n",
    "import matplotlib.pylab as plt\n",
    "%matplotlib inline"
   ]
  },
  {
   "cell_type": "markdown",
   "metadata": {},
   "source": [
    "#### Simplest system - monoexponential decay\n",
    "$ATP \\rightarrow 0$ at rate $a$ can be written as \n",
    "\n",
    "$dy/dt = -a \\cdot y$\n",
    "\n",
    "If we solved this analytically we'd get\n",
    "\n",
    "Solution:\n",
    "$y = c e^{-at}$"
   ]
  },
  {
   "cell_type": "code",
   "execution_count": 4,
   "metadata": {
    "collapsed": false
   },
   "outputs": [],
   "source": [
    "# this function describes the 'right hand side' of the dy/dt equation above. \n",
    "# Note that we have 'a' as our rate constant and y[0] is the value of y at the present time\n",
    "def f(y,t,a):\n",
    "    dydt = -a*y[0]\n",
    "    return dydt\n",
    "\n",
    "# points in time, e.g. t=0 to t=10. where the function gets evaluated, t[0] at y0\n",
    "t  = scipy.linspace(0.,10.,201)\n",
    "# init concentration of value of y\n",
    "y0 = [16.]\n",
    "\n",
    "# rate\n",
    "a=0.5  # \n",
    "y = scipy.integrate.odeint(f,y0,t,args=(a,))"
   ]
  },
  {
   "cell_type": "markdown",
   "metadata": {},
   "source": [
    "Below are the data from the class demonstration"
   ]
  },
  {
   "cell_type": "markdown",
   "metadata": {},
   "source": [
    "#### Simple system - two components\n",
    "Here we assume we have two entities (y0 and y1) that are each getting consumed\n",
    "\n",
    "\\begin{align}\n",
    "\\dot{y_0} &= -a_{00} y_0 \\\\\n",
    "\\dot{y_1} &= -a_{11} y_1 \\\\\n",
    "\\end{align}\n",
    "\n"
   ]
  },
  {
   "cell_type": "code",
   "execution_count": 8,
   "metadata": {
    "collapsed": false
   },
   "outputs": [
    {
     "data": {
      "text/plain": [
       "<matplotlib.legend.Legend at 0x122672d10>"
      ]
     },
     "execution_count": 8,
     "metadata": {},
     "output_type": "execute_result"
    },
    {
     "data": {
      "image/png": "[encoded data removed]",
      "text/plain": [
       "<Figure size 432x288 with 1 Axes>"
      ]
     },
     "metadata": {},
     "output_type": "display_data"
    }
   ],
   "source": [
    "def f(y,t,a):\n",
    "    dy0dt = -a[0]*y[0]\n",
    "    dy1dt = -a[1]*y[1]\n",
    "    return [dy0dt,dy1dt]\n",
    "    \n",
    "    \n",
    "t  = scipy.linspace(0.,50.,201)\n",
    "\n",
    "# Initial conc. \n",
    "y0 = [2,3]\n",
    "\n",
    "# initial rates \n",
    "a=[0.1,0.5]\n",
    "\n",
    "y = scipy.integrate.odeint(f,y0,t,args=(a,))\n",
    "plt.plot(t,y[:,0],\"b-\",label=\"y$_0$\")\n",
    "plt.plot(t,y[:,1],\"r-\",label=\"y$_1$\")\n",
    "plt.ylabel(\"$[y_i]$\")\n",
    "plt.xlabel(\"t\")\n",
    "plt.legend(loc=0)\n",
    "    "
   ]
  },
  {
   "cell_type": "markdown",
   "metadata": {},
   "source": [
    "For the equilibrium \n",
    "\n",
    "$y_0 \\leftrightarrow y_1$\n",
    "\n",
    "we can write \n",
    "\n",
    "\\begin{align}\n",
    "\\dot{y_0} &= -k_f y_0 + k_m y_1\\\\\n",
    "\\dot{y_1} &=  k_f y_0 - k_m y_1 \\\\\n",
    "\\end{align}\n",
    "\n",
    "where kf is the rate at which y1 is formed from y0 and vice versa for km.\n"
   ]
  },
  {
   "cell_type": "code",
   "execution_count": 29,
   "metadata": {
    "collapsed": false
   },
   "outputs": [
    {
     "data": {
      "text/plain": [
       "<matplotlib.legend.Legend at 0x123c59ad0>"
      ]
     },
     "execution_count": 29,
     "metadata": {},
     "output_type": "execute_result"
    },
    {
     "data": {
      "image/png": "[encoded data removed]",
      "text/plain": [
       "<Figure size 432x288 with 1 Axes>"
      ]
     },
     "metadata": {},
     "output_type": "display_data"
    }
   ],
   "source": [
    "def f(y,t,a):\n",
    "    \n",
    "    dy0dt = -a[0]*y[0] +   a[1]*y[1]\n",
    "    dy1dt =  a[0]*y[0] +  -a[1]*y[1]\n",
    "    dydt = [dy0dt,dy1dt]\n",
    "    return dydt\n",
    "    \n",
    "    \n",
    "t  = scipy.linspace(0.,10.,2001)\n",
    "\n",
    "# Initial conc. \n",
    "y0 = [12,3]\n",
    "\n",
    "# initial rates \n",
    "a=np.array([0.9,0.5])\n",
    "\n",
    "y = scipy.integrate.odeint(f,y0,t,args=(a,))\n",
    "plt.plot(t,y[:,0],\"b-\",label=\"y$_0$\")\n",
    "plt.plot(t,y[:,1],\"r-\",label=\"y$_1$\")\n",
    "plt.ylabel(\"$[y_i]$\")\n",
    "plt.xlabel(\"t\")\n",
    "plt.legend(loc=0)"
   ]
  },
  {
   "cell_type": "markdown",
   "metadata": {},
   "source": [
    "<font color=red>Can skip after this, but you might find these examples useful later </font>\n",
    "\n",
    "The above process can be more generally written as a 'linear system'\n",
    "\n",
    "$\\frac{dy[0]}{dt} = a\\cdot y[0] +b\\cdot y[1]$\n",
    "\n",
    "$\\frac{dy[1]}{dt} = c\\cdot y[0]+d\\cdot y[1]$ \n",
    "\n",
    "so we can instead write\n",
    "\n",
    "dydt = A*y"
   ]
  },
  {
   "cell_type": "markdown",
   "metadata": {},
   "source": [
    "\n",
    "where A is the 'Jacobian' :\n",
    "( $a_{ij} = \\frac{dy_i}{da_j}$)\n",
    " \n",
    " \n",
    "First verifying that diagonal Jacobian with negative rate constants yields exponential decay"
   ]
  },
  {
   "cell_type": "code",
   "execution_count": 4,
   "metadata": {
    "collapsed": false
   },
   "outputs": [
    {
     "data": {
      "text/plain": [
       "<matplotlib.legend.Legend at 0x11174cb10>"
      ]
     },
     "execution_count": 4,
     "metadata": {},
     "output_type": "execute_result"
    },
    {
     "data": {
      "image/png": "[encoded data removed]",
      "text/plain": [
       "<matplotlib.figure.Figure at 0x10f16f390>"
      ]
     },
     "metadata": {},
     "output_type": "display_data"
    }
   ],
   "source": [
    "\n",
    "def f(y,t,a):\n",
    "  return np.dot(a,y)\n",
    "#    return [a[0,0]*y[0] + a[0,1]*y[1],\\\n",
    "#            a[1,0]*y[0] + a[1,1]*y[1]]\n",
    "\n",
    "\n",
    "t  = scipy.linspace(0.,50.,201)\n",
    "\n",
    "# Initial conc. \n",
    "y0 = [2,3]\n",
    "\n",
    "# Jacobian\n",
    "J = 0.1*np.array([[-1.0,0.],[0,-1.]])\n",
    "\n",
    "y = scipy.integrate.odeint(f,y0,t,args=(J,))\n",
    "plt.plot(t,y[:,0],\"b-\",label=\"y$_0$\")\n",
    "plt.plot(t,y[:,1],\"r-\",label=\"y$_1$\")\n",
    "plt.ylabel(\"$[y_i]$\")\n",
    "plt.xlabel(\"t\")\n",
    "plt.legend(loc=0)\n"
   ]
  },
  {
   "cell_type": "markdown",
   "metadata": {},
   "source": [
    "#### Simple system - two components in equilibrium\n",
    "\n",
    "$y_0 \\leftrightarrow y_1$\n",
    "\n",
    "\\begin{align}\n",
    "\\dot{y_0} &= -k_f y_0 + k_m y_1\\\\\n",
    "\\dot{y_1} &=  k_f y_0 - k_m y_1 \\\\\n",
    "\\end{align}\n",
    "\n"
   ]
  },
  {
   "cell_type": "code",
   "execution_count": 5,
   "metadata": {
    "collapsed": false
   },
   "outputs": [],
   "source": [
    "\n",
    "# Jacobian\n",
    "kf=3.0\n",
    "kb=1.0\n",
    "J1 = np.array([\n",
    "  [-kf,kb],\n",
    "  [kf,-kb],\n",
    "])   \n",
    "t  = scipy.linspace(0.,1.,201)\n",
    "\n",
    "# our initial concentration \n",
    "y0 = 12\n",
    "y1 = 4\n",
    "\n",
    "ys = np.array([y0,y1],dtype=np.float)\n",
    "daSum = np.sum(ys)\n",
    "y = scipy.integrate.odeint(f,ys,t,args=(J1,))\n"
   ]
  },
  {
   "cell_type": "code",
   "execution_count": 6,
   "metadata": {
    "collapsed": false
   },
   "outputs": [
    {
     "data": {
      "text/plain": [
       "<matplotlib.legend.Legend at 0x1117cde90>"
      ]
     },
     "execution_count": 6,
     "metadata": {},
     "output_type": "execute_result"
    },
    {
     "data": {
      "image/png": "[encoded data removed]",
      "text/plain": [
       "<matplotlib.figure.Figure at 0x10f167c10>"
      ]
     },
     "metadata": {},
     "output_type": "display_data"
    }
   ],
   "source": [
    "\n",
    "plt.plot(t,y[:,0],\"b-\",label=\"y$_0$\")\n",
    "plt.plot(t,y[:,1],\"r-\",label=\"y$_1$\")\n",
    "plt.ylabel(\"$[y_i]$\")\n",
    "plt.xlabel(\"t\")\n",
    "plt.ylim([0,daSum])\n",
    "plt.legend(loc=0)\n"
   ]
  },
  {
   "cell_type": "markdown",
   "metadata": {},
   "source": [
    "#### Multi-component system with transition probability matrix J\n",
    "\n",
    "Using Jacobian:\n",
    " ( $a_{ij} = \\frac{dy_i}{da_j}$)\n",
    " \n",
    " "
   ]
  },
  {
   "cell_type": "code",
   "execution_count": 44,
   "metadata": {
    "collapsed": false
   },
   "outputs": [
    {
     "data": {
      "text/plain": [
       "<matplotlib.legend.Legend at 0x1135a2550>"
      ]
     },
     "execution_count": 44,
     "metadata": {},
     "output_type": "execute_result"
    },
    {
     "data": {
      "image/png": "[encoded data removed]",
      "text/plain": [
       "<matplotlib.figure.Figure at 0x1126aa390>"
      ]
     },
     "metadata": {},
     "output_type": "display_data"
    }
   ],
   "source": [
    "# points in time where the function gets evaluated, t[0] at y0\n",
    "t  = scipy.linspace(0.,2.,201)\n",
    "\n",
    "\n",
    "\n",
    "# Jacobian\n",
    "a=1\n",
    "b=2.0\n",
    "g=5.\n",
    "d=1.2\n",
    "J = np.array([\n",
    "  [-(a+g),b,d,0],\n",
    "  [a,-(b+g),0,d],\n",
    "  [g,0,-(a+d),b],\n",
    "  [0,g,a,-(b+d)]\n",
    "])   \n",
    "# Initial conc. \n",
    "y0 = np.array([1,2,3,4],dtype=np.float)\n",
    "y0 /= np.sum(y0)\n",
    "\n",
    "\n",
    "y = scipy.integrate.odeint(f,y0,t,args=(J,))\n",
    "plt.plot(t,y[:,0],\"b-\",label=\"y$_0$\")\n",
    "plt.plot(t,y[:,1],\"r-\",label=\"y$_1$\")\n",
    "plt.plot(t,y[:,2],\"g-\",label=\"y$_2$\")\n",
    "plt.plot(t,y[:,3],\"k-\",label=\"y$_3$\")\n",
    "plt.ylabel(\"$[y_i]$\")\n",
    "plt.xlabel(\"t\")\n",
    "plt.legend(loc=0)\n"
   ]
  },
  {
   "cell_type": "markdown",
   "metadata": {},
   "source": [
    "#### Example with substrate dependence \n",
    "$ 1+c \\rightarrow 2$\n",
    "\n",
    "Here, the system begins near equilibrium, but upon a stepwise increase in 'c' near t=5, the reaction is shifted toward 2. Once 'c' returns to the base value, so do the concentrations of 1 and 2\n",
    "\n"
   ]
  },
  {
   "cell_type": "code",
   "execution_count": 89,
   "metadata": {
    "collapsed": true
   },
   "outputs": [],
   "source": [
    "def f(y,t):\n",
    "    \n",
    "    if np.abs(t-5)<1.:\n",
    "        c=0.3\n",
    "    else:\n",
    "        c=0.1\n",
    "    \n",
    "    # Jacobian\n",
    "    k14=10*c\n",
    "    k41=1\n",
    "    a = np.array([\n",
    "      [-k14,k41],\n",
    "      [ k14,-k41],\n",
    "  \n",
    "    ])    \n",
    "    \n",
    "    return np.dot(a,y)"
   ]
  },
  {
   "cell_type": "code",
   "execution_count": 90,
   "metadata": {
    "collapsed": false
   },
   "outputs": [
    {
     "data": {
      "text/plain": [
       "<matplotlib.legend.Legend at 0x1155dca50>"
      ]
     },
     "execution_count": 90,
     "metadata": {},
     "output_type": "execute_result"
    },
    {
     "data": {
      "image/png": "[encoded data removed]",
      "text/plain": [
       "<matplotlib.figure.Figure at 0x115171690>"
      ]
     },
     "metadata": {},
     "output_type": "display_data"
    }
   ],
   "source": [
    "# points in time where the function gets evaluated, t[0] at y0\n",
    "t  = scipy.linspace(0.,10.,201)\n",
    "\n",
    "\n",
    "\n",
    "   \n",
    "# Initial conc. \n",
    "y0 = np.array([4.9,5.1],dtype=np.float)\n",
    "y0 /= np.sum(y0)\n",
    "\n",
    "\n",
    "y = scipy.integrate.odeint(f,y0,t)\n",
    "plt.plot(t,y[:,0],\"b-\",label=\"y$_1$\")\n",
    "plt.plot(t,y[:,1],\"r-\",label=\"y$_2$\")\n",
    "plt.ylabel(\"$[y_i]$\")\n",
    "plt.xlabel(\"t\")\n",
    "plt.legend(loc=0)\n"
   ]
  },
  {
   "cell_type": "code",
   "execution_count": null,
   "metadata": {
    "collapsed": true
   },
   "outputs": [],
   "source": []
  },
  {
   "cell_type": "code",
   "execution_count": null,
   "metadata": {
    "collapsed": true
   },
   "outputs": [],
   "source": []
  }
 ],
 "metadata": {
  "kernelspec": {
   "display_name": "Python 2",
   "language": "python",
   "name": "python2"
  },
  "language_info": {
   "codemirror_mode": {
    "name": "ipython",
    "version": 2
   },
   "file_extension": ".py",
   "mimetype": "text/x-python",
   "name": "python",
   "nbconvert_exporter": "python",
   "pygments_lexer": "ipython2",
   "version": "2.7.13"
  }
 },
 "nbformat": 4,
 "nbformat_minor": 0
}
