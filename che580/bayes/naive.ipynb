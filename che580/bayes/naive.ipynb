{
 "cells": [
  {
   "cell_type": "markdown",
   "metadata": {},
   "source": [
    "## Naive Bayes classifier\n",
    "Based on https://machinelearningmastery.com/naive-bayes-classifier-scratch-python/\n"
   ]
  },
  {
   "cell_type": "code",
   "execution_count": 83,
   "metadata": {
    "collapsed": false
   },
   "outputs": [],
   "source": [
    "%load_ext autoreload\n",
    "%autoreload 2"
   ]
  },
  {
   "cell_type": "code",
   "execution_count": 84,
   "metadata": {
    "collapsed": true
   },
   "outputs": [],
   "source": [
    "import numpy as np \n",
    "import naive"
   ]
  },
  {
   "cell_type": "markdown",
   "metadata": {},
   "source": [
    "### Load data "
   ]
  },
  {
   "cell_type": "code",
   "execution_count": 85,
   "metadata": {
    "collapsed": false
   },
   "outputs": [
    {
     "name": "stdout",
     "output_type": "stream",
     "text": [
      "[[6.0, 148.0, 72.0, 35.0, 0.0, 33.6, 0.627, 50.0, 1.0], [1.0, 85.0, 66.0, 29.0, 0.0, 26.6, 0.351, 31.0, 0.0], [8.0, 183.0, 64.0, 0.0, 0.0, 23.3, 0.672, 32.0, 1.0], [1.0, 89.0, 66.0, 23.0, 94.0, 28.1, 0.167, 21.0, 0.0], [0.0, 137.0, 40.0, 35.0, 168.0, 43.1, 2.288, 33.0, 1.0]]\n"
     ]
    }
   ],
   "source": [
    "filename = 'data.csv'\n",
    "dataset = naive.loadCsv(filename)\n",
    "\n",
    "print dataset[0:5]"
   ]
  },
  {
   "cell_type": "markdown",
   "metadata": {},
   "source": [
    "### Split into training and test set data "
   ]
  },
  {
   "cell_type": "code",
   "execution_count": 86,
   "metadata": {
    "collapsed": false
   },
   "outputs": [
    {
     "name": "stdout",
     "output_type": "stream",
     "text": [
      "Split 768 rows into train=514 and test=254 rows\n"
     ]
    }
   ],
   "source": [
    "splitRatio = 0.67\n",
    "\n",
    "trainingSet, testSet = naive.splitDataset(dataset, splitRatio)\n",
    "print('Split {0} rows into train={1} and test={2} rows').format(len(dataset), len(trainingSet), len(testSet))"
   ]
  },
  {
   "cell_type": "markdown",
   "metadata": {},
   "source": [
    "### Prepare model \n",
    "Separate training set into classes. The attributes of each class (e.g.) will be used for computing statistics "
   ]
  },
  {
   "cell_type": "code",
   "execution_count": 87,
   "metadata": {
    "collapsed": false
   },
   "outputs": [],
   "source": [
    "summaries = naive.summarizeByClass(trainingSet)"
   ]
  },
  {
   "cell_type": "markdown",
   "metadata": {},
   "source": [
    "#### What's happening in summarizeByClass\n"
   ]
  },
  {
   "cell_type": "code",
   "execution_count": 88,
   "metadata": {
    "collapsed": false
   },
   "outputs": [
    {
     "name": "stdout",
     "output_type": "stream",
     "text": [
      "Separated instances: {0.0: [[6.0, 111.0, 64.0, 39.0, 0.0, 34.2, 0.26, 24.0, 0.0], [1.0, 79.0, 75.0, 30.0, 0.0, 32.0, 0.396, 22.0, 0.0], [1.0, 71.0, 62.0, 0.0, 0.0, 21.8, 0.416, 26.0, 0.0], [1.0, 95.0, 74.0, 21.0, 73.0, 25.9, 0.673, 36.0, 0.0], [0.0, 105.0, 64.0, 41.0, 142.0, 41.5, 0.173, 22.0, 0.0], [1.0, 135.0, 54.0, 0.0, 0.0, 26.7, 0.687, 62.0, 0.0], [1.0, 112.0, 72.0, 30.0, 176.0, 34.4, 0.528, 25.0, 0.0]], 1.0: [[1.0, 163.0, 72.0, 0.0, 0.0, 39.0, 1.222, 33.0, 1.0], [4.0, 171.0, 72.0, 0.0, 0.0, 43.6, 0.479, 26.0, 1.0], [4.0, 95.0, 64.0, 0.0, 0.0, 32.0, 0.161, 31.0, 1.0]]}\n"
     ]
    }
   ],
   "source": [
    "# Here we show how on of 'summarizeByClass' routines separates the data in 0 (no diabetes)  and 1 (w diabetes) data sets\n",
    "trialSet = trainingSet[0:10]\n",
    "separated = naive.separateByClass(trialSet)\n",
    "print('Separated instances: {0}').format(separated)"
   ]
  },
  {
   "cell_type": "markdown",
   "metadata": {},
   "source": [
    "we compute std dev and mean for each attribute of each class \n",
    "summarizeByClass calls summarize to compute mean/std dev for each attribute\n",
    "<code>\n",
    "def summarize(dataset):\n",
    "\tsummaries = [(mean(attribute), stdev(attribute)) for attribute in zip(*dataset)]\n",
    "\tdel summaries[-1]\n",
    "\treturn summaries\n",
    "</code>\n",
    "\n",
    "Note: each 'event' was reported as a line in the csv file. Each line contained 9 attributes, of which the last column corresponded to output. Hence, in this function we're reporting statistics for each attribute across all events \n",
    "\n",
    "Below I show the mean for each attribute, though we are also computing stddev in the 'real' code"
   ]
  },
  {
   "cell_type": "code",
   "execution_count": 89,
   "metadata": {
    "collapsed": false
   },
   "outputs": [
    {
     "name": "stdout",
     "output_type": "stream",
     "text": [
      "Separated instances: [2.0, 113.7, 67.299999999999997, 16.100000000000001, 39.100000000000001, 33.109999999999999, 0.49949999999999994, 30.699999999999999, 0.29999999999999999]\n"
     ]
    }
   ],
   "source": [
    "\n",
    "summaries = [(np.mean(attribute)) for attribute in zip(*trialSet)]\n",
    "print('Separated instances: {0}').format(summaries)\n"
   ]
  },
  {
   "cell_type": "markdown",
   "metadata": {},
   "source": [
    "Show class statistics. By eyeball it is clear that the attributes associated with each outcome have different means"
   ]
  },
  {
   "cell_type": "code",
   "execution_count": 90,
   "metadata": {
    "collapsed": false
   },
   "outputs": [
    {
     "name": "stdout",
     "output_type": "stream",
     "text": [
      "Summary by class value for outcome=0: [(3.3264094955489614, 3.1234972365245057), (109.85756676557864, 26.142191495829245), (68.58753709198812, 17.82685137448383), (19.51038575667656, 15.273129771121265), (67.20771513353115, 96.61918158328272), (30.198219584569742, 7.569491343653093), (0.438427299703264, 0.31081933041120535), (31.792284866468844, 12.24325129221498)]\n",
      "Summary by class value for outcome=1: [(4.858757062146893, 3.7715057025688683), (141.08474576271186, 30.48972710878125), (70.13559322033899, 22.375507328264693), (21.497175141242938, 16.788837029199332), (99.00564971751412, 127.28491203412793), (34.99209039548024, 6.614279029697137), (0.5547514124293789, 0.3736294580784771), (36.90395480225989, 10.767524624694392)]\n"
     ]
    }
   ],
   "source": [
    "\n",
    "summary = naive.summarizeByClass(trainingSet)\n",
    "\n",
    "print('Summary by class value for outcome=0: {0}').format(summary[0])\n",
    "\n",
    "print('Summary by class value for outcome=1: {0}').format(summary[1])"
   ]
  },
  {
   "cell_type": "markdown",
   "metadata": {},
   "source": [
    "### Compute probabilites of belonging to a given class\n",
    "\n",
    "First, we'll compute $P(\\theta|D)$ for a single attribute, assuming Gaussian statistics. Here, the mean value we pass in is our 'D', and our 'theta' is essentially a measure of whether we belong to a given class."
   ]
  },
  {
   "cell_type": "code",
   "execution_count": 91,
   "metadata": {
    "collapsed": false
   },
   "outputs": [
    {
     "name": "stdout",
     "output_type": "stream",
     "text": [
      "Probability of belonging to this class: 4.90233998485e-06\n",
      "Probability of belonging to this class: 0.0610832884561\n"
     ]
    }
   ],
   "source": [
    "mean = 73\n",
    "stdev = 6.2\n",
    "\n",
    "x = 100\n",
    "probability = naive.calculateProbability(x, mean, stdev)\n",
    "print('Probability of belonging to this class: {0}').format(probability)\n",
    "\n",
    "x = 75\n",
    "probability = naive.calculateProbability(x, mean, stdev)\n",
    "print('Probability of belonging to this class: {0}').format(probability)\n"
   ]
  },
  {
   "cell_type": "markdown",
   "metadata": {},
   "source": [
    "Since we have multiple attributes that are assumed independent, our probability of theta belonging to a given class is based on the product of all attribute probabilities in a given event \n",
    "\n",
    "<code>\n",
    "def calculateClassProbabilities(summaries, inputVector):\n",
    "\tprobabilities = {}\n",
    "\tfor classValue, classSummaries in summaries.iteritems():\n",
    "\t\tprobabilities[classValue] = 1\n",
    "\t\tfor i in range(len(classSummaries)):\n",
    "\t\t\tmean, stdev = classSummaries[i]\n",
    "\t\t\tx = inputVector[i]\n",
    "\t\t\tprobabilities[classValue] *= calculateProbability(x, mean, stdev)\n",
    "\treturn probabilities\n",
    "</code>    \n",
    "\n",
    "\n",
    "Ex. here we create a 'classSummary' set, each with one attribute for which means (1 or 20) and stddevs (0.5 or 5.0) are reported. We ask for the probability of belonging to each class, given that the mean in (our inputvector) is 1.1"
   ]
  },
  {
   "cell_type": "code",
   "execution_count": 92,
   "metadata": {
    "collapsed": false
   },
   "outputs": [
    {
     "name": "stdout",
     "output_type": "stream",
     "text": [
      "Probabilities for each class: {0: 0.7820853879509118, 1: 6.298736258150442e-05}\n",
      "My class is 0\n"
     ]
    }
   ],
   "source": [
    "summaries = {0:[(1, 0.5)], 1:[(20, 5.0)]}\n",
    "inputVector = [1.1, '?']\n",
    "probabilities = naive.calculateClassProbabilities(summaries, inputVector)\n",
    "print('Probabilities for each class: {0}').format(probabilities)\n",
    "print(\"My class is {0}\").format( naive.predict(summaries,inputVector))"
   ]
  },
  {
   "cell_type": "markdown",
   "metadata": {},
   "source": [
    "Now we'll run the classifier on a subset of the test set "
   ]
  },
  {
   "cell_type": "code",
   "execution_count": 93,
   "metadata": {
    "collapsed": false
   },
   "outputs": [
    {
     "name": "stdout",
     "output_type": "stream",
     "text": [
      "Subset [[6.0, 148.0, 72.0, 35.0, 0.0, 33.6, 0.627, 50.0, 1.0], [8.0, 183.0, 64.0, 0.0, 0.0, 23.3, 0.672, 32.0, 1.0], [5.0, 116.0, 74.0, 0.0, 0.0, 25.6, 0.201, 30.0, 0.0]]\n",
      "Predictions [1.0, 1.0, 0.0]\n"
     ]
    }
   ],
   "source": [
    "# prepare model\n",
    "summaries = naive.summarizeByClass(trainingSet)\n",
    "# test model\n",
    "subset = testSet[0:3]\n",
    "print \"Subset\", subset\n",
    "predictions = naive.getPredictions(summaries, subset)\n",
    "print \"Predictions\", predictions"
   ]
  },
  {
   "cell_type": "markdown",
   "metadata": {},
   "source": [
    "### Execute all steps. \n",
    "We also have a metric that allows us to test the classifier performance based our test data set "
   ]
  },
  {
   "cell_type": "code",
   "execution_count": 98,
   "metadata": {
    "collapsed": false
   },
   "outputs": [
    {
     "name": "stdout",
     "output_type": "stream",
     "text": [
      "Split 768 rows into train=514 and test=254 rows\n",
      "Accuracy: 81.4960629921%\n"
     ]
    }
   ],
   "source": [
    "naive.main()"
   ]
  },
  {
   "cell_type": "code",
   "execution_count": null,
   "metadata": {
    "collapsed": true
   },
   "outputs": [],
   "source": []
  }
 ],
 "metadata": {
  "kernelspec": {
   "display_name": "Python 2",
   "language": "python",
   "name": "python2"
  },
  "language_info": {
   "codemirror_mode": {
    "name": "ipython",
    "version": 2
   },
   "file_extension": ".py",
   "mimetype": "text/x-python",
   "name": "python",
   "nbconvert_exporter": "python",
   "pygments_lexer": "ipython2",
   "version": "2.7.13"
  }
 },
 "nbformat": 4,
 "nbformat_minor": 2
}
