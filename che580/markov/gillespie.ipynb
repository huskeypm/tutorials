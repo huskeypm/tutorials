{
 "cells": [
  {
   "cell_type": "markdown",
   "metadata": {},
   "source": [
    "## Gillespie simulator"
   ]
  },
  {
   "cell_type": "markdown",
   "metadata": {},
   "source": [
    "This file contains a Gillespie simulator for the reaction\n",
    "Borrowed from Markus Dittrich\n",
    "\n",
    "<code>\n",
    "   A + B -> C  [k1]\n",
    "   C -> A + B  [k2]\n",
    "</code>"
   ]
  },
  {
   "cell_type": "markdown",
   "metadata": {},
   "source": [
    "http://staff.psc.edu/dittrich/PGSS/pdfs/Gillespie_1977.pdf"
   ]
  },
  {
   "cell_type": "code",
   "execution_count": 22,
   "metadata": {
    "collapsed": false
   },
   "outputs": [
    {
     "name": "stdout",
     "output_type": "stream",
     "text": [
      "The autoreload extension is already loaded. To reload it, use:\n",
      "  %reload_ext autoreload\n"
     ]
    }
   ],
   "source": [
    "%load_ext autoreload\n",
    "%autoreload 2\n",
    "%matplotlib inline  "
   ]
  },
  {
   "cell_type": "code",
   "execution_count": 23,
   "metadata": {
    "collapsed": false
   },
   "outputs": [],
   "source": [
    "\n",
    "# import pythons random number generator\n",
    "# NOTE: for production code you need to make sure to have\n",
    "# a very good random number generator.\n",
    "import random as rng\n",
    "import math\n",
    "import numpy as np\n",
    "import matplotlib.pylab as plt"
   ]
  },
  {
   "cell_type": "code",
   "execution_count": 24,
   "metadata": {
    "collapsed": false
   },
   "outputs": [],
   "source": [
    "from helper2 import *"
   ]
  },
  {
   "cell_type": "markdown",
   "metadata": {},
   "source": [
    "### Define gillespie simulator\n",
    "\n",
    "#### <font color=red>Need to explain each routine in helper etc</font>"
   ]
  },
  {
   "cell_type": "code",
   "execution_count": 25,
   "metadata": {
    "collapsed": false
   },
   "outputs": [],
   "source": [
    "\n",
    "\n",
    "\n",
    "################################################################\n",
    "# start of main simulation\n",
    "################################################################\n",
    "\n",
    "def main(\n",
    "    # parameters\n",
    "    A0 = 30110, # initial molecule count for species A\n",
    "    B0 =     0, # initial molecule count for species B\n",
    "    C0 =     0, # initial molecule count for species C\n",
    "    k1 = 0.024e5,           # forward rate [#/(Mol*s)]\n",
    "    k2 = 0.015e5,           # backward rate [1/s]\n",
    "    volume = 5e-20,         # reaction volume [L]\n",
    "    maxTime = 1.0e-2,   # maximum simulation time [s]\n",
    "    outputFreq = 1000,                            # output frequency\n",
    "    verbose = False\n",
    "):\n",
    "\n",
    "    # initialize time, random number generator,\n",
    "    # initial molecule counts, and molecule count update\n",
    "    # functions\n",
    "    rng.seed(124213)\n",
    "    N_avo  = 6.0221415e23  \n",
    "    time       = 0.0\n",
    "    iteration  = 0 # iteration count\n",
    "    molCounts  = [A0,B0,C0]\n",
    "    rates      = [k1/volume/N_avo, k2]           # need to convert \n",
    "    updaters   = [react1_updater,react2_updater]\n",
    "\n",
    "    # open output files\n",
    "    fileHandles = open_output_files() \n",
    "    results = dict()\n",
    "    results[\"time\"]=[]\n",
    "    results[\"molCounts\"]=[]\n",
    "    results[\"molConcs\"]=[]\n",
    "    \n",
    "    # we simulate until we hit our maximum simulation time\n",
    "    while time < maxTime:\n",
    "    #for i in np.arange(10000):\n",
    "        \n",
    "        # compute the propensities a_i for each reaction\n",
    "        # and the sum a_0\n",
    "        a_i = compute_propensities(molCounts, rates)\n",
    "        a_0 = sum(a_i)\n",
    "\n",
    "        # pick a random number, compute the time increment\n",
    "        # and update t (equation 21a in Gillespie's paper)\n",
    "        rand_1 = rng.random()\n",
    "        tau    = 1.0/a_0 * math.log(1/rand_1)\n",
    "        time  += tau\n",
    "\n",
    "        # find the reaction to execute (equation 21b in\n",
    "        # Gillespie's paper). We need a second random number\n",
    "        # here. We don't really need the while loop here since\n",
    "        # we only have two possible reactions but we do it anyway\n",
    "        # to keep it more general. \n",
    "        rand_2    = rng.random()\n",
    "        threshold = a_0 * rand_2\n",
    "        \n",
    "        summation = 0\n",
    "        count     = 0\n",
    "        while threshold > summation:\n",
    "            summation += a_i[count]\n",
    "            count += 1\n",
    "            \n",
    "        # update molecule counts by calling the proper updater\n",
    "        # function. Note, arrays in python are zero index based\n",
    "        # hence we need count-1 to access the proper updater.\n",
    "        molCounts = updaters[count-1](molCounts)\n",
    "\n",
    "        # dump data every outputFreq iteration\n",
    "        # we also print a short progess message \n",
    "        if (iteration % outputFreq) == 0:\n",
    "            if verbose: \n",
    "              print \"iteration %d   time %5.4g\" % (iteration, time)  \n",
    "            \n",
    "            # store \n",
    "            results[\"time\"].append(time)\n",
    "            molCts = np.copy(molCounts)\n",
    "            molConcs = molCts/volume/N_avo\n",
    "            results[\"molCounts\"].append(molCts)\n",
    "            results[\"molConcs\"].append(molConcs)\n",
    "            #print molCounts\n",
    "            #print \"###\",results[\"molCounts\"]\n",
    "            write_data_to_output(fileHandles, time, molConcs)\n",
    "\n",
    "        iteration += 1    \n",
    "\n",
    "    \n",
    "    # cleanup\n",
    "    close_output_files(fileHandles)\n",
    "\n",
    "\n",
    "    # reformat\n",
    "    for key in results.keys():\n",
    "      results[key] = np.asarray( results[key] )\n",
    "   \n",
    "    return results       "
   ]
  },
  {
   "cell_type": "markdown",
   "metadata": {},
   "source": [
    "### Define input parameters"
   ]
  },
  {
   "cell_type": "code",
   "execution_count": 45,
   "metadata": {
    "collapsed": false
   },
   "outputs": [],
   "source": [
    "\n",
    "###############################################################\n",
    "# initial conditions and variables\n",
    "###############################################################\n",
    "\n",
    "# initial molecule counts\n",
    "A0 = 30110\n",
    "B0 = 0\n",
    "C0 = 0\n",
    "\n",
    "# Reaction volume\n",
    "volume = 5e-20         # in l\n",
    "\n",
    "\n",
    "# initial rates\n",
    "k1 = 0.024e7           # units are #/(Mol*s)\n",
    "k2 = 0.015e-2           # units are 1/s\n",
    "\n"
   ]
  },
  {
   "cell_type": "code",
   "execution_count": 46,
   "metadata": {
    "collapsed": false
   },
   "outputs": [
    {
     "data": {
      "text/plain": [
       "1600000000.0000002"
      ]
     },
     "execution_count": 46,
     "metadata": {},
     "output_type": "execute_result"
    }
   ],
   "source": [
    "k1/k2"
   ]
  },
  {
   "cell_type": "markdown",
   "metadata": {},
   "source": [
    "### Simulate "
   ]
  },
  {
   "cell_type": "code",
   "execution_count": 47,
   "metadata": {
    "collapsed": false
   },
   "outputs": [
    {
     "name": "stdout",
     "output_type": "stream",
     "text": [
      "iteration 0   time 3.559e-06\n",
      "iteration 1000   time 0.004385\n",
      "iteration 2000   time 0.008845\n",
      "iteration 3000   time 0.01343\n",
      "iteration 4000   time 0.01828\n",
      "iteration 5000   time 0.02313\n",
      "iteration 6000   time 0.02821\n",
      "iteration 7000   time 0.03382\n",
      "iteration 8000   time 0.03922\n",
      "iteration 9000   time 0.04483\n",
      "iteration 10000   time 0.05072\n",
      "iteration 11000   time 0.05718\n",
      "iteration 12000   time 0.06404\n",
      "iteration 13000   time 0.07105\n",
      "iteration 14000   time 0.07816\n",
      "iteration 15000   time 0.08657\n",
      "iteration 16000   time 0.09524\n",
      "iteration 17000   time 0.1041\n",
      "iteration 18000   time 0.1141\n",
      "iteration 19000   time 0.1251\n",
      "iteration 20000   time 0.1368\n",
      "iteration 21000   time 0.1502\n",
      "iteration 22000   time 0.1649\n",
      "iteration 23000   time 0.1818\n",
      "iteration 24000   time 0.2006\n",
      "iteration 25000   time 0.2225\n",
      "iteration 26000   time 0.2499\n",
      "iteration 27000   time 0.2869\n",
      "iteration 28000   time 0.3364\n",
      "iteration 29000   time 0.4171\n",
      "iteration 30000   time 0.7119\n"
     ]
    }
   ],
   "source": [
    "results = main(\n",
    "  A0 = A0,\n",
    "  B0 = B0,\n",
    "  C0 = C0,\n",
    "  k1 = k1,\n",
    "  k2 = k2,\n",
    "  maxTime=10,  \n",
    "  verbose=True\n",
    ")\n"
   ]
  },
  {
   "cell_type": "markdown",
   "metadata": {},
   "source": [
    "### Load and plot results "
   ]
  },
  {
   "cell_type": "code",
   "execution_count": 48,
   "metadata": {
    "collapsed": false
   },
   "outputs": [],
   "source": [
    "ts = results['time']\n",
    "molCounts = results['molCounts']\n",
    "molConcs = results['molConcs']"
   ]
  },
  {
   "cell_type": "code",
   "execution_count": 49,
   "metadata": {
    "collapsed": false
   },
   "outputs": [
    {
     "name": "stdout",
     "output_type": "stream",
     "text": [
      "109\n",
      "30001\n",
      "0\n"
     ]
    },
    {
     "data": {
      "text/plain": [
       "<matplotlib.text.Text at 0x10bd86990>"
      ]
     },
     "execution_count": 49,
     "metadata": {},
     "output_type": "execute_result"
    },
    {
     "data": {
      "image/png": "[encoded data removed]",
      "text/plain": [
       "<matplotlib.figure.Figure at 0x10bc07ad0>"
      ]
     },
     "metadata": {},
     "output_type": "display_data"
    },
    {
     "data": {
      "image/png": "[encoded data removed]",
      "text/plain": [
       "<matplotlib.figure.Figure at 0x10bc07a50>"
      ]
     },
     "metadata": {},
     "output_type": "display_data"
    }
   ],
   "source": [
    "plt.figure()\n",
    "for i in np.arange(3):\n",
    "  plt.plot(ts,molCounts[:,i],label=\"Species %d\"%i)\n",
    "  print molCounts[-1,i]\n",
    "plt.xlabel(\"Count\")\n",
    "plt.ylabel(\"time\")\n",
    "plt.legend()\n",
    "\n",
    "\n",
    "plt.figure()\n",
    "for i in np.arange(3):\n",
    "  plt.plot(ts,molConcs[:,i],label=\"Species %d\"%i)\n",
    "plt.xlabel(\"Count\")\n",
    "plt.ylabel(\"time\")\n"
   ]
  },
  {
   "cell_type": "code",
   "execution_count": null,
   "metadata": {
    "collapsed": false
   },
   "outputs": [],
   "source": []
  }
 ],
 "metadata": {
  "kernelspec": {
   "display_name": "Python 2",
   "language": "python",
   "name": "python2"
  },
  "language_info": {
   "codemirror_mode": {
    "name": "ipython",
    "version": 2
   },
   "file_extension": ".py",
   "mimetype": "text/x-python",
   "name": "python",
   "nbconvert_exporter": "python",
   "pygments_lexer": "ipython2",
   "version": "2.7.13"
  }
 },
 "nbformat": 4,
 "nbformat_minor": 0
}
