{
 "metadata": {
  "kernelspec": {
   "display_name": "Python 2",
   "language": "python",
   "name": "python2"
  },
  "language_info": {
   "codemirror_mode": {
    "name": "ipython",
    "version": 2
   },
   "file_extension": ".py",
   "mimetype": "text/x-python",
   "name": "python",
   "nbconvert_exporter": "python",
   "pygments_lexer": "ipython2",
   "version": "2.7.11"
  },
  "name": "",
  "signature": "sha256:a24f2cd43386a8d103bdd3f34a82719fa880a0bbc4dfa626ae3329f1722777d7"
 },
 "nbformat": 3,
 "nbformat_minor": 0,
 "worksheets": [
  {
   "cells": [
    {
     "cell_type": "markdown",
     "metadata": {},
     "source": [
      "The goal of this notebook is to illustrate changes in concentration in two well-mixed compartments connected by a channel. The channel abides a Nernst relationship[ to determine the conductance ]"
     ]
    },
    {
     "cell_type": "code",
     "collapsed": false,
     "input": [
      "# Function for integreating ODE and displaying results\n",
      "import scipy.integrate\n",
      "from scipy.integrate import odeint\n",
      "import numpy as np\n",
      "import matplotlib.pylab as plt\n",
      "%matplotlib inline"
     ],
     "language": "python",
     "metadata": {},
     "outputs": [],
     "prompt_number": 1
    },
    {
     "cell_type": "markdown",
     "metadata": {},
     "source": [
      "<font color=red>WARNING: Got lazy with units</font>"
     ]
    },
    {
     "cell_type": "markdown",
     "metadata": {},
     "source": [
      "### Diffusion between two compartments of differing sizes\n",
      "\n",
      "Here we have two compartments (L and R), which have different volumes and initial concentrations. We define a flux between them based on a diffusion constant (gamma), concentration difference, and distance between comparmtments.\n",
      "\n",
      "THere should be no flux between compartments once they are in equilibrium "
     ]
    },
    {
     "cell_type": "code",
     "collapsed": false,
     "input": [
      "vL = 1.5 # volume \n",
      "vR = 0.5\n",
      "#def twoCompart(y,t,a):\n",
      "def twoCompart(y,t,a):\n",
      "\n",
      "    yL,yR = y  # concentrations in left/right compartments \n",
      "\n",
      "    # diff = gamma * dC/dx\n",
      "    gamma, dx = a # see below \n",
      "    diff = gamma * (yR - yL)/dx\n",
      "    \n",
      "    dyL_dt = diff\n",
      "    dyR_dt = -dyL_dt * vL/vR   # mass conservation\n",
      "    return [dyL_dt,dyR_dt]\n",
      "\n",
      "\n",
      "# points in time where the function gets evaluated, t[0] at y0\n",
      "t  = scipy.linspace(0.,500.,201) # ms\n",
      "# init conc\n",
      "yL0 = 0.1\n",
      "yR0 = 1.\n",
      "gamma = 0.01\n",
      "dx = 1.\n",
      "args = [gamma,dx]\n",
      "y0 = [yL0,yR0] # [uM]\n",
      "#y0 = [1.]\n",
      "\n",
      "#y = scipy.integrate.odeint(twoCompart,y0,t)#,args=(gamma,dx,))\n",
      "y = scipy.integrate.odeint(twoCompart,y0,t,args=(args,))"
     ],
     "language": "python",
     "metadata": {},
     "outputs": [],
     "prompt_number": 40
    },
    {
     "cell_type": "code",
     "collapsed": false,
     "input": [
      "plt.plot(t,y[:,0], label=\"L\")\n",
      "plt.plot(t,y[:,1], label=\"R\")\n",
      "plt.legend()"
     ],
     "language": "python",
     "metadata": {},
     "outputs": [
      {
       "metadata": {},
       "output_type": "pyout",
       "prompt_number": 41,
       "text": [
        "<matplotlib.legend.Legend at 0x7fd53a9736d0>"
       ]
      },
      {
       "metadata": {},
       "output_type": "display_data",
       "png": "[encoded data removed]",
       "text": [
        "<matplotlib.figure.Figure at 0x7fd53a7ff390>"
       ]
      }
     ],
     "prompt_number": 41
    },
    {
     "cell_type": "markdown",
     "metadata": {},
     "source": [
      "### Similar to previous, but with a concentration-dependent gate\n",
      "\n",
      "1. we add a constant source into the left compartment\n",
      "2. gamma is now dependent on the concentration in L\n",
      "\n",
      "Not the best parameters, but basically this shows that yL initially increases given the constant influx, then after exceeding a certain concentration (set by k), the rate slows as the gate controlling diffusion between compartments is opened"
     ]
    },
    {
     "cell_type": "code",
     "collapsed": false,
     "input": [
      "vL = 1.5 # volume \n",
      "vR = 50.\n",
      "\n",
      "# Hill\n",
      "def caGate(yL,k=2.):\n",
      "    return 1/((k/yL)**4 + 1)\n",
      "\n",
      "def twoCompartWGate(y,t,a):\n",
      "    yL,yR = y  # concentrations in left/right compartments \n",
      "\n",
      "    # get args\n",
      "    gamma, dx, constantFlux,k = a # see below \n",
      "    \n",
      "    # diff = gamma * dC/dx\n",
      "    diff = gamma * caGate(yL,k)* (yR - yL)/dx\n",
      "    \n",
      "    dyL_dt_diff = diff\n",
      "    dyR_dt_diff = -dyL_dt_diff * vL/vR   # mass conservation\n",
      "    \n",
      "    \n",
      "    # Add in sources/sinks\n",
      "    dyL_dt = dyL_dt_diff + constantFlux\n",
      "    dyR_dt = dyR_dt_diff\n",
      "    return [dyL_dt,dyR_dt]\n",
      "\n",
      "\n",
      "# points in time where the function gets evaluated, t[0] at y0\n",
      "t  = scipy.linspace(0.,100.,201) # ms\n",
      "# init conc\n",
      "yL0 = 1.\n",
      "yR0 = 1.\n",
      "constantFlux = 0.001 \n",
      "gamma = 1.\n",
      "dx = 1.\n",
      "y0 = [yL0,yR0] # [uM]\n",
      "#y0 = [1.]\n",
      "\n",
      "k=2.\n",
      "args = [gamma,dx,constantFlux,k]\n",
      "y2 = scipy.integrate.odeint(twoCompartWGate,y0,t,args=(args,))\n",
      "\n",
      "k=10.\n",
      "args = [gamma,dx,constantFlux,k]\n",
      "y10 = scipy.integrate.odeint(twoCompartWGate,y0,t,args=(args,))"
     ],
     "language": "python",
     "metadata": {},
     "outputs": [],
     "prompt_number": 107
    },
    {
     "cell_type": "code",
     "collapsed": false,
     "input": [
      "plt.plot(t,y2[:,0], 'r',label=\"L, k2\")\n",
      "plt.plot(t,y2[:,1], 'k',label=\"R, k2\")\n",
      "plt.plot(t,y10[:,0], 'r--',label=\"L, k10\")\n",
      "plt.plot(t,y10[:,1], 'k--',label=\"R, k10\")\n",
      "\n",
      "plt.legend(loc=0)\n"
     ],
     "language": "python",
     "metadata": {},
     "outputs": [
      {
       "metadata": {},
       "output_type": "pyout",
       "prompt_number": 108,
       "text": [
        "<matplotlib.legend.Legend at 0x7fd5394fc750>"
       ]
      },
      {
       "metadata": {},
       "output_type": "display_data",
       "png": "[encoded data removed]",
       "text": [
        "<matplotlib.figure.Figure at 0x7fd539642c50>"
       ]
      }
     ],
     "prompt_number": 108
    },
    {
     "cell_type": "code",
     "collapsed": true,
     "input": [],
     "language": "python",
     "metadata": {},
     "outputs": [],
     "prompt_number": null
    },
    {
     "cell_type": "code",
     "collapsed": true,
     "input": [],
     "language": "python",
     "metadata": {},
     "outputs": [],
     "prompt_number": null
    }
   ],
   "metadata": {}
  }
 ]
}