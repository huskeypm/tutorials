{
 "metadata": {
  "name": "",
  "signature": "sha256:f815dea6e21fd7845d5bac32ce0ca5c25f0ce3574666ba4a7089832bc37cdac0"
 },
 "nbformat": 3,
 "nbformat_minor": 0,
 "worksheets": [
  {
   "cells": [
    {
     "cell_type": "markdown",
     "metadata": {},
     "source": [
      "https://nicolewhite.github.io/2014/06/10/steady-state-transition-matrix.html"
     ]
    },
    {
     "cell_type": "markdown",
     "metadata": {},
     "source": [
      "Assume transition probability matrix of the following form\n",
      "<code>\n",
      "\\##         Open  Closed Refract Inactive \n",
      "\\## Open     0.4    0.4    0.2    0.2    \n",
      "\\## Closed   0.0    0.5    0.5    0.2\n",
      "\\## Refract  0.1    0.3    0.6    0.2\n",
      "\\## Inactive 0.1    0.3    0.6    0.2\n",
      "</code>"
     ]
    },
    {
     "cell_type": "code",
     "collapsed": false,
     "input": [
      "p = np.array([[0.3,0.4,0.2,0.1],\n",
      "              [0.2,0.0,0.3,0.2],\n",
      "              [0.4,0.5,0.1,0.1],\n",
      "              [0.1,0.1,0.4,0.6]]).T"
     ],
     "language": "python",
     "metadata": {},
     "outputs": [],
     "prompt_number": 132
    },
    {
     "cell_type": "markdown",
     "metadata": {},
     "source": [
      "Note that for each state (row), the sum of all transition probabilities is one (e.g. 100\\% probability of ending up in one of the three possible states)"
     ]
    },
    {
     "cell_type": "code",
     "collapsed": false,
     "input": [
      "np.sum(p,axis=1)"
     ],
     "language": "python",
     "metadata": {},
     "outputs": [
      {
       "metadata": {},
       "output_type": "pyout",
       "prompt_number": 133,
       "text": [
        "array([ 1.,  1.,  1.,  1.])"
       ]
      }
     ],
     "prompt_number": 133
    },
    {
     "cell_type": "markdown",
     "metadata": {},
     "source": [
      "Assume now a two-step transition matrix, e.g. the probability of being in state j in two days given i am in state i currently"
     ]
    },
    {
     "cell_type": "code",
     "collapsed": false,
     "input": [
      "p2 = numpy.linalg.matrix_power(p,2)\n",
      "print p2\n",
      "\n",
      "print np.sum(p2,axis=1)"
     ],
     "language": "python",
     "metadata": {},
     "outputs": [
      {
       "output_type": "stream",
       "stream": "stdout",
       "text": [
        "[[ 0.26  0.2   0.27  0.27]\n",
        " [ 0.23  0.25  0.22  0.3 ]\n",
        " [ 0.24  0.15  0.28  0.33]\n",
        " [ 0.19  0.17  0.21  0.43]]\n",
        "[ 1.  1.  1.  1.]\n"
       ]
      }
     ],
     "prompt_number": 134
    },
    {
     "cell_type": "markdown",
     "metadata": {},
     "source": [
      "In five days"
     ]
    },
    {
     "cell_type": "code",
     "collapsed": false,
     "input": [
      "p5 = numpy.linalg.matrix_power(p,5)\n",
      "print p5\n"
     ],
     "language": "python",
     "metadata": {},
     "outputs": [
      {
       "output_type": "stream",
       "stream": "stdout",
       "text": [
        "[[ 0.22711  0.18697  0.24427  0.34165]\n",
        " [ 0.22734  0.18567  0.24513  0.34186]\n",
        " [ 0.22499  0.18783  0.24148  0.3457 ]\n",
        " [ 0.22343  0.18676  0.24022  0.34959]]\n"
       ]
      }
     ],
     "prompt_number": 135
    },
    {
     "cell_type": "markdown",
     "metadata": {},
     "source": [
      "In ten days "
     ]
    },
    {
     "cell_type": "code",
     "collapsed": false,
     "input": [
      "p10 = numpy.linalg.matrix_power(p,10)\n",
      "print p10\n"
     ],
     "language": "python",
     "metadata": {},
     "outputs": [
      {
       "output_type": "stream",
       "stream": "stdout",
       "text": [
        "[[ 0.22537788  0.18686526  0.2423656   0.34539126]\n",
        " [ 0.22537498  0.18686765  0.24236123  0.34539614]\n",
        " [ 0.22536909  0.1868609   0.24235772  0.3454123 ]\n",
        " [ 0.2253572   0.18686039  0.24234456  0.34543786]]\n"
       ]
      }
     ],
     "prompt_number": 136
    },
    {
     "cell_type": "markdown",
     "metadata": {},
     "source": [
      "Note that we are converging to steady values \n",
      "\n",
      "$$\n",
      "error = p0i_{t=10} - p0i_{t=5}\n",
      "$$"
     ]
    },
    {
     "cell_type": "code",
     "collapsed": false,
     "input": [
      "error = np.abs(p10[0,:]-p5[0,:])/p5[0,:3]\n",
      "print error"
     ],
     "language": "python",
     "metadata": {},
     "outputs": [
      {
       "output_type": "stream",
       "stream": "stdout",
       "text": [
        "[ 0.00762679  0.00056017  0.0077963 ]\n"
       ]
      }
     ],
     "prompt_number": 137
    },
    {
     "cell_type": "markdown",
     "metadata": {},
     "source": [
      "We can define from this a Steady state vector, $\\mu$"
     ]
    },
    {
     "cell_type": "code",
     "collapsed": false,
     "input": [
      "u10 = p10[0,:]\n",
      "print u10"
     ],
     "language": "python",
     "metadata": {},
     "outputs": [
      {
       "output_type": "stream",
       "stream": "stdout",
       "text": [
        "[ 0.22537788  0.18686526  0.2423656   0.34539126]\n"
       ]
      }
     ],
     "prompt_number": 138
    },
    {
     "cell_type": "markdown",
     "metadata": {},
     "source": [
      "This vector has the unique property that \n",
      "$$ uP = u $$\n",
      "\n",
      "Rearranging, we can relate $\\mu$ to a column of zeros (the null space) \n",
      "$$ uP -  u = 0\\\\\n",
      "uP -  uI = 0\\\\\n",
      "u(P - I) = 0\\\\\n",
      "(u(P - I))^T = 0^T\\\\\n",
      "(P - I)^Tu^T = 0^T\n",
      "$$\n",
      "\n",
      "The advantage of this approach is that we can determine $\\mu$, but solving for the 'null space' of $(P-I)$"
     ]
    },
    {
     "cell_type": "markdown",
     "metadata": {},
     "source": [
      "We will find the null space numerically (via singular value decomposition)"
     ]
    },
    {
     "cell_type": "code",
     "collapsed": false,
     "input": [
      "def null(a, rtol=1e-5):\n",
      "    u, s, v = np.linalg.svd(a)\n",
      "    rank = (s > rtol*s[0]).sum()\n",
      "    return rank, v[rank:].T.copy()"
     ],
     "language": "python",
     "metadata": {},
     "outputs": [],
     "prompt_number": 127
    },
    {
     "cell_type": "markdown",
     "metadata": {},
     "source": [
      "Approach\n",
      "- Compute $(P-I)^T$ \n",
      "- Do SVD\n",
      "- Normalize result"
     ]
    },
    {
     "cell_type": "code",
     "collapsed": false,
     "input": [
      "n = np.shape(p)[0]\n",
      "pmI = np.transpose(p-np.identity(n))\n"
     ],
     "language": "python",
     "metadata": {},
     "outputs": [],
     "prompt_number": 128
    },
    {
     "cell_type": "code",
     "collapsed": false,
     "input": [
      "basis = null(pmI)[1]\n",
      "uNull =  basis/sum(basis)\n",
      "print uNull"
     ],
     "language": "python",
     "metadata": {},
     "outputs": [
      {
       "output_type": "stream",
       "stream": "stdout",
       "text": [
        "[[ 0.22536806]\n",
        " [ 0.18686297]\n",
        " [ 0.24235561]\n",
        " [ 0.34541336]]\n"
       ]
      }
     ],
     "prompt_number": 129
    },
    {
     "cell_type": "markdown",
     "metadata": {},
     "source": [
      "Not bad!"
     ]
    },
    {
     "cell_type": "code",
     "collapsed": false,
     "input": [
      "print np.abs(uNull.T-u10)/u10"
     ],
     "language": "python",
     "metadata": {},
     "outputs": [
      {
       "output_type": "stream",
       "stream": "stdout",
       "text": [
        "[[  4.35503249e-05   1.22951828e-05   4.12290814e-05   6.40008480e-05]]\n"
       ]
      }
     ],
     "prompt_number": 130
    },
    {
     "cell_type": "code",
     "collapsed": false,
     "input": [],
     "language": "python",
     "metadata": {},
     "outputs": []
    }
   ],
   "metadata": {}
  }
 ]
}