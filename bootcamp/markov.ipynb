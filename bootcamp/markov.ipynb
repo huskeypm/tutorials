{
 "cells": [
  {
   "cell_type": "markdown",
   "metadata": {},
   "source": [
    "### Tests\n"
   ]
  },
  {
   "cell_type": "code",
   "execution_count": 1,
   "metadata": {},
   "outputs": [],
   "source": [
    "# Function for integreating ODE and displaying results\n",
    "import scipy.integrate\n",
    "from scipy.integrate import odeint\n",
    "import numpy as np\n",
    "import matplotlib.pylab as plt\n",
    "%matplotlib inline"
   ]
  },
  {
   "cell_type": "markdown",
   "metadata": {},
   "source": [
    "#### Simplest system - monoexponential decay\n",
    "\n",
    "$dy/dt = -a \\cdot y$\n",
    "\n",
    "Solution:\n",
    "$y = c e^{-at}$"
   ]
  },
  {
   "cell_type": "code",
   "execution_count": 2,
   "metadata": {},
   "outputs": [],
   "source": [
    "def f(y,t,a):\n",
    "    dydt = -a*y[0]\n",
    "    return dydt\n",
    "\n",
    "# points in time where the function gets evaluated, t[0] at y0\n",
    "t  = scipy.linspace(0.,10.,201)\n",
    "# init conc\n",
    "y0 = [16.]\n",
    "\n",
    "# rate\n",
    "a=0.5  # \n",
    "y = scipy.integrate.odeint(f,y0,t,args=(a,))"
   ]
  },
  {
   "cell_type": "markdown",
   "metadata": {},
   "source": [
    "Below are the data from the class demonstration"
   ]
  },
  {
   "cell_type": "code",
   "execution_count": 3,
   "metadata": {},
   "outputs": [],
   "source": [
    "# class data\n",
    "\n",
    "yClass = [16.,8.,4.,2.,1.]\n",
    "tClass = np.arange(5)  # t=0,1,2,3,4\n"
   ]
  },
  {
   "cell_type": "markdown",
   "metadata": {},
   "source": [
    "Here we compare results. Why do the class results deviate from the analytical solution? "
   ]
  },
  {
   "cell_type": "code",
   "execution_count": 4,
   "metadata": {},
   "outputs": [
    {
     "data": {
      "text/plain": [
       "<matplotlib.legend.Legend at 0x7f9f521bfa50>"
      ]
     },
     "execution_count": 4,
     "metadata": {},
     "output_type": "execute_result"
    },
    {
     "data": {
      "image/png": "[encoded data removed]",
      "text/plain": [
       "<matplotlib.figure.Figure at 0x7f9f5227bb50>"
      ]
     },
     "metadata": {},
     "output_type": "display_data"
    }
   ],
   "source": [
    "plt.plot(t,y,'k.',label=\"Numerical result\")\n",
    "\n",
    "analyticalResult = y[0]*np.exp(-a*t)\n",
    "plt.plot(t,analyticalResult,label=\"Analytical result\")\n",
    "\n",
    "plt.plot(tClass,yClass,'r.',label=\"Class\")\n",
    "\n",
    "plt.ylabel(\"C\")\n",
    "plt.xlabel(\"t\")\n",
    "plt.legend()"
   ]
  },
  {
   "cell_type": "markdown",
   "metadata": {},
   "source": [
    "#### Simple system - two components\n",
    "\\begin{align}\n",
    "\\dot{y_0} &= -a_{00} y_0 \\\\\n",
    "\\dot{y_1} &= -a_{11} y_1 \\\\\n",
    "\\end{align}\n",
    "\n",
    "Using Jacobian:\n",
    " ( $a_{ij} = \\frac{dy_i}{da_j}$)\n",
    " \n",
    " \n",
    "First verifying that diagonal Jacobian with negative rate constants yields exponential decay"
   ]
  },
  {
   "cell_type": "markdown",
   "metadata": {},
   "source": [
    "$\\frac{dy[0]}{dt} = a\\cdot y[0] +b\\cdot y[1]$\n",
    "\n",
    "$\\frac{dy[1]}{dt} = c\\cdot y[0]+d\\cdot y[1]$ "
   ]
  },
  {
   "cell_type": "code",
   "execution_count": 5,
   "metadata": {},
   "outputs": [
    {
     "data": {
      "text/plain": [
       "<matplotlib.legend.Legend at 0x7f9ffee98810>"
      ]
     },
     "execution_count": 5,
     "metadata": {},
     "output_type": "execute_result"
    },
    {
     "data": {
      "image/png": "[encoded data removed]",
      "text/plain": [
       "<matplotlib.figure.Figure at 0x7f9f4f4267d0>"
      ]
     },
     "metadata": {},
     "output_type": "display_data"
    }
   ],
   "source": [
    "\n",
    "def f(y,t,a):\n",
    "  return np.dot(a,y)\n",
    "#    return [a[0,0]*y[0] + a[0,1]*y[1],\\\n",
    "#            a[1,0]*y[0] + a[1,1]*y[1]]\n",
    "\n",
    "\n",
    "t  = scipy.linspace(0.,50.,201)\n",
    "\n",
    "# Initial conc. \n",
    "y0 = [2,3]\n",
    "\n",
    "# Jacobian\n",
    "J = 0.1*np.array([[-1.0,0.],[0,-1.]])\n",
    "\n",
    "y = scipy.integrate.odeint(f,y0,t,args=(J,))\n",
    "plt.plot(t,y[:,0],\"b-\",label=\"y$_0$\")\n",
    "plt.plot(t,y[:,1],\"r-\",label=\"y$_1$\")\n",
    "plt.ylabel(\"$[y_i]$\")\n",
    "plt.xlabel(\"t\")\n",
    "plt.legend(loc=0)\n"
   ]
  },
  {
   "cell_type": "markdown",
   "metadata": {},
   "source": [
    "#### Simple system - two components in equilibrium\n",
    "\n",
    "$y_0 \\leftrightarrow y_1$\n",
    "\n",
    "\\begin{align}\n",
    "\\dot{y_0} &= -k_f y_0 + k_m y_1\\\\\n",
    "\\dot{y_1} &=  k_f y_0 - k_m y_1 \\\\\n",
    "\\end{align}\n",
    "\n"
   ]
  },
  {
   "cell_type": "code",
   "execution_count": 6,
   "metadata": {},
   "outputs": [],
   "source": [
    "\n",
    "# Jacobian\n",
    "kf=3.0\n",
    "kb=1.0\n",
    "J1 = np.array([\n",
    "  [-kf,kb],\n",
    "  [kf,-kb],\n",
    "])   \n",
    "t  = scipy.linspace(0.,1.,201)\n",
    "\n",
    "# our initial concentration \n",
    "y0 = 12\n",
    "y1 = 4\n",
    "\n",
    "ys = np.array([y0,y1],dtype=np.float)\n",
    "daSum = np.sum(ys)\n",
    "y = scipy.integrate.odeint(f,ys,t,args=(J1,))\n"
   ]
  },
  {
   "cell_type": "code",
   "execution_count": 7,
   "metadata": {},
   "outputs": [
    {
     "data": {
      "text/plain": [
       "<matplotlib.legend.Legend at 0x7f9ffebabfd0>"
      ]
     },
     "execution_count": 7,
     "metadata": {},
     "output_type": "execute_result"
    },
    {
     "data": {
      "image/png": "[encoded data removed]",
      "text/plain": [
       "<matplotlib.figure.Figure at 0x7fa02077f650>"
      ]
     },
     "metadata": {},
     "output_type": "display_data"
    }
   ],
   "source": [
    "\n",
    "plt.plot(t,y[:,0],\"b-\",label=\"y$_0$\")\n",
    "plt.plot(t,y[:,1],\"r-\",label=\"y$_1$\")\n",
    "plt.ylabel(\"$[y_i]$\")\n",
    "plt.xlabel(\"t\")\n",
    "plt.ylim([0,daSum])\n",
    "plt.legend(loc=0)\n"
   ]
  },
  {
   "cell_type": "markdown",
   "metadata": {},
   "source": [
    "#### Multi-component system with transition probability matrix J\n",
    "\n",
    "Using Jacobian:\n",
    " ( $a_{ij} = \\frac{dy_i}{da_j}$)\n",
    " \n",
    " "
   ]
  },
  {
   "cell_type": "code",
   "execution_count": 23,
   "metadata": {},
   "outputs": [
    {
     "data": {
      "text/plain": [
       "<matplotlib.legend.Legend at 0x10a226110>"
      ]
     },
     "execution_count": 23,
     "metadata": {},
     "output_type": "execute_result"
    },
    {
     "data": {
      "image/png": "[encoded data removed]",
      "text/plain": [
       "<matplotlib.figure.Figure at 0x109f15b90>"
      ]
     },
     "metadata": {},
     "output_type": "display_data"
    }
   ],
   "source": [
    "# points in time where the function gets evaluated, t[0] at y0\n",
    "t  = scipy.linspace(0.,2.,201)\n",
    "\n",
    "\n",
    "\n",
    "# Jacobian\n",
    "a=0.5\n",
    "b=2.0\n",
    "g=5.\n",
    "d=1.2\n",
    "J = np.array([\n",
    "  [-(a+g),b,d,0],\n",
    "  [a,-(b+g),0,d],\n",
    "  [g,0,-(a+d),b],\n",
    "  [0,g,a,-(b+d)]\n",
    "])   \n",
    "# Initial conc. \n",
    "y0 = np.array([1,2,3,4],dtype=np.float)\n",
    "y0 /= np.sum(y0)\n",
    "\n",
    "\n",
    "y = scipy.integrate.odeint(f,y0,t,args=(J,))\n",
    "plt.plot(t,y[:,0],\"b-\",label=\"y$_0$\")\n",
    "plt.plot(t,y[:,1],\"r-\",label=\"y$_1$\")\n",
    "plt.plot(t,y[:,2],\"g-\",label=\"y$_2$\")\n",
    "plt.plot(t,y[:,3],\"k-\",label=\"y$_3$\")\n",
    "plt.ylabel(\"$[y_i]$\")\n",
    "plt.xlabel(\"t\")\n",
    "plt.legend(loc=0)\n"
   ]
  },
  {
   "cell_type": "markdown",
   "metadata": {},
   "source": [
    "#### Grab bag"
   ]
  },
  {
   "cell_type": "markdown",
   "metadata": {},
   "source": [
    "Would like to relate this to an eigenvalue decomposition of a markovian process"
   ]
  },
  {
   "cell_type": "code",
   "execution_count": 24,
   "metadata": {},
   "outputs": [
    {
     "name": "stdout",
     "output_type": "stream",
     "text": [
      "(array([ -8.70000000e+00,  -6.20000000e+00,  -5.08274826e-17,\n",
      "        -2.50000000e+00]), array([[ 0.5       , -0.68599434,  0.22640502, -0.1650196 ],\n",
      "       [-0.5       , -0.17149859,  0.05660125,  0.1650196 ],\n",
      "       [-0.5       ,  0.68599434,  0.94335425, -0.68758166],\n",
      "       [ 0.5       ,  0.17149859,  0.23583856,  0.68758166]]))\n"
     ]
    }
   ],
   "source": [
    "\n",
    "print np.linalg.eig(J)"
   ]
  },
  {
   "cell_type": "markdown",
   "metadata": {},
   "source": [
    "%%latex\n",
    "\n",
    "\\begin{equation}\n",
    "A \\leftarrow k_f, k_b\\rightarrow B \n",
    "\\end{equation}\n",
    "\n",
    "\\begin{align}\n",
    "A_0 &= 12 & B_0 &= 4\\\\\n",
    "k_f &= 3. & k_b &= 1\\\\\n",
    "A_f &= 4 & B_f &= 12\n",
    "\\end{align}"
   ]
  },
  {
   "cell_type": "code",
   "execution_count": 25,
   "metadata": {},
   "outputs": [],
   "source": [
    "kf=3.0\n",
    "kb=1.0\n",
    "J1 = np.array([\n",
    "  [-kf,kb],\n",
    "  [kf,-kb],\n",
    "]) "
   ]
  },
  {
   "cell_type": "code",
   "execution_count": 26,
   "metadata": {},
   "outputs": [
    {
     "name": "stdout",
     "output_type": "stream",
     "text": [
      "Iter  0\n",
      "y0  [ 12.   4.]\n",
      "dy  [-3.2  3.2]\n",
      "yN  [ 8.8  7.2]\n",
      "Iter  1\n",
      "y0  [ 8.8  7.2]\n",
      "dy  [-1.92  1.92]\n",
      "yN  [ 6.88  9.12]\n",
      "Iter  2\n",
      "y0  [ 6.88  9.12]\n",
      "dy  [-1.152  1.152]\n",
      "yN  [  5.728  10.272]\n",
      "Iter  3\n",
      "y0  [  5.728  10.272]\n",
      "dy  [-0.6912  0.6912]\n",
      "yN  [  5.0368  10.9632]\n",
      "Iter  4\n",
      "y0  [  5.0368  10.9632]\n",
      "dy  [-0.41472  0.41472]\n",
      "yN  [  4.62208  11.37792]\n",
      "kb/kf 0.333333333333\n",
      "A/B 0.406232422095\n"
     ]
    }
   ],
   "source": [
    "r = 1*0.1\n",
    "\n",
    "yN = np.array([12,4],dtype=np.float)\n",
    "y0 = yN\n",
    "\n",
    "iters = np.arange(5)\n",
    "for i in iters:\n",
    "  y0 = yN  \n",
    "  dydt = np.dot(J1,y0 )\n",
    "  print \"Iter \", i\n",
    "  print \"y0 \", y0  \n",
    "  print \"dy \", dydt*r\n",
    "  yN = y0 + dydt*r\n",
    "  print \"yN \", yN\n",
    "\n",
    "\n",
    "    \n",
    "print \"kb/kf\", kb/kf    \n",
    "print \"A/B\", yN[0]/yN[1]"
   ]
  },
  {
   "cell_type": "code",
   "execution_count": 12,
   "metadata": {},
   "outputs": [
    {
     "data": {
      "text/plain": [
       "array([  5.0368,  10.9632])"
      ]
     },
     "execution_count": 12,
     "metadata": {},
     "output_type": "execute_result"
    }
   ],
   "source": [
    "y0"
   ]
  },
  {
   "cell_type": "code",
   "execution_count": 4,
   "metadata": {},
   "outputs": [],
   "source": [
    "from multiprocessing.dummy import Pool as ThreadPool \n",
    "def my_function():\n",
    "    print \"Hi\""
   ]
  },
  {
   "cell_type": "code",
   "execution_count": 8,
   "metadata": {},
   "outputs": [
    {
     "ename": "NameError",
     "evalue": "name 'Pool' is not defined",
     "output_type": "error",
     "traceback": [
      "\u001b[0;31m---------------------------------------------------------------------------\u001b[0m",
      "\u001b[0;31mNameError\u001b[0m                                 Traceback (most recent call last)",
      "\u001b[0;32m<ipython-input-8-f4204fa0eb14>\u001b[0m in \u001b[0;36m<module>\u001b[0;34m()\u001b[0m\n\u001b[1;32m     14\u001b[0m \u001b[0;34m\u001b[0m\u001b[0m\n\u001b[1;32m     15\u001b[0m \u001b[0;31m# open the urls in their own threads and return the results\u001b[0m\u001b[0;34m\u001b[0m\u001b[0;34m\u001b[0m\u001b[0m\n\u001b[0;32m---> 16\u001b[0;31m \u001b[0;32mwith\u001b[0m \u001b[0mPool\u001b[0m\u001b[0;34m(\u001b[0m\u001b[0;36m4\u001b[0m\u001b[0;34m)\u001b[0m \u001b[0;32mas\u001b[0m \u001b[0mpool\u001b[0m\u001b[0;34m:\u001b[0m\u001b[0;34m\u001b[0m\u001b[0m\n\u001b[0m\u001b[1;32m     17\u001b[0m     \u001b[0mresults\u001b[0m \u001b[0;34m=\u001b[0m \u001b[0mpool\u001b[0m\u001b[0;34m.\u001b[0m\u001b[0mmap\u001b[0m\u001b[0;34m(\u001b[0m\u001b[0murllib2\u001b[0m\u001b[0;34m.\u001b[0m\u001b[0murlopen\u001b[0m\u001b[0;34m,\u001b[0m \u001b[0murls\u001b[0m\u001b[0;34m)\u001b[0m\u001b[0;34m\u001b[0m\u001b[0m\n",
      "\u001b[0;31mNameError\u001b[0m: name 'Pool' is not defined"
     ]
    }
   ],
   "source": [
    "import urllib2 \n",
    "from multiprocessing.dummy import Pool as ThreadPool \n",
    "\n",
    "urls = [\n",
    "  'http://www.python.org', \n",
    "  'http://www.python.org/about/',\n",
    "  'http://www.onlamp.com/pub/a/python/2003/04/17/metaclasses.html',\n",
    "  'http://www.python.org/doc/',\n",
    "  'http://www.python.org/download/',\n",
    "  'http://www.python.org/getit/',\n",
    "  'http://www.python.org/community/',\n",
    "  'https://wiki.python.org/moin/',\n",
    "  ]\n",
    "\n",
    "# open the urls in their own threads and return the results\n",
    "with Pool(4) as pool:\n",
    "    results = pool.map(urllib2.urlopen, urls)"
   ]
  },
  {
   "cell_type": "code",
   "execution_count": null,
   "metadata": {
    "collapsed": true
   },
   "outputs": [],
   "source": []
  }
 ],
 "metadata": {
  "kernelspec": {
   "display_name": "Python 2",
   "language": "python",
   "name": "python2"
  },
  "language_info": {
   "codemirror_mode": {
    "name": "ipython",
    "version": 2
   },
   "file_extension": ".py",
   "mimetype": "text/x-python",
   "name": "python",
   "nbconvert_exporter": "python",
   "pygments_lexer": "ipython2",
   "version": "2.7.11"
  }
 },
 "nbformat": 4,
 "nbformat_minor": 1
}
