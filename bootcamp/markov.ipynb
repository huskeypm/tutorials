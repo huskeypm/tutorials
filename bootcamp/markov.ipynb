{
 "metadata": {
  "name": "",
  "signature": "sha256:27244b562c51b79fd5c1e99e56d6eed6b27560f6bfa6e42a0662025c4586d44f"
 },
 "nbformat": 3,
 "nbformat_minor": 0,
 "worksheets": [
  {
   "cells": [
    {
     "cell_type": "markdown",
     "metadata": {},
     "source": [
      "### Tests\n"
     ]
    },
    {
     "cell_type": "code",
     "collapsed": false,
     "input": [
      "# Function for integreating ODE and displaying results\n",
      "import scipy.integrate\n",
      "from scipy.integrate import odeint"
     ],
     "language": "python",
     "metadata": {},
     "outputs": [],
     "prompt_number": 1
    },
    {
     "cell_type": "markdown",
     "metadata": {},
     "source": [
      "#### Simplest system - monoexponential decay\n",
      "\n",
      "$dy/dt = -a \\cdot y$\n",
      "\n",
      "Solution:\n",
      "$y = c e^{-at}$"
     ]
    },
    {
     "cell_type": "code",
     "collapsed": false,
     "input": [
      "def f(y,t,a):\n",
      "    dydt = -a*y[0]\n",
      "    return dydt\n",
      "\n",
      "# points in time where the function gets evaluated, t[0] at y0\n",
      "t  = scipy.linspace(0.,10.,201)\n",
      "# init conc\n",
      "y0 = [16.]\n",
      "\n",
      "# rate\n",
      "a=0.5  # \n",
      "y = scipy.integrate.odeint(f,y0,t,args=(a,))"
     ],
     "language": "python",
     "metadata": {},
     "outputs": [],
     "prompt_number": 2
    },
    {
     "cell_type": "markdown",
     "metadata": {},
     "source": [
      "Below are the data from the class demonstration"
     ]
    },
    {
     "cell_type": "code",
     "collapsed": false,
     "input": [
      "# class data\n",
      "\n",
      "yClass = [16.,8.,4.,2.,1.]\n",
      "tClass = np.arange(5)  # t=0,1,2,3,4\n"
     ],
     "language": "python",
     "metadata": {},
     "outputs": [],
     "prompt_number": 3
    },
    {
     "cell_type": "markdown",
     "metadata": {},
     "source": [
      "Here we compare results. Why do the class results deviate from the analytical solution? "
     ]
    },
    {
     "cell_type": "code",
     "collapsed": false,
     "input": [
      "plt.plot(t,y,'k.',label=\"Numerical result\")\n",
      "\n",
      "analyticalResult = y[0]*np.exp(-a*t)\n",
      "plt.plot(t,analyticalResult,label=\"Analytical result\")\n",
      "\n",
      "plt.plot(tClass,yClass,'r.',label=\"Class\")\n",
      "\n",
      "plt.ylabel(\"C\")\n",
      "plt.xlabel(\"t\")\n",
      "plt.legend()"
     ],
     "language": "python",
     "metadata": {},
     "outputs": [
      {
       "metadata": {},
       "output_type": "pyout",
       "prompt_number": 4,
       "text": [
        "<matplotlib.legend.Legend at 0x7f6d9c0a1d10>"
       ]
      },
      {
       "metadata": {},
       "output_type": "display_data",
       "png": "[encoded data removed]",
       "text": [
        "<matplotlib.figure.Figure at 0x7f6d9c0f6810>"
       ]
      }
     ],
     "prompt_number": 4
    },
    {
     "cell_type": "markdown",
     "metadata": {},
     "source": [
      "#### Simple system - two components\n",
      "\\begin{align}\n",
      "\\dot{y_0} &= -a_{00} y_0 \\\\\n",
      "\\dot{y_1} &= -a_{11} y_1 \\\\\n",
      "\\end{align}\n",
      "\n",
      "Using Jacobian:\n",
      " ( $a_{ij} = \\frac{dy_i}{da_j}$)\n",
      " \n",
      " \n",
      "First verifying that diagonal Jacobian with negative rate constants yields exponential decay"
     ]
    },
    {
     "cell_type": "markdown",
     "metadata": {},
     "source": [
      "$\\frac{dy[0]}{dt} = a\\cdot y[0] +b\\cdot y[1]$\n",
      "\n",
      "$\\frac{dy[1]}{dt} = c\\cdot y[0]+d\\cdot y[1]$ "
     ]
    },
    {
     "cell_type": "code",
     "collapsed": false,
     "input": [
      "\n",
      "def f(y,t,a):\n",
      "  return dot(a,y)\n",
      "#    return [a[0,0]*y[0] + a[0,1]*y[1],\\\n",
      "#            a[1,0]*y[0] + a[1,1]*y[1]]\n",
      "\n",
      "\n",
      "t  = scipy.linspace(0.,50.,201)\n",
      "\n",
      "# Initial conc. \n",
      "y0 = [2,3]\n",
      "\n",
      "# Jacobian\n",
      "J = 0.1*np.array([[-1.0,0.],[0,-1.]])\n",
      "\n",
      "y = scipy.integrate.odeint(f,y0,t,args=(J,))\n",
      "plot(t,y[:,0],\"b-\",label=\"y$_0$\")\n",
      "plot(t,y[:,1],\"r-\",label=\"y$_1$\")\n",
      "ylabel(\"$[y_i]$\")\n",
      "xlabel(\"t\")\n",
      "legend(loc=0)\n"
     ],
     "language": "python",
     "metadata": {},
     "outputs": [
      {
       "metadata": {},
       "output_type": "pyout",
       "prompt_number": 5,
       "text": [
        "<matplotlib.legend.Legend at 0x7f6d93a96410>"
       ]
      },
      {
       "metadata": {},
       "output_type": "display_data",
       "png": "[encoded data removed]",
       "text": [
        "<matplotlib.figure.Figure at 0x7f6d9c03bf50>"
       ]
      }
     ],
     "prompt_number": 5
    },
    {
     "cell_type": "markdown",
     "metadata": {},
     "source": [
      "#### Simple system - two components in equilibrium\n",
      "\n",
      "$y_0 \\leftrightarrow y_1$\n",
      "\n",
      "\\begin{align}\n",
      "\\dot{y_0} &= -k_f y_0 + k_m y_1\\\\\n",
      "\\dot{y_1} &=  k_f y_0 - k_m y_1 \\\\\n",
      "\\end{align}\n",
      "\n"
     ]
    },
    {
     "cell_type": "code",
     "collapsed": false,
     "input": [
      "\n",
      "# Jacobian\n",
      "kf=3.0\n",
      "kb=1.0\n",
      "J1 = np.array([\n",
      "  [-kf,kb],\n",
      "  [kf,-kb],\n",
      "])   \n",
      "t  = scipy.linspace(0.,1.,201)\n",
      "\n",
      "# our initial concentration \n",
      "y0 = 12\n",
      "y1 = 4\n",
      "\n",
      "ys = np.array([y0,y1],dtype=np.float)\n",
      "daSum = np.sum(ys)\n",
      "y = scipy.integrate.odeint(f,ys,t,args=(J1,))\n"
     ],
     "language": "python",
     "metadata": {},
     "outputs": [],
     "prompt_number": 6
    },
    {
     "cell_type": "code",
     "collapsed": false,
     "input": [
      "\n",
      "plot(t,y[:,0],\"b-\",label=\"y$_0$\")\n",
      "plot(t,y[:,1],\"r-\",label=\"y$_1$\")\n",
      "ylabel(\"$[y_i]$\")\n",
      "xlabel(\"t\")\n",
      "plt.ylim([0,daSum])\n",
      "legend(loc=0)\n"
     ],
     "language": "python",
     "metadata": {},
     "outputs": [
      {
       "metadata": {},
       "output_type": "pyout",
       "prompt_number": 7,
       "text": [
        "<matplotlib.legend.Legend at 0x7f6d9393aed0>"
       ]
      },
      {
       "metadata": {},
       "output_type": "display_data",
       "png": "[encoded data removed]",
       "text": [
        "<matplotlib.figure.Figure at 0x7f6d9c0f6050>"
       ]
      }
     ],
     "prompt_number": 7
    },
    {
     "cell_type": "markdown",
     "metadata": {},
     "source": [
      "#### Multi-component system with transition probability matrix J\n",
      "\n",
      "Using Jacobian:\n",
      " ( $a_{ij} = \\frac{dy_i}{da_j}$)\n",
      " \n",
      " "
     ]
    },
    {
     "cell_type": "code",
     "collapsed": false,
     "input": [
      "# points in time where the function gets evaluated, t[0] at y0\n",
      "t  = scipy.linspace(0.,2.,201)\n",
      "\n",
      "\n",
      "\n",
      "# Jacobian\n",
      "a=0.5\n",
      "b=2.0\n",
      "g=5.\n",
      "d=1.2\n",
      "J = np.array([\n",
      "  [-(a+g),b,d,0],\n",
      "  [a,-(b+g),0,d],\n",
      "  [g,0,-(a+d),b],\n",
      "  [0,g,a,-(b+d)]\n",
      "])   \n",
      "# Initial conc. \n",
      "y0 = np.array([1,2,3,4],dtype=np.float)\n",
      "y0 /= np.sum(y0)\n",
      "\n",
      "\n",
      "y = scipy.integrate.odeint(f,y0,t,args=(J,))\n",
      "plot(t,y[:,0],\"b-\",label=\"y$_0$\")\n",
      "plot(t,y[:,1],\"r-\",label=\"y$_1$\")\n",
      "plot(t,y[:,2],\"g-\",label=\"y$_2$\")\n",
      "plot(t,y[:,3],\"k-\",label=\"y$_3$\")\n",
      "ylabel(\"$[y_i]$\")\n",
      "xlabel(\"t\")\n",
      "legend(loc=0)\n"
     ],
     "language": "python",
     "metadata": {},
     "outputs": [
      {
       "metadata": {},
       "output_type": "pyout",
       "prompt_number": 8,
       "text": [
        "<matplotlib.legend.Legend at 0x7f6d9389ac10>"
       ]
      },
      {
       "metadata": {},
       "output_type": "display_data",
       "png": "[encoded data removed]",
       "text": [
        "<matplotlib.figure.Figure at 0x7f6d93b171d0>"
       ]
      }
     ],
     "prompt_number": 8
    },
    {
     "cell_type": "markdown",
     "metadata": {},
     "source": [
      "#### Grab bag"
     ]
    },
    {
     "cell_type": "markdown",
     "metadata": {},
     "source": [
      "Would like to relate this to an eigenvalue decomposition of a markovian process"
     ]
    },
    {
     "cell_type": "code",
     "collapsed": false,
     "input": [
      "\n",
      "print np.linalg.eig(J)"
     ],
     "language": "python",
     "metadata": {},
     "outputs": [
      {
       "output_type": "stream",
       "stream": "stdout",
       "text": [
        "(array([ -8.70000000e+00,  -6.20000000e+00,  -7.26540909e-16,\n",
        "        -2.50000000e+00]), array([[-0.5       ,  0.68599434,  0.22640502, -0.1650196 ],\n",
        "       [ 0.5       ,  0.17149859,  0.05660125,  0.1650196 ],\n",
        "       [ 0.5       , -0.68599434,  0.94335425, -0.68758166],\n",
        "       [-0.5       , -0.17149859,  0.23583856,  0.68758166]]))\n"
       ]
      }
     ],
     "prompt_number": 9
    },
    {
     "cell_type": "markdown",
     "metadata": {},
     "source": [
      "%%latex\n",
      "\n",
      "\\begin{equation}\n",
      "A \\leftarrow k_f, k_b\\rightarrow B \n",
      "\\end{equation}\n",
      "\n",
      "\\begin{align}\n",
      "A_0 &= 12 & B_0 &= 4\\\\\n",
      "k_f &= 3. & k_b &= 1\\\\\n",
      "A_f &= 4 & B_f &= 12\n",
      "\\end{align}"
     ]
    },
    {
     "cell_type": "code",
     "collapsed": false,
     "input": [
      "kf=3.0\n",
      "kb=1.0\n",
      "J1 = np.array([\n",
      "  [-kf,kb],\n",
      "  [kf,-kb],\n",
      "]) "
     ],
     "language": "python",
     "metadata": {},
     "outputs": [],
     "prompt_number": 10
    },
    {
     "cell_type": "code",
     "collapsed": false,
     "input": [
      "r = 1*0.1\n",
      "\n",
      "yN = np.array([12,4],dtype=np.float)\n",
      "y0 = yN\n",
      "\n",
      "iters = np.arange(5)\n",
      "for i in iters:\n",
      "  y0 = yN  \n",
      "  dydt = np.dot(J1,y0 )\n",
      "  print \"Iter \", i\n",
      "  print \"y0 \", y0  \n",
      "  print \"dy \", dydt*r\n",
      "  yN = y0 + dydt*r\n",
      "  print \"yN \", yN\n",
      "\n",
      "\n",
      "    \n",
      "print \"kb/kf\", kb/kf    \n",
      "print \"A/B\", yN[0]/yN[1]"
     ],
     "language": "python",
     "metadata": {},
     "outputs": [
      {
       "output_type": "stream",
       "stream": "stdout",
       "text": [
        "Iter  0\n",
        "y0  [ 12.   4.]\n",
        "dy  [-3.2  3.2]\n",
        "yN  [ 8.8  7.2]\n",
        "Iter  1\n",
        "y0  [ 8.8  7.2]\n",
        "dy  [-1.92  1.92]\n",
        "yN  [ 6.88  9.12]\n",
        "Iter  2\n",
        "y0  [ 6.88  9.12]\n",
        "dy  [-1.152  1.152]\n",
        "yN  [  5.728  10.272]\n",
        "Iter  3\n",
        "y0  [  5.728  10.272]\n",
        "dy  [-0.6912  0.6912]\n",
        "yN  [  5.0368  10.9632]\n",
        "Iter  4\n",
        "y0  [  5.0368  10.9632]\n",
        "dy  [-0.41472  0.41472]\n",
        "yN  [  4.62208  11.37792]\n",
        "kb/kf 0.333333333333\n",
        "A/B 0.406232422095\n"
       ]
      }
     ],
     "prompt_number": 11
    },
    {
     "cell_type": "code",
     "collapsed": false,
     "input": [
      "y0"
     ],
     "language": "python",
     "metadata": {},
     "outputs": [
      {
       "metadata": {},
       "output_type": "pyout",
       "prompt_number": 12,
       "text": [
        "array([  5.0368,  10.9632])"
       ]
      }
     ],
     "prompt_number": 12
    },
    {
     "cell_type": "code",
     "collapsed": false,
     "input": [],
     "language": "python",
     "metadata": {},
     "outputs": []
    }
   ],
   "metadata": {}
  }
 ]
}