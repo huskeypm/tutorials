{
 "metadata": {
  "name": "",
  "signature": "sha256:bc7f1198f579f2e7ddda59c51c4bd6829429c5013ee64193ea051c6418ace549"
 },
 "nbformat": 3,
 "nbformat_minor": 0,
 "worksheets": [
  {
   "cells": [
    {
     "cell_type": "markdown",
     "metadata": {},
     "source": [
      "The goal of this notebook is to illustrate changes in concentration in two well-mixed compartments connected by a channel. The channel abides a Nernst relationship[ to determine the conductance ]"
     ]
    },
    {
     "cell_type": "code",
     "collapsed": false,
     "input": [
      "# Function for integreating ODE and displaying results\n",
      "import scipy.integrate\n",
      "from scipy.integrate import odeint\n",
      "import numpy as np\n",
      "import matplotlib.pylab as plt\n",
      "%matplotlib inline"
     ],
     "language": "python",
     "metadata": {},
     "outputs": [],
     "prompt_number": 37
    },
    {
     "cell_type": "code",
     "collapsed": false,
     "input": [
      "def f(y,t,a):\n",
      "    dydt = -a   # *y[0]\n",
      "    return dydt\n",
      "\n",
      "def f2(y,t,a):\n",
      "    y0 = .1 # [uM]\n",
      "    funFactor = 5.\n",
      "    dydt = -phyTT * funFactor * np.log(y[0]/y0)   # *y[0]\n",
      "    dydt += 0.0 # for source\n",
      "    return dydt\n",
      "\n",
      "# phi cyto\n",
      "phiCyto = 0.1 # uM/ms\n",
      "VCyto =1.  #\n",
      "VTT = .1 # pL\n",
      "\n",
      "# points in time where the function gets evaluated, t[0] at y0\n",
      "t  = scipy.linspace(0.,500.,201) # ms\n",
      "# init conc\n",
      "y0 = [2000.] # [uM]\n",
      "\n",
      "# rate\n",
      "phyTT = phiCyto * VCyto/VTT #  uM/ms\n",
      "y = scipy.integrate.odeint(f,y0,t,args=(phyTT,))\n",
      "y2 = scipy.integrate.odeint(f2,y0,t,args=(phyTT,))"
     ],
     "language": "python",
     "metadata": {},
     "outputs": [],
     "prompt_number": 38
    },
    {
     "cell_type": "code",
     "collapsed": false,
     "input": [
      "plt.plot(t,y)\n",
      "plt.plot(t,y2)\n",
      "#plt.ylim([1900,2100])"
     ],
     "language": "python",
     "metadata": {},
     "outputs": [
      {
       "metadata": {},
       "output_type": "pyout",
       "prompt_number": 39,
       "text": [
        "[<matplotlib.lines.Line2D at 0x7f538248b610>]"
       ]
      },
      {
       "metadata": {},
       "output_type": "display_data",
       "png": "[encoded data removed]",
       "text": [
        "<matplotlib.figure.Figure at 0x7f538248b7d0>"
       ]
      }
     ],
     "prompt_number": 39
    },
    {
     "cell_type": "code",
     "collapsed": false,
     "input": [
      "np.log(2000/0.1)"
     ],
     "language": "python",
     "metadata": {},
     "outputs": [
      {
       "metadata": {},
       "output_type": "pyout",
       "prompt_number": 13,
       "text": [
        "9.9034875525361272"
       ]
      }
     ],
     "prompt_number": 13
    },
    {
     "cell_type": "code",
     "collapsed": false,
     "input": [],
     "language": "python",
     "metadata": {},
     "outputs": []
    }
   ],
   "metadata": {}
  }
 ]
}