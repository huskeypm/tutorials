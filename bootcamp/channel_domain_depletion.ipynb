{
 "cells": [
  {
   "cell_type": "markdown",
   "metadata": {},
   "source": [
    "The goal of this notebook is to illustrate changes in concentration in two well-mixed compartments connected by a channel. The channel abides a Nernst relationship[ to determine the conductance ]"
   ]
  },
  {
   "cell_type": "code",
   "execution_count": 1,
   "metadata": {
    "collapsed": false
   },
   "outputs": [],
   "source": [
    "# Function for integreating ODE and displaying results\n",
    "import scipy.integrate\n",
    "from scipy.integrate import odeint\n",
    "import numpy as np\n",
    "import matplotlib.pylab as plt\n",
    "%matplotlib inline"
   ]
  },
  {
   "cell_type": "code",
   "execution_count": 2,
   "metadata": {
    "collapsed": false
   },
   "outputs": [],
   "source": [
    "def f(y,t,a):\n",
    "    dydt = -a   # *y[0]\n",
    "    return dydt\n",
    "\n",
    "def f2(y,t,a):\n",
    "    y0 = .1 # [uM]\n",
    "    funFactor = 5.\n",
    "    dydt = -phyTT * funFactor * np.log(y[0]/y0)   # *y[0]\n",
    "    dydt += 0.0 # for source\n",
    "    return dydt\n",
    "\n",
    "# phi cyto\n",
    "phiCyto = 0.1 # uM/ms\n",
    "VCyto =1.  #\n",
    "VTT = .1 # pL\n",
    "\n",
    "# points in time where the function gets evaluated, t[0] at y0\n",
    "t  = scipy.linspace(0.,500.,201) # ms\n",
    "# init conc\n",
    "y0 = [2000.] # [uM]\n",
    "\n",
    "# rate\n",
    "phyTT = phiCyto * VCyto/VTT #  uM/ms\n",
    "y = scipy.integrate.odeint(f,y0,t,args=(phyTT,))\n",
    "y2 = scipy.integrate.odeint(f2,y0,t,args=(phyTT,))"
   ]
  },
  {
   "cell_type": "code",
   "execution_count": 3,
   "metadata": {
    "collapsed": false
   },
   "outputs": [
    {
     "data": {
      "text/plain": [
       "[<matplotlib.lines.Line2D at 0x111936fd0>]"
      ]
     },
     "execution_count": 3,
     "metadata": {},
     "output_type": "execute_result"
    },
    {
     "data": {
      "image/png": "[encoded data removed]",
      "text/plain": [
       "<matplotlib.figure.Figure at 0x111936b10>"
      ]
     },
     "metadata": {},
     "output_type": "display_data"
    }
   ],
   "source": [
    "plt.plot(t,y)\n",
    "plt.plot(t,y2)\n",
    "#plt.ylim([1900,2100])"
   ]
  },
  {
   "cell_type": "code",
   "execution_count": 4,
   "metadata": {
    "collapsed": false
   },
   "outputs": [
    {
     "data": {
      "text/plain": [
       "9.9034875525361272"
      ]
     },
     "execution_count": 4,
     "metadata": {},
     "output_type": "execute_result"
    }
   ],
   "source": [
    "np.log(2000/0.1)"
   ]
  },
  {
   "cell_type": "markdown",
   "metadata": {
    "collapsed": false
   },
   "source": [
    "Let's add some physical relationships\n",
    "- Let's assume that \n",
    "$$n_{TT}V_{TT}=V_{cell}$$, \n",
    "where the LHS n and V represent the number of TTs and cytosolic volume about a single TT\n",
    "- We can determine the rate of concentration change inside the cell, $\\phi$, via the relationship\n",
    "$$\n",
    "\\begin{align}\n",
    "\\phi_{cell} &= \\frac{I}{2FV} \\\\\n",
    "\\end{align}\n",
    "$$\n",
    "We'll use $\\phi=$7e-2 [uM/ms] from my lecture notes math, using I=400 pA, V = 30 pL\n",
    "- Assuming $\\phi$ is uniform, the corresponding current from a single TT is therefore given by\n",
    "$$\n",
    "\\begin{align}\n",
    "\\phi_{TT} &= \\phi_{cell}\\\\\n",
    "\\frac{I_{TT}}{zFV_{TT}} &= \\frac{I_{cell}}{zFV_{cell}} \\\\\n",
    "\\Rightarrow I_{TT} &= I_{cell} \\frac{V_{TT}}{V_{cell}}\n",
    "\\end{align}\n",
    "$$\n",
    "This evalutes to $I_{TT}=$4e-4 [pA], assuming there are 10e5 TTs\n",
    "- We can determine the corresponding surface flux along the TT boundary, and specifically at the LCC cluster, $\\Gamma_L$, using\n",
    "$$\n",
    "\\begin{align}\n",
    "\\int_{V_{tt}} \\phi dV&= \\int_{\\Gamma_{L}} \\nabla\\phi d\\Gamma \\\\\n",
    "\\Rightarrow V_{tt} \\phi &= i_{L} \\Gamma_L\n",
    "\\end{align}\n",
    "$$\n",
    "Assuming a circular release patch of radius 50 nm, $i_{LCC}=$ 280 [uM nm/ms]. Note that this last quantity can be used to define the flux amplitude in FEM simulations"
   ]
  },
  {
   "cell_type": "markdown",
   "metadata": {},
   "source": [
    "#### First let's demonstrate that we can predict conc changes for constant ilcc"
   ]
  },
  {
   "cell_type": "code",
   "execution_count": 104,
   "metadata": {
    "collapsed": false
   },
   "outputs": [
    {
     "name": "stdout",
     "output_type": "stream",
     "text": [
      "942477.796077\n",
      "[0.00025, -0.007957747154594767]\n"
     ]
    },
    {
     "data": {
      "text/plain": [
       "[<matplotlib.lines.Line2D at 0x119fcbcd0>]"
      ]
     },
     "execution_count": 104,
     "metadata": {},
     "output_type": "execute_result"
    },
    {
     "data": {
      "image/png": "[encoded data removed]",
      "text/plain": [
       "<matplotlib.figure.Figure at 0x119d77350>"
      ]
     },
     "metadata": {},
     "output_type": "display_data"
    }
   ],
   "source": [
    "saTT = 7500. # nm**2\n",
    "vTT = 3e7 # volume of cytosol around TT nm**3\n",
    "wTT = 100 # radius nm\n",
    "heightTT = 3e3 # height nm\n",
    "viTT = np.pi * heightTT * wTT # vol inside TT nm**2\n",
    "print viTT\n",
    "iCellMax = 400 # pA\n",
    "iTTmax = 280. # uM nm / ms\n",
    "cCyto = 0.1 # uM\n",
    "cTT = 2e3 # uM\n",
    "def i_to_phi(iTT):\n",
    "    phi = iTT * saTT / vTT\n",
    "    return phi\n",
    "\n",
    "\n",
    "def fConstant_iTT(yi,t,iTT):\n",
    "    phi = i_to_phi(iTT)\n",
    "    phiTT = -phi * vTT / viTT\n",
    "    dydt = [phi,phiTT]\n",
    "    #print dydt\n",
    "    return dydt\n",
    "\n",
    "# points in time where the function gets evaluated, t[0] at y0\n",
    "t  = scipy.linspace(0.,500.,201) # ms\n",
    "# init conc [cytosol]\n",
    "y0 = [cCyto,cTT] # [uM]\n",
    "print fConstant_iTT(y0,0,1)\n",
    "# rate\n",
    "#phyTT = phiCyto * VCyto/VTT #  uM/ms\n",
    "iTT = iTTmax\n",
    "y = scipy.integrate.odeint(fConstant_iTT,y0,t,args=(iTT,))\n",
    "\n",
    "plt.subplot(211)\n",
    "plt.plot(t,y[:,0],'-.',label=\"cyto\")\n",
    "plt.subplot(212)\n",
    "plt.plot(t,y[:,1],'-.',label=\"inner TT\")\n"
   ]
  },
  {
   "cell_type": "markdown",
   "metadata": {},
   "source": [
    "### define LCC flux"
   ]
  },
  {
   "cell_type": "code",
   "execution_count": 120,
   "metadata": {
    "collapsed": false
   },
   "outputs": [
    {
     "name": "stdout",
     "output_type": "stream",
     "text": [
      "280.0\n",
      "260.402741001\n"
     ]
    }
   ],
   "source": [
    "I_to_ilcc = iTTmax*saTT\n",
    "RT_o_zF = 12.5 # mV\n",
    "gCond = iTTmax/(RT_o_zF * np.log(cCyto/cTT))\n",
    "V = 0. # mV\n",
    "#print gCond\n",
    "def f_ilcc(cCyto,cTT):\n",
    "    ilcc = -gCond * RT_o_zF * (V-np.log(cCyto/cTT))   # *y[0]\n",
    "    ilcc = np.max([0,ilcc])\n",
    "    return ilcc\n",
    "\n",
    "\n",
    "print f_ilcc(cCyto,cTT) # init cond\n",
    "print f_ilcc(cCyto,cTT/2.) # reduced cTT\n",
    "\n",
    "\n",
    "#plt.plot( f_ilcc(0.1,y[:,1]) )\n"
   ]
  },
  {
   "cell_type": "markdown",
   "metadata": {},
   "source": [
    "### Now use LCC flux in ODE\n",
    "Note that the concs in cyto/TT don't change as much (since iLCC is reducing)"
   ]
  },
  {
   "cell_type": "code",
   "execution_count": 121,
   "metadata": {
    "collapsed": false
   },
   "outputs": [
    {
     "data": {
      "text/plain": [
       "[<matplotlib.lines.Line2D at 0x11d0923d0>]"
      ]
     },
     "execution_count": 121,
     "metadata": {},
     "output_type": "execute_result"
    },
    {
     "data": {
      "image/png": "[encoded data removed]",
      "text/plain": [
       "<matplotlib.figure.Figure at 0x11c05a450>"
      ]
     },
     "metadata": {},
     "output_type": "display_data"
    }
   ],
   "source": [
    "def fVariable_iTT(yi,t):#,iTT):\n",
    "    cCyto,cTT = yi\n",
    "    iTT = f_ilcc(cCyto,cTT)\n",
    "    phi = i_to_phi(iTT)\n",
    "    phiTT = -phi * vTT / viTT\n",
    "    dydt = [phi,phiTT]\n",
    "    #print dydt\n",
    "    return dydt\n",
    "\n",
    "# points in time where the function gets evaluated, t[0] at y0\n",
    "t  = scipy.linspace(0.,500.,201) # ms\n",
    "# init conc [cytosol]\n",
    "y0 = [cCyto,cTT] # [uM]\n",
    "# rate\n",
    "#phyTT = phiCyto * VCyto/VTT #  uM/ms\n",
    "\n",
    "y = scipy.integrate.odeint(fVariable_iTT,y0,t)#,args=(iTT,))\n",
    "\n",
    "plt.subplot(211)\n",
    "plt.plot(t,y[:,0],'-.',label=\"cyto\")\n",
    "plt.subplot(212)\n",
    "plt.plot(t,y[:,1],'-.',label=\"inner TT\")\n"
   ]
  },
  {
   "cell_type": "markdown",
   "metadata": {},
   "source": [
    "### Relate iLCC to whole-cell current "
   ]
  },
  {
   "cell_type": "code",
   "execution_count": 122,
   "metadata": {
    "collapsed": false
   },
   "outputs": [
    {
     "data": {
      "text/plain": [
       "<matplotlib.text.Text at 0x11d116550>"
      ]
     },
     "execution_count": 122,
     "metadata": {},
     "output_type": "execute_result"
    },
    {
     "data": {
      "image/png": "[encoded data removed]",
      "text/plain": [
       "<matplotlib.figure.Figure at 0x11c065b90>"
      ]
     },
     "metadata": {},
     "output_type": "display_data"
    }
   ],
   "source": [
    "ilcc_to_Icell = iCellMax/ iTTmax\n",
    "#print ilcc_to_Icell * iTTmax\n",
    "\n",
    "# dumb hack for calculating i at each time step\n",
    "#g = lambda x: vf_ilcc(x[0],x[1])\n",
    "def evalLCC(y):\n",
    "    ilccs = []\n",
    "    for i,yi in enumerate(y):\n",
    "      cCyto,cTT = yi  \n",
    "      ilccT = f_ilcc(cCyto,cTT)\n",
    "      ilccs.append(ilccT)  \n",
    "      #print cCyto, cTT\n",
    "    ilccs = np.asarray(ilccs)    \n",
    "    #print np.shape(ilccs)\n",
    "    return ilccs\n",
    "ilccs = evalLCC(y)\n",
    "\n",
    "#plt.plot(t,ilccs)\n",
    "#plt.figure()\n",
    "plt.plot(t,ilccs*ilcc_to_Icell)\n",
    "plt.ylabel(\"I [pA]\")\n",
    "plt.xlabel(\"t [ms]\")"
   ]
  },
  {
   "cell_type": "markdown",
   "metadata": {},
   "source": [
    "### To search for a good intraTT volume (e.g. slow domain volume)"
   ]
  },
  {
   "cell_type": "code",
   "execution_count": 125,
   "metadata": {
    "collapsed": false
   },
   "outputs": [
    {
     "data": {
      "text/plain": [
       "[<matplotlib.lines.Line2D at 0x11dd01fd0>]"
      ]
     },
     "execution_count": 125,
     "metadata": {},
     "output_type": "execute_result"
    },
    {
     "data": {
      "image/png": "[encoded data removed]",
      "text/plain": [
       "<matplotlib.figure.Figure at 0x11ba668d0>"
      ]
     },
     "metadata": {},
     "output_type": "display_data"
    },
    {
     "data": {
      "image/png": "[encoded data removed]",
      "text/plain": [
       "<matplotlib.figure.Figure at 0x11b206890>"
      ]
     },
     "metadata": {},
     "output_type": "display_data"
    }
   ],
   "source": [
    "def fVariable_iTT_Vol(yi,t,viTT):\n",
    "    cCyto,cTT = yi\n",
    "    iTT = f_ilcc(cCyto,cTT)\n",
    "    phi = i_to_phi(iTT)\n",
    "    phiTT = -phi * vTT / viTT\n",
    "    dydt = [phi,phiTT]\n",
    "    #print dydt\n",
    "    return dydt\n",
    "\n",
    "def fVariable_iTT_Vol_FixedCai(yi,t,viTT):\n",
    "    cCyto,cTT = yi\n",
    "    iTT = f_ilcc(0.1,cTT)\n",
    "    phi = i_to_phi(iTT)\n",
    "    phiTT = -phi * vTT / viTT\n",
    "    dydt = [phi,phiTT]\n",
    "    #print dydt\n",
    "    return dydt\n",
    "\n",
    "# points in time where the function gets evaluated, t[0] at y0\n",
    "t  = scipy.linspace(0.,500.,201) # ms\n",
    "# init conc [cytosol]\n",
    "y0 = [cCyto,cTT] # [uM]\n",
    "\n",
    "#####\n",
    "##\n",
    "viTT_trial = viTT * 1. \n",
    "y1 = scipy.integrate.odeint(fVariable_iTT_Vol,y0,t,args=(viTT_trial,))\n",
    "ilccs = evalLCC(y1)\n",
    "plt.plot(t,ilccs*ilcc_to_Icell)\n",
    "##\n",
    "viTT_trial = viTT * 0.5\n",
    "y2 = scipy.integrate.odeint(fVariable_iTT_Vol,y0,t,args=(viTT_trial,))\n",
    "ilccs = evalLCC(y2)\n",
    "plt.plot(t,ilccs*ilcc_to_Icell)\n",
    "\n",
    "##\n",
    "viTT_trial = viTT * 0.1\n",
    "y2 = scipy.integrate.odeint(fVariable_iTT_Vol,y0,t,args=(viTT_trial,))\n",
    "ilccs = evalLCC(y2)\n",
    "plt.plot(t,ilccs*ilcc_to_Icell)\n",
    "\n",
    "##\n",
    "viTT_trial = viTT * 0.05\n",
    "y3 = scipy.integrate.odeint(fVariable_iTT_Vol_FixedCai,y0,t,args=(viTT_trial,))\n",
    "ilccs = evalLCC(y3)\n",
    "plt.plot(t,ilccs*ilcc_to_Icell)\n",
    "\n",
    "plt.ylabel(\"I [pA]\")\n",
    "plt.xlabel(\"t [ms]\")\n",
    "plt.figure()\n",
    "plt.plot(t,y2[:,1])"
   ]
  },
  {
   "cell_type": "markdown",
   "metadata": {},
   "source": [
    "Note that the last one probably had an instability, since at some point the intraTT conc--> 0"
   ]
  },
  {
   "cell_type": "code",
   "execution_count": 116,
   "metadata": {
    "collapsed": false
   },
   "outputs": [
    {
     "data": {
      "text/plain": [
       "[<matplotlib.lines.Line2D at 0x11ba1f550>]"
      ]
     },
     "execution_count": 116,
     "metadata": {},
     "output_type": "execute_result"
    },
    {
     "data": {
      "image/png": "[encoded data removed]",
      "text/plain": [
       "<matplotlib.figure.Figure at 0x11c04f710>"
      ]
     },
     "metadata": {},
     "output_type": "display_data"
    },
    {
     "data": {
      "image/png": "[encoded data removed]",
      "text/plain": [
       "<matplotlib.figure.Figure at 0x11c04f510>"
      ]
     },
     "metadata": {},
     "output_type": "display_data"
    }
   ],
   "source": [
    "# Make finer resolution\n",
    "t  = scipy.linspace(0.,50.,2001) # ms\n",
    "# init conc [cytosol]\n",
    "y0 = [cCyto,cTT] # [uM]\n",
    "\n",
    "#####\n",
    "##\n",
    "viTT_trial = viTT * .05 \n",
    "yi = scipy.integrate.odeint(fVariable_iTT_Vol,y0,t,args=(viTT_trial,))\n",
    "ilccs = evalLCC(yi)\n",
    "plt.plot(t,ilccs*ilcc_to_Icell)\n",
    "plt.figure()\n",
    "plt.plot(t,yi[:,1])"
   ]
  },
  {
   "cell_type": "code",
   "execution_count": null,
   "metadata": {
    "collapsed": true
   },
   "outputs": [],
   "source": []
  },
  {
   "cell_type": "code",
   "execution_count": null,
   "metadata": {
    "collapsed": true
   },
   "outputs": [],
   "source": []
  }
 ],
 "metadata": {
  "kernelspec": {
   "display_name": "Python 2",
   "language": "python",
   "name": "python2"
  },
  "language_info": {
   "codemirror_mode": {
    "name": "ipython",
    "version": 2
   },
   "file_extension": ".py",
   "mimetype": "text/x-python",
   "name": "python",
   "nbconvert_exporter": "python",
   "pygments_lexer": "ipython2",
   "version": "2.7.11"
  }
 },
 "nbformat": 4,
 "nbformat_minor": 0
}
