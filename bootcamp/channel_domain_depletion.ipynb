{
 "metadata": {
  "kernelspec": {
   "display_name": "Python 2",
   "language": "python",
   "name": "python2"
  },
  "language_info": {
   "codemirror_mode": {
    "name": "ipython",
    "version": 2
   },
   "file_extension": ".py",
   "mimetype": "text/x-python",
   "name": "python",
   "nbconvert_exporter": "python",
   "pygments_lexer": "ipython2",
   "version": "2.7.11"
  },
  "name": "",
  "signature": "sha256:044a95a4484363beffdd4a960d0d910c2c7443f0dbc24acfa905b47372bba6d1"
 },
 "nbformat": 3,
 "nbformat_minor": 0,
 "worksheets": [
  {
   "cells": [
    {
     "cell_type": "markdown",
     "metadata": {},
     "source": [
      "The goal of this notebook is to illustrate changes in concentration in two well-mixed compartments connected by a channel. The channel abides a Nernst relationship[ to determine the conductance ]"
     ]
    },
    {
     "cell_type": "code",
     "collapsed": false,
     "input": [
      "# Function for integreating ODE and displaying results\n",
      "import scipy.integrate\n",
      "from scipy.integrate import odeint\n",
      "import numpy as np\n",
      "import matplotlib.pylab as plt\n",
      "%matplotlib inline"
     ],
     "language": "python",
     "metadata": {},
     "outputs": [],
     "prompt_number": 1
    },
    {
     "cell_type": "markdown",
     "metadata": {},
     "source": [
      "<font color=red>WARNING: Got lazy with units</font>"
     ]
    },
    {
     "cell_type": "markdown",
     "metadata": {},
     "source": [
      "### Diffusion between two compartments of differing sizes\n",
      "\n",
      "Here we have two compartments (L and R), which have different volumes and initial concentrations. We define a flux between them based on a diffusion constant (gamma), concentration difference, and distance between comparmtments.\n",
      "\n",
      "THere should be no flux between compartments once they are in equilibrium "
     ]
    },
    {
     "cell_type": "code",
     "collapsed": false,
     "input": [
      "vL = 1.5 # volume \n",
      "vR = 0.5\n",
      "#def twoCompart(y,t,a):\n",
      "def twoCompart(y,t,a):\n",
      "\n",
      "    yL,yR = y  # concentrations in left/right compartments \n",
      "\n",
      "    # diff = gamma * dC/dx\n",
      "    gamma, dx = a # see below \n",
      "    diff = gamma * (yR - yL)/dx\n",
      "    \n",
      "    dyL_dt = diff\n",
      "    dyR_dt = -dyL_dt * vL/vR   # mass conservation\n",
      "    return [dyL_dt,dyR_dt]\n",
      "\n",
      "\n",
      "# points in time where the function gets evaluated, t[0] at y0\n",
      "t  = scipy.linspace(0.,500.,201) # ms\n",
      "# init conc\n",
      "yL0 = 0.1\n",
      "yR0 = 1.\n",
      "gamma = 0.01\n",
      "dx = 1.\n",
      "args = [gamma,dx]\n",
      "y0 = [yL0,yR0] # [uM]\n",
      "#y0 = [1.]\n",
      "\n",
      "#y = scipy.integrate.odeint(twoCompart,y0,t)#,args=(gamma,dx,))\n",
      "y = scipy.integrate.odeint(twoCompart,y0,t,args=(args,))"
     ],
     "language": "python",
     "metadata": {},
     "outputs": [],
     "prompt_number": 40
    },
    {
     "cell_type": "code",
     "collapsed": false,
     "input": [
      "plt.plot(t,y[:,0], label=\"L\")\n",
      "plt.plot(t,y[:,1], label=\"R\")\n",
      "plt.legend()"
     ],
     "language": "python",
     "metadata": {},
     "outputs": [
      {
       "metadata": {},
       "output_type": "pyout",
       "prompt_number": 41,
       "text": [
        "<matplotlib.legend.Legend at 0x7fd53a9736d0>"
       ]
      },
      {
       "metadata": {},
       "output_type": "display_data",
       "png": "[encoded data removed]",
       "text": [
        "<matplotlib.figure.Figure at 0x7fd53a7ff390>"
       ]
      }
     ],
     "prompt_number": 41
    },
    {
     "cell_type": "markdown",
     "metadata": {},
     "source": [
      "### Similar to previous, but with a concentration-dependent gate\n",
      "\n",
      "1. we add a constant source into the left compartment\n",
      "2. gamma is now dependent on the concentration in L\n",
      "\n",
      "Not the best parameters, but basically this shows that yL initially increases given the constant influx, then after exceeding a certain concentration (set by k), the rate slows as the gate controlling diffusion between compartments is opened"
     ]
    },
    {
     "cell_type": "code",
     "collapsed": false,
     "input": [
      "vL = 1.5 # volume \n",
      "vR = 50.\n",
      "\n",
      "# Hill\n",
      "def caGate(yL,k=2.):\n",
      "    return 1/((k/yL)**4 + 1)\n",
      "\n",
      "def twoCompartWGate(y,t,a):\n",
      "    yL,yR = y  # concentrations in left/right compartments \n",
      "\n",
      "    # get args\n",
      "    gamma, dx, constantFlux,k = a # see below \n",
      "    \n",
      "    # diff = gamma * dC/dx\n",
      "    diff = gamma * caGate(yL,k)* (yR - yL)/dx\n",
      "    \n",
      "    dyL_dt_diff = diff\n",
      "    dyR_dt_diff = -dyL_dt_diff * vL/vR   # mass conservation\n",
      "    \n",
      "    \n",
      "    # Add in sources/sinks\n",
      "    dyL_dt = dyL_dt_diff + constantFlux\n",
      "    dyR_dt = dyR_dt_diff\n",
      "    return [dyL_dt,dyR_dt]\n",
      "\n",
      "\n",
      "# points in time where the function gets evaluated, t[0] at y0\n",
      "t  = scipy.linspace(0.,100.,201) # ms\n",
      "# init conc\n",
      "yL0 = 1.\n",
      "yR0 = 1.\n",
      "constantFlux = 0.001 \n",
      "gamma = 1.\n",
      "dx = 1.\n",
      "y0 = [yL0,yR0] # [uM]\n",
      "#y0 = [1.]\n",
      "\n",
      "k=2.\n",
      "args = [gamma,dx,constantFlux,k]\n",
      "y2 = scipy.integrate.odeint(twoCompartWGate,y0,t,args=(args,))\n",
      "\n",
      "k=10.\n",
      "args = [gamma,dx,constantFlux,k]\n",
      "y10 = scipy.integrate.odeint(twoCompartWGate,y0,t,args=(args,))"
     ],
     "language": "python",
     "metadata": {},
     "outputs": [],
     "prompt_number": 107
    },
    {
     "cell_type": "code",
     "collapsed": false,
     "input": [
      "plt.plot(t,y2[:,0], 'r',label=\"L, k2\")\n",
      "plt.plot(t,y2[:,1], 'k',label=\"R, k2\")\n",
      "plt.plot(t,y10[:,0], 'r--',label=\"L, k10\")\n",
      "plt.plot(t,y10[:,1], 'k--',label=\"R, k10\")\n",
      "\n",
      "plt.legend(loc=0)\n"
     ],
     "language": "python",
     "metadata": {},
     "outputs": [
      {
       "metadata": {},
       "output_type": "pyout",
       "prompt_number": 108,
       "text": [
        "<matplotlib.legend.Legend at 0x7fd5394fc750>"
       ]
      },
      {
       "metadata": {},
       "output_type": "display_data",
       "png": "[encoded data removed]",
       "text": [
        "<matplotlib.figure.Figure at 0x7fd539642c50>"
       ]
      }
     ],
     "prompt_number": 108
    },
    {
     "cell_type": "markdown",
     "metadata": {},
     "source": [
      "## Remainder - more specific to another project"
     ]
    },
    {
     "cell_type": "markdown",
     "metadata": {},
     "source": [
      "### Example looking at a current that depends on the log of two concentrations between compartments (one compartment is fixed)"
     ]
    },
    {
     "cell_type": "code",
     "collapsed": false,
     "input": [
      "def f2(y,t,a):\n",
      "    y0 = .1 # [uM]\n",
      "    funFactor = 1.\n",
      "    dydt = -phyTT * funFactor * np.log(y[0]/y0)   # *y[0]\n",
      "    dydt += 0.0 # for source\n",
      "    return dydt\n",
      "\n",
      "# phi cyto\n",
      "phiCyto = 0.1 # uM/ms\n",
      "VCyto =1.  #\n",
      "VTT = .1 # pL\n",
      "\n",
      "# points in time where the function gets evaluated, t[0] at y0\n",
      "t  = scipy.linspace(0.,500.,201) # ms\n",
      "# init conc\n",
      "y0 = [2000.] # [uM]\n",
      "\n",
      "# rate\n",
      "phyTT = phiCyto * VCyto/VTT #  uM/ms\n",
      "y2 = scipy.integrate.odeint(f2,y0,t,args=(phyTT,))"
     ],
     "language": "python",
     "metadata": {},
     "outputs": [],
     "prompt_number": 113
    },
    {
     "cell_type": "code",
     "collapsed": false,
     "input": [
      "plt.plot(t,y2)\n",
      "#plt.ylim([1900,2100])"
     ],
     "language": "python",
     "metadata": {},
     "outputs": [
      {
       "metadata": {},
       "output_type": "pyout",
       "prompt_number": 114,
       "text": [
        "[<matplotlib.lines.Line2D at 0x7fd53930fc90>]"
       ]
      },
      {
       "metadata": {},
       "output_type": "display_data",
       "png": "[encoded data removed]",
       "text": [
        "<matplotlib.figure.Figure at 0x7fd5393aa9d0>"
       ]
      }
     ],
     "prompt_number": 114
    },
    {
     "cell_type": "code",
     "collapsed": false,
     "input": [
      "np.log(2000/0.1)"
     ],
     "language": "python",
     "metadata": {},
     "outputs": [
      {
       "metadata": {},
       "output_type": "pyout",
       "prompt_number": 4,
       "text": [
        "9.9034875525361272"
       ]
      }
     ],
     "prompt_number": 4
    },
    {
     "cell_type": "markdown",
     "metadata": {
      "collapsed": false
     },
     "source": [
      "Let's add some physical relationships\n",
      "- Let's assume that \n",
      "$$n_{TT}V_{TT}=V_{cell}$$, \n",
      "where the LHS n and V represent the number of TTs and cytosolic volume about a single TT\n",
      "- We can determine the rate of concentration change inside the cell, $\\phi$, via the relationship\n",
      "$$\n",
      "\\begin{align}\n",
      "\\phi_{cell} &= \\frac{I}{2FV} \\\\\n",
      "\\end{align}\n",
      "$$\n",
      "We'll use $\\phi=$7e-2 [uM/ms] from my lecture notes math, using I=400 pA, V = 30 pL\n",
      "- Assuming $\\phi$ is uniform, the corresponding current from a single TT is therefore given by\n",
      "$$\n",
      "\\begin{align}\n",
      "\\phi_{TT} &= \\phi_{cell}\\\\\n",
      "\\frac{I_{TT}}{zFV_{TT}} &= \\frac{I_{cell}}{zFV_{cell}} \\\\\n",
      "\\Rightarrow I_{TT} &= I_{cell} \\frac{V_{TT}}{V_{cell}}\n",
      "\\end{align}\n",
      "$$\n",
      "This evalutes to $I_{TT}=$4e-4 [pA], assuming there are 10e5 TTs\n",
      "- We can determine the corresponding surface flux along the TT boundary, and specifically at the LCC cluster, $\\Gamma_L$, using\n",
      "$$\n",
      "\\begin{align}\n",
      "\\int_{V_{tt}} \\phi dV&= \\int_{\\Gamma_{L}} \\nabla\\phi d\\Gamma \\\\\n",
      "\\Rightarrow V_{tt} \\phi &= i_{L} \\Gamma_L\n",
      "\\end{align}\n",
      "$$\n",
      "Assuming a circular release patch of radius 50 nm, $i_{LCC}=$ 280 [uM nm/ms]. Note that this last quantity can be used to define the flux amplitude in FEM simulations"
     ]
    },
    {
     "cell_type": "heading",
     "level": 4,
     "metadata": {},
     "source": [
      "First let's demonstrate that we can predict conc changes for constant ilcc"
     ]
    },
    {
     "cell_type": "code",
     "collapsed": false,
     "input": [
      "saTT = 7500. # nm**2\n",
      "vTT = 3e7 # volume of cytosol around TT nm**3\n",
      "wTT = 100 # radius nm\n",
      "heightTT = 3e3 # height nm\n",
      "viTT = np.pi * heightTT * wTT # vol inside TT nm**2\n",
      "print viTT\n",
      "iCellMax = 400 # pA\n",
      "iTTmax = 280. # uM nm / ms\n",
      "cCyto = 0.1 # uM\n",
      "cTT = 2e3 # uM\n",
      "def i_to_phi(iTT):\n",
      "    phi = iTT * saTT / vTT\n",
      "    return phi\n",
      "\n",
      "\n",
      "def fConstant_iTT(yi,t,iTT):\n",
      "    phi = i_to_phi(iTT)\n",
      "    phiTT = -phi * vTT / viTT\n",
      "    dydt = [phi,phiTT]\n",
      "    #print dydt\n",
      "    return dydt\n",
      "\n",
      "# points in time where the function gets evaluated, t[0] at y0\n",
      "t  = scipy.linspace(0.,500.,201) # ms\n",
      "# init conc [cytosol]\n",
      "y0 = [cCyto,cTT] # [uM]\n",
      "print fConstant_iTT(y0,0,1)\n",
      "# rate\n",
      "#phyTT = phiCyto * VCyto/VTT #  uM/ms\n",
      "iTT = iTTmax\n",
      "y = scipy.integrate.odeint(fConstant_iTT,y0,t,args=(iTT,))\n",
      "\n",
      "plt.subplot(211)\n",
      "plt.plot(t,y[:,0],'-.',label=\"cyto\")\n",
      "plt.subplot(212)\n",
      "plt.plot(t,y[:,1],'-.',label=\"inner TT\")\n"
     ],
     "language": "python",
     "metadata": {},
     "outputs": [
      {
       "output_type": "stream",
       "stream": "stdout",
       "text": [
        "942477.796077\n",
        "[0.00025, -0.007957747154594767]\n"
       ]
      },
      {
       "metadata": {},
       "output_type": "pyout",
       "prompt_number": 104,
       "text": [
        "[<matplotlib.lines.Line2D at 0x119fcbcd0>]"
       ]
      },
      {
       "metadata": {},
       "output_type": "display_data",
       "png": "[encoded data removed]",
       "text": [
        "<matplotlib.figure.Figure at 0x119d77350>"
       ]
      }
     ],
     "prompt_number": 104
    },
    {
     "cell_type": "heading",
     "level": 3,
     "metadata": {},
     "source": [
      "define LCC flux"
     ]
    },
    {
     "cell_type": "code",
     "collapsed": false,
     "input": [
      "I_to_ilcc = iTTmax*saTT\n",
      "RT_o_zF = 12.5 # mV\n",
      "gCond = iTTmax/(RT_o_zF * np.log(cCyto/cTT))\n",
      "V = 0. # mV\n",
      "#print gCond\n",
      "def f_ilcc(cCyto,cTT):\n",
      "    ilcc = -gCond * RT_o_zF * (V-np.log(cCyto/cTT))   # *y[0]\n",
      "    return ilcc\n",
      "\n",
      "\n",
      "print f_ilcc(cCyto,cTT) # init cond\n",
      "print f_ilcc(cCyto,cTT/2.) # reduced cTT\n",
      "\n",
      "\n",
      "#plt.plot( f_ilcc(0.1,y[:,1]) )\n"
     ],
     "language": "python",
     "metadata": {},
     "outputs": [
      {
       "output_type": "stream",
       "stream": "stdout",
       "text": [
        "280.0\n",
        "260.402741001\n"
       ]
      }
     ],
     "prompt_number": 105
    },
    {
     "cell_type": "markdown",
     "metadata": {},
     "source": [
      "### Now use LCC flux in ODE\n",
      "Note that the concs in cyto/TT don't change as much (since iLCC is reducing)"
     ]
    },
    {
     "cell_type": "code",
     "collapsed": false,
     "input": [
      "def fVariable_iTT(yi,t):#,iTT):\n",
      "    cCyto,cTT = yi\n",
      "    iTT = f_ilcc(cCyto,cTT)\n",
      "    phi = i_to_phi(iTT)\n",
      "    phiTT = -phi * vTT / viTT\n",
      "    dydt = [phi,phiTT]\n",
      "    #print dydt\n",
      "    return dydt\n",
      "\n",
      "# points in time where the function gets evaluated, t[0] at y0\n",
      "t  = scipy.linspace(0.,500.,201) # ms\n",
      "# init conc [cytosol]\n",
      "y0 = [cCyto,cTT] # [uM]\n",
      "# rate\n",
      "#phyTT = phiCyto * VCyto/VTT #  uM/ms\n",
      "\n",
      "y = scipy.integrate.odeint(fVariable_iTT,y0,t)#,args=(iTT,))\n",
      "\n",
      "plt.subplot(211)\n",
      "plt.plot(t,y[:,0],'-.',label=\"cyto\")\n",
      "plt.subplot(212)\n",
      "plt.plot(t,y[:,1],'-.',label=\"inner TT\")\n"
     ],
     "language": "python",
     "metadata": {},
     "outputs": [
      {
       "metadata": {},
       "output_type": "pyout",
       "prompt_number": 106,
       "text": [
        "[<matplotlib.lines.Line2D at 0x11a325d50>]"
       ]
      },
      {
       "metadata": {},
       "output_type": "display_data",
       "png": "[encoded data removed]",
       "text": [
        "<matplotlib.figure.Figure at 0x1198b1ad0>"
       ]
      }
     ],
     "prompt_number": 106
    },
    {
     "cell_type": "heading",
     "level": 3,
     "metadata": {},
     "source": [
      "Relate iLCC to whole-cell current "
     ]
    },
    {
     "cell_type": "code",
     "collapsed": false,
     "input": [
      "ilcc_to_Icell = iCellMax/ iTTmax\n",
      "#print ilcc_to_Icell * iTTmax\n",
      "\n",
      "# dumb hack for calculating i at each time step\n",
      "#g = lambda x: vf_ilcc(x[0],x[1])\n",
      "def evalLCC(y):\n",
      "    ilccs = []\n",
      "    for i,yi in enumerate(y):\n",
      "      cCyto,cTT = yi  \n",
      "      ilccT = f_ilcc(cCyto,cTT)\n",
      "      ilccs.append(ilccT)  \n",
      "      #print cCyto, cTT\n",
      "    ilccs = np.asarray(ilccs)    \n",
      "    #print np.shape(ilccs)\n",
      "    return ilccs\n",
      "ilccs = evalLCC(y)\n",
      "\n",
      "#plt.plot(t,ilccs)\n",
      "#plt.figure()\n",
      "plt.plot(t,ilccs*ilcc_to_Icell)\n",
      "plt.ylabel(\"I [pA]\")\n",
      "plt.xlabel(\"t [ms]\")"
     ],
     "language": "python",
     "metadata": {},
     "outputs": [
      {
       "metadata": {},
       "output_type": "pyout",
       "prompt_number": 107,
       "text": [
        "<matplotlib.text.Text at 0x11a6f1d50>"
       ]
      },
      {
       "metadata": {},
       "output_type": "display_data",
       "png": "[encoded data removed]",
       "text": [
        "<matplotlib.figure.Figure at 0x119ecc4d0>"
       ]
      }
     ],
     "prompt_number": 107
    },
    {
     "cell_type": "heading",
     "level": 3,
     "metadata": {},
     "source": [
      "To search for a good intraTT volume (e.g. slow domain volume)"
     ]
    },
    {
     "cell_type": "code",
     "collapsed": false,
     "input": [
      "def fVariable_iTT_Vol(yi,t,viTT):\n",
      "    cCyto,cTT = yi\n",
      "    iTT = f_ilcc(cCyto,cTT)\n",
      "    phi = i_to_phi(iTT)\n",
      "    phiTT = -phi * vTT / viTT\n",
      "    dydt = [phi,phiTT]\n",
      "    #print dydt\n",
      "    return dydt\n",
      "\n",
      "# points in time where the function gets evaluated, t[0] at y0\n",
      "t  = scipy.linspace(0.,500.,201) # ms\n",
      "# init conc [cytosol]\n",
      "y0 = [cCyto,cTT] # [uM]\n",
      "\n",
      "#####\n",
      "##\n",
      "viTT_trial = viTT * 1. \n",
      "y1 = scipy.integrate.odeint(fVariable_iTT_Vol,y0,t,args=(viTT_trial,))\n",
      "ilccs = evalLCC(y1)\n",
      "plt.plot(t,ilccs*ilcc_to_Icell)\n",
      "##\n",
      "viTT_trial = viTT * 0.5\n",
      "y2 = scipy.integrate.odeint(fVariable_iTT_Vol,y0,t,args=(viTT_trial,))\n",
      "ilccs = evalLCC(y2)\n",
      "plt.plot(t,ilccs*ilcc_to_Icell)\n",
      "\n",
      "##\n",
      "viTT_trial = viTT * 0.1\n",
      "y2 = scipy.integrate.odeint(fVariable_iTT_Vol,y0,t,args=(viTT_trial,))\n",
      "ilccs = evalLCC(y2)\n",
      "plt.plot(t,ilccs*ilcc_to_Icell)\n",
      "\n",
      "\n",
      "plt.ylabel(\"I [pA]\")\n",
      "plt.xlabel(\"t [ms]\")\n",
      "plt.figure()\n",
      "plt.plot(t,y2[:,1])"
     ],
     "language": "python",
     "metadata": {},
     "outputs": [
      {
       "metadata": {},
       "output_type": "pyout",
       "prompt_number": 110,
       "text": [
        "[<matplotlib.lines.Line2D at 0x11b644e90>]"
       ]
      },
      {
       "metadata": {},
       "output_type": "display_data",
       "png": "[encoded data removed]",
       "text": [
        "<matplotlib.figure.Figure at 0x119f89790>"
       ]
      },
      {
       "metadata": {},
       "output_type": "display_data",
       "png": "[encoded data removed]",
       "text": [
        "<matplotlib.figure.Figure at 0x11b5b5610>"
       ]
      }
     ],
     "prompt_number": 110
    },
    {
     "cell_type": "markdown",
     "metadata": {},
     "source": [
      "Note that the last one probably had an instability, since at some point the intraTT conc--> 0"
     ]
    },
    {
     "cell_type": "code",
     "collapsed": false,
     "input": [
      "# Make finer resolution\n",
      "t  = scipy.linspace(0.,50.,2001) # ms\n",
      "# init conc [cytosol]\n",
      "y0 = [cCyto,cTT] # [uM]\n",
      "\n",
      "#####\n",
      "##\n",
      "viTT_trial = viTT * .05 \n",
      "yi = scipy.integrate.odeint(fVariable_iTT_Vol,y0,t,args=(viTT_trial,))\n",
      "ilccs = evalLCC(yi)\n",
      "plt.plot(t,ilccs*ilcc_to_Icell)\n",
      "plt.figure()\n",
      "plt.plot(t,yi[:,1])"
     ],
     "language": "python",
     "metadata": {},
     "outputs": [
      {
       "metadata": {},
       "output_type": "pyout",
       "prompt_number": 116,
       "text": [
        "[<matplotlib.lines.Line2D at 0x11ba1f550>]"
       ]
      },
      {
       "metadata": {},
       "output_type": "display_data",
       "png": "[encoded data removed]",
       "text": [
        "<matplotlib.figure.Figure at 0x11c04f710>"
       ]
      },
      {
       "metadata": {},
       "output_type": "display_data",
       "png": "[encoded data removed]",
       "text": [
        "<matplotlib.figure.Figure at 0x11c04f510>"
       ]
      }
     ],
     "prompt_number": 116
    },
    {
     "cell_type": "code",
     "collapsed": true,
     "input": [],
     "language": "python",
     "metadata": {},
     "outputs": [],
     "prompt_number": null
    },
    {
     "cell_type": "code",
     "collapsed": true,
     "input": [],
     "language": "python",
     "metadata": {},
     "outputs": [],
     "prompt_number": null
    }
   ],
   "metadata": {}
  }
 ]
}