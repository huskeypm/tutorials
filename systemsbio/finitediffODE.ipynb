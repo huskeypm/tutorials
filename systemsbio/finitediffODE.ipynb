{
  "nbformat": 4,
  "nbformat_minor": 0,
  "metadata": {
    "colab": {
      "name": "finitediffODE.ipynb",
      "provenance": [],
      "collapsed_sections": []
    },
    "kernelspec": {
      "name": "python3",
      "display_name": "Python 3"
    }
  },
  "cells": [
    {
      "cell_type": "code",
      "metadata": {
        "id": "c8nasbCRIjDk"
      },
      "source": [
        "# Numerical Integration using finite differences\n",
        "import math\n",
        "import random\n",
        "%matplotlib inline\n",
        "import matplotlib.pylab as plt\n",
        "import numpy as np"
      ],
      "execution_count": 2,
      "outputs": []
    },
    {
      "cell_type": "code",
      "metadata": {
        "id": "6JIzEKCroZFV"
      },
      "source": [
        ""
      ],
      "execution_count": 2,
      "outputs": []
    },
    {
      "cell_type": "markdown",
      "metadata": {
        "id": "emwh8GSoobSU"
      },
      "source": [
        "In our previous homework, we evaluated the function \n",
        "\\begin{equation}\n",
        "I(t) = I_{peak} \\exp(-\\tau t)\n",
        "\\end{equation}\n",
        "\n",
        "\n",
        "We could also evaluate this by assuming we know the *change* in current with respect to time, which can be expressed as \n",
        "\\begin{eqnarray} \n",
        "\\ln(I(t)) &= \\ln(I_p) -\\tau t\\\\\n",
        "\\Rightarrow \\frac{d\\ln(I(t))}{dt} &=\\frac{d}{dt} (\\ln(I_p)-\\tau t)\\\\\n",
        "\\frac{d\\ln(I(t))}{dI(t)}\\frac{d(I(t))}{dt} &= (0 -\\tau)\\\\\n",
        "\\frac{1}{I(t)}\\frac{d(I(t))}{dt} &= -\\tau  \\\\\n",
        "\\frac{d(I(t))}{dt} &= -\\tau I(t)   \n",
        "\\end{eqnarray}\n",
        "\n",
        "We can approximate the last equation, as\n",
        "\\begin{equation}\n",
        "\\frac{\\Delta I(t)}{\\Delta t} \\approx -\\tau I(t)\n",
        "\\end{equation}\n",
        "which can allow us to solve the problem as\n",
        "\\begin{eqnarray} \n",
        "\\Delta I(t) &= -\\tau I(t) \\Delta t\\\\\n",
        "\\Rightarrow I(t_{now})-I(t_{last}) &= -\\tau I(t_{last}) \\Delta t\\\\\n",
        "I(t_{now}) &= I(t_{last}) - \\tau I(t_{last}) \\Delta t  \\\\\n",
        "\\end{eqnarray}\n",
        "\n"
      ]
    },
    {
      "cell_type": "code",
      "metadata": {
        "colab": {
          "base_uri": "https://localhost:8080/",
          "height": 371
        },
        "id": "hvJFQZ9VoRcr",
        "outputId": "f82ed022-1a8c-46b0-c878-c30c1c5a1174"
      },
      "source": [
        "tau = 2 # [s]\n",
        "peakCurrent = 1 # [C/s]\n",
        "I0 = peakCurrent   # pC/s\n",
        "time = 1 # s\n",
        "dt  = 0.25 # \n",
        "\n",
        "\n",
        "# we'll stick the answers into an array with length time/dt\n",
        "nSteps = np.int(time/dt)\n",
        "Is = np.zeros( nSteps)\n",
        "ts = np.zeros( nSteps ) \n",
        "\n",
        "# Numerically evaluate I(t) using dI/dt equation\n",
        "ILast = I0\n",
        "TLast = 0\n",
        "for i in range (nSteps):\n",
        "  # store \n",
        "  Is[i] = ILast\n",
        "  ts[i] = TLast\n",
        "  \n",
        "  # fine new I\n",
        "  TNow = TLast + dt\n",
        "  INow = ILast - tau * dt * ILast\n",
        "  # HIDE ME IF YOU HAVE LOTS OF POINTS \n",
        "  print(\"I=%f at t=%f\"%(INow, TNow))\n",
        "\n",
        "  # advance\n",
        "  TLast = TNow\n",
        "  ILast = INow\n",
        "\n",
        "# compare with analytic solution\n",
        "Itruth = np.exp(-tau * ts)\n",
        "plt.plot(ts,Is,label=\"Numerical\")\n",
        "plt.plot(ts, Itruth, label=\"Analytic\")\n",
        "error = (np.sum(Is - Itruth)**2) / nSteps\n",
        "plt.title(\"Error = %f\"%error)\n",
        "plt.legend(loc=0)"
      ],
      "execution_count": 3,
      "outputs": [
        {
          "output_type": "stream",
          "text": [
            "I=0.500000 at t=0.250000\n",
            "I=0.250000 at t=0.500000\n",
            "I=0.125000 at t=0.750000\n",
            "I=0.062500 at t=1.000000\n"
          ],
          "name": "stdout"
        },
        {
          "output_type": "execute_result",
          "data": {
            "text/plain": [
              "<matplotlib.legend.Legend at 0x7f66be9c4160>"
            ]
          },
          "metadata": {
            "tags": []
          },
          "execution_count": 3
        },
        {
          "output_type": "display_data",
          "data": {
            "image/png": "[encoded data removed]",
            "text/plain": [
              "<Figure size 432x288 with 1 Axes>"
            ]
          },
          "metadata": {
            "tags": [],
            "needs_background": "light"
          }
        }
      ]
    },
    {
      "cell_type": "markdown",
      "metadata": {
        "id": "MkhWWr8iCNsj"
      },
      "source": [
        "Ca integration example "
      ]
    },
    {
      "cell_type": "code",
      "metadata": {
        "colab": {
          "base_uri": "https://localhost:8080/",
          "height": 299
        },
        "id": "6hoEVEpxzpzn",
        "outputId": "802432e9-8800-445d-af09-80e9fe4869e2"
      },
      "source": [
        "tau = 2 # [s]\n",
        "peakCurrent = 1 # [C/s]\n",
        "I0 = peakCurrent   # [pC/s] = [pA]\n",
        "time = 5. # [s]\n",
        "dt  = 0.05 # [s]\n",
        "Ca=0.1 # [ uM ]\n",
        "I_to_Ca = 0.5  # [pA/[uM/s]] converts channel current into intracellular Ca concentration \n",
        "\n",
        "# we'll stick the answers into an array with length time/dt\n",
        "nSteps = np.int(time/dt)\n",
        "Is = np.zeros( nSteps)\n",
        "Cas = np.zeros( nSteps)\n",
        "ts = np.zeros( nSteps ) \n",
        "\n",
        "# Numerically evaluate I(t) using dI/dt equation\n",
        "ILast = I0\n",
        "TLast = 0\n",
        "CaLast = Ca\n",
        "for i in range (nSteps):\n",
        "  # store \n",
        "  Is[i] = ILast\n",
        "  ts[i] = TLast\n",
        "  Cas[i] = CaLast \n",
        "\n",
        "  # fine new I\n",
        "  TNow = TLast + dt\n",
        "  INow = ILast - tau * dt * ILast\n",
        "  CaNow = CaLast + I_to_Ca * dt * ILast\n",
        "  # HIDE ME IF YOU HAVE LOTS OF POINTS \n",
        "  #print(\"I=%f at t=%f\"%(INow, TNow))\n",
        "\n",
        "  # advance\n",
        "  TLast = TNow\n",
        "  ILast = INow\n",
        "  CaLast = CaNow\n",
        "\n",
        "# compare with analytic solution\n",
        "Itruth = np.exp(-tau * ts)\n",
        "plt.plot(ts,Is,label=\"I(t)\")\n",
        "plt.plot(ts, Cas, label=\"Ca(t)\")\n",
        "plt.title(\"Error = %f\"%error)\n",
        "plt.legend(loc=0)"
      ],
      "execution_count": 7,
      "outputs": [
        {
          "output_type": "execute_result",
          "data": {
            "text/plain": [
              "<matplotlib.legend.Legend at 0x7f66be934f60>"
            ]
          },
          "metadata": {
            "tags": []
          },
          "execution_count": 7
        },
        {
          "output_type": "display_data",
          "data": {
            "image/png": "[encoded data removed]",
            "text/plain": [
              "<Figure size 432x288 with 1 Axes>"
            ]
          },
          "metadata": {
            "tags": [],
            "needs_background": "light"
          }
        }
      ]
    },
    {
      "cell_type": "code",
      "metadata": {
        "id": "B8Af0yAeBmRH"
      },
      "source": [
        ""
      ],
      "execution_count": null,
      "outputs": []
    }
  ]
}