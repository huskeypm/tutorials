{
 "cells": [
  {
   "cell_type": "markdown",
   "metadata": {},
   "source": [
    "# Minimal model for action potential, potassium current and calcium dynamics\n",
    "\n",
    "- Most of the constants are unphysical, so take with a grain of salt!\n",
    "- The end of this notebook shows how to load data from microscope to show fit versus model "
   ]
  },
  {
   "cell_type": "markdown",
   "metadata": {},
   "source": [
    "Loads a bunch of libraries "
   ]
  },
  {
   "cell_type": "code",
   "execution_count": 511,
   "metadata": {},
   "outputs": [
    {
     "name": "stdout",
     "output_type": "stream",
     "text": [
      "The autoreload extension is already loaded. To reload it, use:\n",
      "  %reload_ext autoreload\n"
     ]
    }
   ],
   "source": [
    "%load_ext autoreload\n",
    "%autoreload 2\n",
    "%matplotlib inline\n",
    "import numpy as np \n",
    "import matplotlib.pylab as plt"
   ]
  },
  {
   "cell_type": "markdown",
   "metadata": {},
   "source": [
    "## Currents\n",
    "\n",
    "These describe thwe ion currents from the potassium channel and calcium channel. The iAP is a simulated action potentially that essentially drives the activation of the K/Ca channels "
   ]
  },
  {
   "cell_type": "code",
   "execution_count": 512,
   "metadata": {},
   "outputs": [],
   "source": [
    "def iKChannel(\n",
    "    Vm, # membrane potential  \n",
    "    E,  # current \n",
    "    params):\n",
    "    gCond = 3.       # conductivity\n",
    "    vDiff = Vm - E   # difference between Nernst potential for K ion and the membrane potential \n",
    "    #IV = Vm+90  # very crude approx for IV \n",
    "    #if IV>10: IV = 10  # set a maximum value for the the current \n",
    "    iKChannel = gCond * vDiff \n",
    "    return iKChannel\n",
    "\n",
    "\n",
    "# Makes an abrupt increase, then relaxes in a linear fashion\n",
    "def iAP(t):\n",
    "    current = -300. # [mA]\n",
    "    start=10.\n",
    "    finishHat=90.\n",
    "    finishLin=175.\n",
    "    delta = finishLin-finishHat\n",
    "    scale = (finishLin-t)/delta\n",
    "    if t>start and t<finishHat:\n",
    "        return current\n",
    "    elif t>= finishHat and t<finishLin:\n",
    "        return scale*current\n",
    "    else:\n",
    "        return 0 \n",
    "    \n",
    "def iCaPOpen(Vm):\n",
    "    V50 = 50.\n",
    "    n = 4\n",
    "    pOpen = (1 + (V50/(Vm + 70))**n)**-1 \n",
    "    return pOpen\n",
    "    \n",
    "    \n",
    "def iCaChannel(Vm, E,params):\n",
    "    vDiff = Vm - E\n",
    "    iCaChannel =  params.gCa * iCaPOpen(Vm)* vDiff \n",
    "    return iCaChannel\n",
    "\n",
    "\n"
   ]
  },
  {
   "cell_type": "markdown",
   "metadata": {},
   "source": [
    "### Ca handling functions \n",
    "\n",
    "- uptake (SERCA) and release (SRLeak)\n",
    "- At resting calcium, the uptake and release fluxes should be equal and opposite \n",
    "- If changing params.Vmax, you'll want to do the same to the params.leakRate in SRLeak()"
   ]
  },
  {
   "cell_type": "code",
   "execution_count": 513,
   "metadata": {},
   "outputs": [],
   "source": [
    "def SERCA(caCyto,params):\n",
    "    JSERCA = -params.Vmax/(1 + (params.sercaKD/caCyto)**6)\n",
    "    return JSERCA\n",
    "    \n",
    "    \n",
    "def SRLeak(caCyto,Vm,params):\n",
    "\n",
    "    if Vm < -50:\n",
    "      Jleak = params.leakRate\n",
    "      #Jleak = params.leakRate/(1 + (0.5/0.1)**2)\n",
    "    else:\n",
    "      Jleak = 0.\n",
    "        #print Jleak\n",
    "    return Jleak    "
   ]
  },
  {
   "cell_type": "markdown",
   "metadata": {},
   "source": [
    "### ODE integrator\n",
    "\n",
    "Here, dydt is defined which includes the time dependent changes in the intracellular calcium (Ca fluxes) and the membrane potential (from the ion currents) "
   ]
  },
  {
   "cell_type": "code",
   "execution_count": 514,
   "metadata": {},
   "outputs": [],
   "source": [
    "\n",
    "def dydt(y,t,params):\n",
    "    P2Y12=0\n",
    "    Vm, Ca = y\n",
    "    \n",
    "# currents, including G-protein dependent K channel activation \n",
    "    IK = iKChannel(Vm, Ek,params)\n",
    "    ICa = iCaChannel(Vm, ECa,params)\n",
    "    IAP = iAP(t)\n",
    "    #ICa = iCaChannel(Vm,CaLig,params)\n",
    "    #ILeak = iLeak(Vm,params)\n",
    "    \n",
    "    #INKA = params.INKA;\n",
    "    conv = 0.005 # i to dCa conv factor \n",
    "    JCa = conv *  ICa\n",
    "    JSERCA = SERCA(Ca, params)\n",
    "    JLeak = SRLeak(Ca,Vm,params)\n",
    "    \n",
    "    # Membrane potential \n",
    "    dVm_dt = -(IK + ICa + IAP)/Cm;\n",
    "    dCa_dt = JCa + JSERCA + JLeak\n",
    "    return dVm_dt, dCa_dt"
   ]
  },
  {
   "cell_type": "code",
   "execution_count": 515,
   "metadata": {},
   "outputs": [],
   "source": [
    "from scipy.integrate import odeint"
   ]
  },
  {
   "cell_type": "markdown",
   "metadata": {},
   "source": [
    "## Simulator "
   ]
  },
  {
   "cell_type": "markdown",
   "metadata": {},
   "source": [
    "Parameters for the models "
   ]
  },
  {
   "cell_type": "code",
   "execution_count": 518,
   "metadata": {},
   "outputs": [],
   "source": [
    "Ek = -70 # mV - Nernst (reversal) potential for potassium \n",
    "ECa = 0. # mV \n",
    "\n",
    "class Params():\n",
    "    def __init__(self):\n",
    "      # serca parameters\n",
    "      self.sercaKD = 0.30 # Ca concentration at which pump is 50%\n",
    "      self.Vmax = 0.010   # turnover rate   \n",
    "    \n",
    "      # SR leak parameters \n",
    "      self.leakRate = 13e-5\n",
    "        \n",
    "      # Ca release channel current   \n",
    "      self.gCa = 0.18\n",
    "    \n",
    "      # initial calcium concentration \n",
    "      self.Ca0 = 0.145 # uM \n",
    "    \n",
    "      # initial membrane potential \n",
    "      self.Vm = -70 # mV\n",
    "\n",
    "params = Params()    \n",
    "#params.gCa = 0.\n",
    "\n",
    "Cm = 1.   # capacitance of the cell (resists change in potential for a given current, I=VR)\n"
   ]
  },
  {
   "cell_type": "markdown",
   "metadata": {},
   "source": [
    "Ignore the divide by zero error for now "
   ]
  },
  {
   "cell_type": "code",
   "execution_count": 519,
   "metadata": {},
   "outputs": [
    {
     "name": "stderr",
     "output_type": "stream",
     "text": [
      "/var/folders/4d/5k72012d6k962xflcjjdwkf00000gp/T/ipykernel_17640/1542759097.py:31: RuntimeWarning: divide by zero encountered in double_scalars\n",
      "  pOpen = (1 + (V50/(Vm + 70))**n)**-1\n"
     ]
    }
   ],
   "source": [
    "tEnd = 500.\n",
    "ts = np.linspace(0,tEnd,10000) # how long we are simulating\n",
    "\n",
    "# initial values \n",
    "y0 = [params.Vm, params.Ca0] # , rhoKchannel,Gprot,CaLig,Ca]\n",
    "\n",
    "# integrator - display results \n",
    "ys = odeint(dydt,y0,ts,args=(params,))"
   ]
  },
  {
   "cell_type": "markdown",
   "metadata": {},
   "source": [
    "### Plot results of P Open versus membrane potential\n",
    "Shows how 'open' the channels are as the cell is depolarized \n"
   ]
  },
  {
   "cell_type": "code",
   "execution_count": 522,
   "metadata": {},
   "outputs": [
    {
     "name": "stderr",
     "output_type": "stream",
     "text": [
      "/var/folders/4d/5k72012d6k962xflcjjdwkf00000gp/T/ipykernel_17640/1542759097.py:31: RuntimeWarning: divide by zero encountered in true_divide\n",
      "  pOpen = (1 + (V50/(Vm + 70))**n)**-1\n"
     ]
    },
    {
     "data": {
      "text/plain": [
       "Text(0.5, 0, 'V')"
      ]
     },
     "execution_count": 522,
     "metadata": {},
     "output_type": "execute_result"
    },
    {
     "data": {
      "image/png": "[encoded data removed]",
      "text/plain": [
       "<Figure size 432x288 with 1 Axes>"
      ]
     },
     "metadata": {
      "needs_background": "light"
     },
     "output_type": "display_data"
    }
   ],
   "source": [
    "Vs = np.linspace(-70, 70,100)\n",
    "plt.plot(Vs,iCaPOpen(Vs))\n",
    "plt.ylabel(\"POpen\")\n",
    "plt.xlabel(\"V\")"
   ]
  },
  {
   "cell_type": "markdown",
   "metadata": {},
   "source": [
    "### Plot simulation results "
   ]
  },
  {
   "cell_type": "code",
   "execution_count": 525,
   "metadata": {},
   "outputs": [
    {
     "name": "stderr",
     "output_type": "stream",
     "text": [
      "/var/folders/4d/5k72012d6k962xflcjjdwkf00000gp/T/ipykernel_17640/1542759097.py:31: RuntimeWarning: divide by zero encountered in true_divide\n",
      "  pOpen = (1 + (V50/(Vm + 70))**n)**-1\n"
     ]
    },
    {
     "data": {
      "text/plain": [
       "Text(0, 0.5, 'P(Open)')"
      ]
     },
     "execution_count": 525,
     "metadata": {},
     "output_type": "execute_result"
    },
    {
     "data": {
      "image/png": "[encoded data removed]",
      "text/plain": [
       "<Figure size 432x288 with 2 Axes>"
      ]
     },
     "metadata": {
      "needs_background": "light"
     },
     "output_type": "display_data"
    }
   ],
   "source": [
    "fig,ax = plt.subplots(1)\n",
    "Vms= ys[:,0 ]\n",
    "ax.plot(ts, Vms)\n",
    "\n",
    "ax.set_ylabel(\"V\")\n",
    "ax.set_xlabel(\"t\")\n",
    "\n",
    "axr = ax.twinx()\n",
    "pOs = iCaPOpen(Vms)\n",
    "\n",
    "axr.plot(ts,pOs,'k')\n",
    "axr.set_ylabel(\"P(Open)\")"
   ]
  },
  {
   "cell_type": "markdown",
   "metadata": {},
   "source": [
    "Calcium versus time "
   ]
  },
  {
   "cell_type": "code",
   "execution_count": 526,
   "metadata": {},
   "outputs": [
    {
     "data": {
      "text/plain": [
       "Text(0, 0.5, 'Ca')"
      ]
     },
     "execution_count": 526,
     "metadata": {},
     "output_type": "execute_result"
    },
    {
     "data": {
      "image/png": "[encoded data removed]",
      "text/plain": [
       "<Figure size 432x288 with 2 Axes>"
      ]
     },
     "metadata": {
      "needs_background": "light"
     },
     "output_type": "display_data"
    }
   ],
   "source": [
    "fig,ax = plt.subplots(1)\n",
    "\n",
    "cas = ys[:,1 ]\n",
    "\n",
    "ax.plot(ts, ys[:,0 ])\n",
    "ax.set_ylabel(\"V\")\n",
    "ax.set_xlabel(\"t\")\n",
    "\n",
    "axr = ax.twinx()\n",
    "axr.plot(ts,cas,\"k\")\n",
    "plt.ylabel(\"Ca\")"
   ]
  },
  {
   "cell_type": "markdown",
   "metadata": {},
   "source": [
    "### Here we are creating an example where we fit the model to real data\n",
    "\n",
    "- Data was recorded at 1 Hz, so the 400 frames here corresponds to 400 sec ---> 7 min = 420 sec ~ 400 sec  \n",
    "- we also normalize the data for simplicity\n",
    "- will assume that the useful data starts after thge 120th frame \n",
    "- 'transient' from model starts at t=10, so having data ts start from then too  "
   ]
  },
  {
   "cell_type": "code",
   "execution_count": 531,
   "metadata": {},
   "outputs": [
    {
     "name": "stdout",
     "output_type": "stream",
     "text": [
      "(421, 2)\n"
     ]
    }
   ],
   "source": [
    "data = np.loadtxt(\"fluo4.csv\",skiprows=1, delimiter=',')\n",
    "print( np.shape(data) )\n",
    "frInit = 120\n",
    "dts = data[frInit:,0]  # 400 sec\n",
    "dts -= (frInit-10) \n",
    "\n",
    "\n",
    "\n",
    "dcas = data[frInit:,1]\n",
    "dcas-= np.min(dcas)\n",
    "dcas/= np.max(dcas)\n",
    "\n"
   ]
  },
  {
   "cell_type": "code",
   "execution_count": 532,
   "metadata": {},
   "outputs": [
    {
     "data": {
      "text/plain": [
       "[<matplotlib.lines.Line2D at 0x7f895af17af0>]"
      ]
     },
     "execution_count": 532,
     "metadata": {},
     "output_type": "execute_result"
    },
    {
     "data": {
      "image/png": "[encoded data removed]",
      "text/plain": [
       "<Figure size 432x288 with 1 Axes>"
      ]
     },
     "metadata": {
      "needs_background": "light"
     },
     "output_type": "display_data"
    }
   ],
   "source": [
    "ncas = cas - np.min(cas)\n",
    "ncas = ncas/np.max(ncas)\n",
    "#ncas = cas\n",
    "plt.plot(ts,ncas)\n",
    "\n",
    "plt.plot(dts,dcas)\n"
   ]
  },
  {
   "cell_type": "code",
   "execution_count": null,
   "metadata": {},
   "outputs": [],
   "source": []
  },
  {
   "cell_type": "code",
   "execution_count": null,
   "metadata": {},
   "outputs": [],
   "source": []
  },
  {
   "cell_type": "code",
   "execution_count": null,
   "metadata": {},
   "outputs": [],
   "source": []
  },
  {
   "cell_type": "code",
   "execution_count": null,
   "metadata": {},
   "outputs": [],
   "source": []
  },
  {
   "cell_type": "code",
   "execution_count": null,
   "metadata": {},
   "outputs": [],
   "source": []
  },
  {
   "cell_type": "code",
   "execution_count": null,
   "metadata": {},
   "outputs": [],
   "source": []
  },
  {
   "cell_type": "code",
   "execution_count": null,
   "metadata": {},
   "outputs": [],
   "source": []
  }
 ],
 "metadata": {
  "kernelspec": {
   "display_name": "Python 3 (ipykernel)",
   "language": "python",
   "name": "python3"
  },
  "language_info": {
   "codemirror_mode": {
    "name": "ipython",
    "version": 3
   },
   "file_extension": ".py",
   "mimetype": "text/x-python",
   "name": "python",
   "nbconvert_exporter": "python",
   "pygments_lexer": "ipython3",
   "version": "3.9.12"
  }
 },
 "nbformat": 4,
 "nbformat_minor": 2
}
