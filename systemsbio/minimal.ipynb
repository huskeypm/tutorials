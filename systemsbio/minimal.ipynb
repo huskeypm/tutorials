{
 "cells": [
  {
   "cell_type": "markdown",
   "metadata": {},
   "source": [
    "# Minimal model for action potential, potassium current and calcium dynamics\n",
    "\n",
    "- Most of the constants are unphysical, so take with a grain of salt!"
   ]
  },
  {
   "cell_type": "code",
   "execution_count": 303,
   "metadata": {
    "collapsed": false
   },
   "outputs": [
    {
     "name": "stdout",
     "output_type": "stream",
     "text": [
      "The autoreload extension is already loaded. To reload it, use:\n",
      "  %reload_ext autoreload\n"
     ]
    }
   ],
   "source": [
    "%load_ext autoreload\n",
    "%autoreload 2\n",
    "%matplotlib inline\n",
    "import numpy as np \n",
    "import matplotlib.pylab as plt"
   ]
  },
  {
   "cell_type": "markdown",
   "metadata": {},
   "source": [
    "## Currents"
   ]
  },
  {
   "cell_type": "code",
   "execution_count": 304,
   "metadata": {
    "collapsed": false
   },
   "outputs": [],
   "source": [
    "def iKChannel(Vm, E,params):\n",
    "    gCond = 3.\n",
    "    vDiff = Vm - E\n",
    "    IV = Vm+90  # very crude approx for IV \n",
    "    if IV>10: IV = 10\n",
    "    iKChannel = gCond * vDiff \n",
    "    return iKChannel\n",
    "\n",
    "def iAP(t):\n",
    "    scale = -300. # [mA]\n",
    "    if t>10 and t<15.:\n",
    "        return scale\n",
    "    else:\n",
    "        return 0 \n",
    "    \n",
    "def iCaPOpen(Vm):\n",
    "    V50 = 100.\n",
    "    n = 4\n",
    "    pOpen = (1 + (V50/(Vm + 70))**n)**-1 \n",
    "    return pOpen\n",
    "    \n",
    "    \n",
    "def iCaChannel(Vm, E,params):\n",
    "    vDiff = Vm - E\n",
    "    rate = 20.\n",
    "    iCaChannel = rate * iCaPOpen(Vm)* vDiff \n",
    "    return iCaChannel\n",
    "\n",
    "\n"
   ]
  },
  {
   "cell_type": "code",
   "execution_count": 300,
   "metadata": {
    "collapsed": false
   },
   "outputs": [
    {
     "name": "stderr",
     "output_type": "stream",
     "text": [
      "/Users/peterkekenes-huskey/anaconda/lib/python2.7/site-packages/ipykernel/__main__.py:19: RuntimeWarning: divide by zero encountered in divide\n"
     ]
    },
    {
     "data": {
      "text/plain": [
       "Text(0.5,0,'V')"
      ]
     },
     "execution_count": 300,
     "metadata": {},
     "output_type": "execute_result"
    },
    {
     "data": {
      "image/png": "[encoded data removed]",
      "text/plain": [
       "<Figure size 432x288 with 1 Axes>"
      ]
     },
     "metadata": {},
     "output_type": "display_data"
    }
   ],
   "source": []
  },
  {
   "cell_type": "markdown",
   "metadata": {},
   "source": [
    "### Ca functions "
   ]
  },
  {
   "cell_type": "code",
   "execution_count": 287,
   "metadata": {
    "collapsed": true
   },
   "outputs": [],
   "source": [
    "def SERCA(caCyto,params):\n",
    "    Vmax = 0.25   # put into params\n",
    "    KD = 0.85 # uM\n",
    "    JSERCA = -Vmax/(1 + (KD/caCyto)**2)\n",
    "    return JSERCA\n",
    "    \n",
    "    \n",
    "def SRLeak(caCyto,Vm,params):\n",
    "    rate = 0.2\n",
    "    if Vm < -50:\n",
    "      Jleak = rate/(1 + (0.5/0.1)**2)\n",
    "    else:\n",
    "      Jleak = 0.\n",
    "    #print Jleak\n",
    "    return Jleak    "
   ]
  },
  {
   "cell_type": "markdown",
   "metadata": {},
   "source": [
    "### Constants "
   ]
  },
  {
   "cell_type": "code",
   "execution_count": 288,
   "metadata": {
    "collapsed": true
   },
   "outputs": [],
   "source": [
    "Ek = -70 # mV\n",
    "ECa = 0. # mV \n",
    "params = None \n",
    "Cm = 1.   # \n",
    "tEnd = 60."
   ]
  },
  {
   "cell_type": "markdown",
   "metadata": {},
   "source": [
    "### ODE integrator "
   ]
  },
  {
   "cell_type": "code",
   "execution_count": 289,
   "metadata": {
    "collapsed": true
   },
   "outputs": [],
   "source": [
    "\n",
    "def dydt(y,t,params):\n",
    "    P2Y12=0\n",
    "    Vm, Ca = y\n",
    "    \n",
    "# currents, including G-protein dependent K channel activation \n",
    "    IK = iKChannel(Vm, Ek,params)\n",
    "    ICa = iCaChannel(Vm, ECa,params)\n",
    "    IAP = iAP(t)\n",
    "    #ICa = iCaChannel(Vm,CaLig,params)\n",
    "    #ILeak = iLeak(Vm,params)\n",
    "    \n",
    "    #INKA = params.INKA;\n",
    "    conv = 0.005 # i to dCa conv factor \n",
    "    JCa = conv *  ICa\n",
    "    scale = 1.\n",
    "    JSERCA = scale*SERCA(Ca, params)\n",
    "    JLeak = scale*SRLeak(Ca,Vm,params)\n",
    "    \n",
    "    # Membrane potential \n",
    "    dVm_dt = -(IK + ICa + IAP)/Cm;\n",
    "    dCa_dt = JCa + JSERCA + JLeak\n",
    "    return dVm_dt, dCa_dt"
   ]
  },
  {
   "cell_type": "code",
   "execution_count": 290,
   "metadata": {
    "collapsed": true
   },
   "outputs": [],
   "source": [
    "from scipy.integrate import odeint"
   ]
  },
  {
   "cell_type": "markdown",
   "metadata": {},
   "source": [
    "## Simulator "
   ]
  },
  {
   "cell_type": "code",
   "execution_count": 291,
   "metadata": {
    "collapsed": false
   },
   "outputs": [
    {
     "name": "stderr",
     "output_type": "stream",
     "text": [
      "/Users/peterkekenes-huskey/anaconda/lib/python2.7/site-packages/ipykernel/__main__.py:19: RuntimeWarning: divide by zero encountered in double_scalars\n"
     ]
    }
   ],
   "source": [
    "\n",
    "ts = np.linspace(0,tEnd,1000)\n",
    "Vm = -70 # mV\n",
    "Ca = 0.15 # uM \n",
    "y0 = [Vm, Ca] # , rhoKchannel,Gprot,CaLig,Ca]\n",
    "\n",
    "\n",
    "ys = odeint(dydt,y0,ts,args=(params,))"
   ]
  },
  {
   "cell_type": "markdown",
   "metadata": {},
   "source": [
    "### Plot results of P Open\n",
    "\n"
   ]
  },
  {
   "cell_type": "code",
   "execution_count": null,
   "metadata": {
    "collapsed": true
   },
   "outputs": [],
   "source": [
    "Vs = np.linspace(-70, 70,100)\n",
    "plt.plot(Vs,iCaPOpen(Vs))\n",
    "plt.ylabel(\"POpen\")\n",
    "plt.xlabel(\"V\")"
   ]
  },
  {
   "cell_type": "markdown",
   "metadata": {},
   "source": [
    "### Plot simulation results "
   ]
  },
  {
   "cell_type": "code",
   "execution_count": 298,
   "metadata": {
    "collapsed": false
   },
   "outputs": [
    {
     "data": {
      "text/plain": [
       "Text(0,0.5,'Ca')"
      ]
     },
     "execution_count": 298,
     "metadata": {},
     "output_type": "execute_result"
    },
    {
     "data": {
      "image/png": "[encoded data removed]",
      "text/plain": [
       "<Figure size 432x288 with 2 Axes>"
      ]
     },
     "metadata": {},
     "output_type": "display_data"
    }
   ],
   "source": [
    "fig,ax = plt.subplots(1)\n",
    "ax.plot(ts, ys[:,0 ])\n",
    "ax.set_ylabel(\"V\")\n",
    "ax.set_xlabel(\"t\")\n",
    "\n",
    "axr = ax.twinx()\n",
    "axr.plot(ts,ys[:,1],\"k\")\n",
    "plt.ylabel(\"Ca\")"
   ]
  },
  {
   "cell_type": "code",
   "execution_count": null,
   "metadata": {
    "collapsed": true
   },
   "outputs": [],
   "source": []
  },
  {
   "cell_type": "code",
   "execution_count": null,
   "metadata": {
    "collapsed": true
   },
   "outputs": [],
   "source": []
  },
  {
   "cell_type": "code",
   "execution_count": null,
   "metadata": {
    "collapsed": true
   },
   "outputs": [],
   "source": []
  }
 ],
 "metadata": {
  "kernelspec": {
   "display_name": "Python 2",
   "language": "python",
   "name": "python2"
  },
  "language_info": {
   "codemirror_mode": {
    "name": "ipython",
    "version": 2
   },
   "file_extension": ".py",
   "mimetype": "text/x-python",
   "name": "python",
   "nbconvert_exporter": "python",
   "pygments_lexer": "ipython2",
   "version": "2.7.13"
  }
 },
 "nbformat": 4,
 "nbformat_minor": 2
}
