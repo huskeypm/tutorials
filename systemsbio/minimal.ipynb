{
 "cells": [
  {
   "cell_type": "markdown",
   "metadata": {},
   "source": [
    "# Minimal model for action potential, potassium current and calcium dynamics\n",
    "\n",
    "- Most of the constants are unphysical, so take with a grain of salt!\n",
    "- The end of this notebook shows how to load data from microscope to show fit versus model "
   ]
  },
  {
   "cell_type": "markdown",
   "metadata": {},
   "source": [
    "Loads a bunch of libraries "
   ]
  },
  {
   "cell_type": "code",
<<<<<<< HEAD
   "execution_count": 511,
=======
   "execution_count": 1,
>>>>>>> f2b949a036ff21f85192baa1d84df9551cfa66dd
   "metadata": {},
   "outputs": [
    {
     "name": "stdout",
     "output_type": "stream",
     "text": [
      "The autoreload extension is already loaded. To reload it, use:\n",
      "  %reload_ext autoreload\n"
     ]
    }
   ],
   "source": [
    "%load_ext autoreload\n",
    "%autoreload 2\n",
    "%matplotlib inline\n",
    "import numpy as np \n",
    "import matplotlib.pylab as plt"
   ]
  },
  {
   "cell_type": "markdown",
   "metadata": {},
   "source": [
    "## Currents\n",
    "\n",
    "These describe thwe ion currents from the potassium channel and calcium channel. The iAP is a simulated action potentially that essentially drives the activation of the K/Ca channels "
   ]
  },
  {
   "cell_type": "code",
<<<<<<< HEAD
   "execution_count": 512,
=======
   "execution_count": 2,
>>>>>>> f2b949a036ff21f85192baa1d84df9551cfa66dd
   "metadata": {},
   "outputs": [],
   "source": [
    "def iKChannel(\n",
    "    Vm, # membrane potential  \n",
    "    E,  # current \n",
    "    params):\n",
    "    gCond = 3.       # conductivity\n",
    "    vDiff = Vm - E   # difference between Nernst potential for K ion and the membrane potential \n",
    "    #IV = Vm+90  # very crude approx for IV \n",
    "    #if IV>10: IV = 10  # set a maximum value for the the current \n",
    "    iKChannel = gCond * vDiff \n",
    "    return iKChannel\n",
    "\n",
    "\n",
    "# Makes an abrupt increase, then relaxes in a linear fashion\n",
    "def iAP(t):\n",
    "    current = -300. # [mA]\n",
    "    start=10.\n",
    "    finishHat=90.\n",
    "    finishLin=175.\n",
    "    delta = finishLin-finishHat\n",
    "    scale = (finishLin-t)/delta\n",
    "    if t>start and t<finishHat:\n",
    "        return current\n",
    "    elif t>= finishHat and t<finishLin:\n",
    "        return scale*current\n",
    "    else:\n",
    "        return 0 \n",
    "    \n",
    "def iCaPOpen(Vm):\n",
    "    V50 = 50.\n",
    "    n = 4\n",
    "    pOpen = (1 + (V50/(Vm + 70))**n)**-1 \n",
    "    return pOpen\n",
    "    \n",
    "    \n",
    "def iCaChannel(Vm, E,params):\n",
    "    vDiff = Vm - E\n",
    "    iCaChannel =  params.gCa * iCaPOpen(Vm)* vDiff \n",
    "    return iCaChannel\n",
    "\n",
    "\n"
   ]
  },
  {
   "cell_type": "markdown",
   "metadata": {},
   "source": [
    "### Ca handling functions \n",
    "\n",
    "- uptake (SERCA) and release (SRLeak)\n",
    "- At resting calcium, the uptake and release fluxes should be equal and opposite \n",
    "- If changing params.Vmax, you'll want to do the same to the params.leakRate in SRLeak()"
   ]
  },
  {
   "cell_type": "code",
<<<<<<< HEAD
   "execution_count": 513,
=======
   "execution_count": 3,
>>>>>>> f2b949a036ff21f85192baa1d84df9551cfa66dd
   "metadata": {},
   "outputs": [],
   "source": [
    "def SERCA(caCyto,params):\n",
    "    JSERCA = -params.Vmax/(1 + (params.sercaKD/caCyto)**6)\n",
    "    return JSERCA\n",
    "    \n",
    "    \n",
    "def SRLeak(caCyto,Vm,params):\n",
    "\n",
    "    if Vm < -50:\n",
    "      Jleak = params.leakRate\n",
    "      #Jleak = params.leakRate/(1 + (0.5/0.1)**2)\n",
    "    else:\n",
    "      Jleak = 0.\n",
    "        #print Jleak\n",
    "    return Jleak    "
   ]
  },
  {
   "cell_type": "markdown",
   "metadata": {},
   "source": [
    "### ODE integrator\n",
    "\n",
    "Here, dydt is defined which includes the time dependent changes in the intracellular calcium (Ca fluxes) and the membrane potential (from the ion currents) "
   ]
  },
  {
   "cell_type": "code",
<<<<<<< HEAD
   "execution_count": 514,
=======
   "execution_count": 4,
>>>>>>> f2b949a036ff21f85192baa1d84df9551cfa66dd
   "metadata": {},
   "outputs": [],
   "source": [
    "\n",
    "def dydt(y,t,params):\n",
    "    P2Y12=0\n",
    "    Vm, Ca = y\n",
    "    \n",
    "# currents, including G-protein dependent K channel activation \n",
    "    IK = iKChannel(Vm, Ek,params)\n",
    "    ICa = iCaChannel(Vm, ECa,params)\n",
    "    IAP = iAP(t)\n",
    "    #ICa = iCaChannel(Vm,CaLig,params)\n",
    "    #ILeak = iLeak(Vm,params)\n",
    "    \n",
    "    #INKA = params.INKA;\n",
    "    conv = 0.005 # i to dCa conv factor \n",
    "    JCa = conv *  ICa\n",
    "    JSERCA = SERCA(Ca, params)\n",
    "    JLeak = SRLeak(Ca,Vm,params)\n",
    "    \n",
    "    # Membrane potential \n",
    "    dVm_dt = -(IK + ICa + IAP)/Cm;\n",
    "    dCa_dt = JCa + JSERCA + JLeak\n",
    "    return dVm_dt, dCa_dt"
   ]
  },
  {
   "cell_type": "code",
<<<<<<< HEAD
   "execution_count": 515,
=======
   "execution_count": 5,
>>>>>>> f2b949a036ff21f85192baa1d84df9551cfa66dd
   "metadata": {},
   "outputs": [],
   "source": [
    "from scipy.integrate import odeint"
   ]
  },
  {
   "cell_type": "markdown",
   "metadata": {},
   "source": [
    "## Simulator \n",
    "\n",
    "Params() is a class that holds all of your parameter values "
   ]
  },
  {
   "cell_type": "markdown",
   "metadata": {},
   "source": [
    "Parameters for the models "
   ]
  },
  {
   "cell_type": "code",
<<<<<<< HEAD
   "execution_count": 518,
=======
   "execution_count": 6,
>>>>>>> f2b949a036ff21f85192baa1d84df9551cfa66dd
   "metadata": {},
   "outputs": [],
   "source": [
    "Ek = -70 # mV - Nernst (reversal) potential for potassium \n",
    "ECa = 0. # mV \n",
    "\n",
    "class Params():\n",
    "    def __init__(self):\n",
    "      # serca parameters\n",
    "      self.sercaKD = 0.30 # Ca concentration at which pump is 50%\n",
    "      self.Vmax = 0.010   # turnover rate   \n",
    "    \n",
    "      # SR leak parameters \n",
    "      self.leakRate = 13e-5\n",
    "        \n",
    "      # Ca release channel current   \n",
    "      self.gCa = 0.18\n",
    "    \n",
    "      # initial calcium concentration \n",
    "      self.Ca0 = 0.145 # uM \n",
    "    \n",
    "      # initial membrane potential \n",
    "      self.Vm = -70 # mV\n",
    "\n",
    "params = Params()    \n",
<<<<<<< HEAD
=======
    "\n",
    "# uncomment if we want to turn off the calcium release channel\n",
>>>>>>> f2b949a036ff21f85192baa1d84df9551cfa66dd
    "#params.gCa = 0.\n",
    "\n",
    "Cm = 1.   # capacitance of the cell (resists change in potential for a given current, I=VR)\n"
   ]
  },
  {
   "cell_type": "markdown",
   "metadata": {},
   "source": [
    "Ignore the divide by zero error for now "
   ]
  },
  {
   "cell_type": "markdown",
   "metadata": {},
   "source": [
    "Simulate"
   ]
  },
  {
   "cell_type": "code",
<<<<<<< HEAD
   "execution_count": 519,
=======
   "execution_count": 9,
>>>>>>> f2b949a036ff21f85192baa1d84df9551cfa66dd
   "metadata": {},
   "outputs": [
    {
     "name": "stderr",
     "output_type": "stream",
     "text": [
      "<ipython-input-2-a63ca53ab6d9>:31: RuntimeWarning: divide by zero encountered in double_scalars\n",
      "  pOpen = (1 + (V50/(Vm + 70))**n)**-1\n"
     ]
    }
   ],
   "source": [
    "tEnd = 500.\n",
    "ts = np.linspace(0,tEnd,10000) # how long we are simulating\n",
    "\n",
    "# initial values \n",
    "y0 = [params.Vm, params.Ca0] # , rhoKchannel,Gprot,CaLig,Ca]\n",
    "\n",
    "# integrator - display results \n",
    "ys = odeint(dydt,y0,ts,args=(params,))"
   ]
  },
  {
   "cell_type": "markdown",
   "metadata": {},
   "source": [
<<<<<<< HEAD
    "### Plot results of P Open versus membrane potential\n",
    "Shows how 'open' the channels are as the cell is depolarized \n"
=======
    "### Plot results of P Open\n",
    "\n",
    "This is a plot of the calcium release channel's open probability with respecto to voltage"
>>>>>>> f2b949a036ff21f85192baa1d84df9551cfa66dd
   ]
  },
  {
   "cell_type": "code",
<<<<<<< HEAD
   "execution_count": 522,
=======
   "execution_count": 11,
>>>>>>> f2b949a036ff21f85192baa1d84df9551cfa66dd
   "metadata": {},
   "outputs": [
    {
     "name": "stderr",
     "output_type": "stream",
     "text": [
      "<ipython-input-2-a63ca53ab6d9>:31: RuntimeWarning: divide by zero encountered in true_divide\n",
      "  pOpen = (1 + (V50/(Vm + 70))**n)**-1\n"
     ]
    },
    {
     "data": {
      "text/plain": [
       "Text(0.5, 0, 'V')"
      ]
     },
<<<<<<< HEAD
     "execution_count": 522,
=======
     "execution_count": 11,
>>>>>>> f2b949a036ff21f85192baa1d84df9551cfa66dd
     "metadata": {},
     "output_type": "execute_result"
    },
    {
     "data": {
      "image/png": "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\n",
      "text/plain": [
       "<Figure size 432x288 with 1 Axes>"
      ]
     },
     "metadata": {
      "needs_background": "light"
     },
     "output_type": "display_data"
    }
   ],
   "source": [
    "Vs = np.linspace(-70, 70,100)\n",
    "plt.plot(Vs,iCaPOpen(Vs))\n",
    "plt.ylabel(\"POpen\")\n",
    "plt.xlabel(\"V\")"
   ]
  },
  {
   "cell_type": "markdown",
   "metadata": {},
   "source": [
    "### Plot simulation results "
   ]
  },
  {
   "cell_type": "code",
<<<<<<< HEAD
   "execution_count": 525,
   "metadata": {},
   "outputs": [
    {
     "name": "stderr",
     "output_type": "stream",
     "text": [
      "/var/folders/4d/5k72012d6k962xflcjjdwkf00000gp/T/ipykernel_17640/1542759097.py:31: RuntimeWarning: divide by zero encountered in true_divide\n",
      "  pOpen = (1 + (V50/(Vm + 70))**n)**-1\n"
     ]
    },
    {
     "data": {
      "text/plain": [
       "Text(0, 0.5, 'P(Open)')"
      ]
     },
     "execution_count": 525,
     "metadata": {},
     "output_type": "execute_result"
    },
    {
     "data": {
      "image/png": "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\n",
      "text/plain": [
       "<Figure size 432x288 with 2 Axes>"
      ]
     },
     "metadata": {
      "needs_background": "light"
     },
     "output_type": "display_data"
    }
   ],
   "source": [
    "fig,ax = plt.subplots(1)\n",
    "Vms= ys[:,0 ]\n",
    "ax.plot(ts, Vms)\n",
    "\n",
    "ax.set_ylabel(\"V\")\n",
    "ax.set_xlabel(\"t\")\n",
    "\n",
    "axr = ax.twinx()\n",
    "pOs = iCaPOpen(Vms)\n",
    "\n",
    "axr.plot(ts,pOs,'k')\n",
    "axr.set_ylabel(\"P(Open)\")"
   ]
  },
  {
   "cell_type": "markdown",
   "metadata": {},
   "source": [
    "Calcium versus time "
   ]
  },
  {
   "cell_type": "code",
   "execution_count": 526,
=======
   "execution_count": 24,
>>>>>>> f2b949a036ff21f85192baa1d84df9551cfa66dd
   "metadata": {},
   "outputs": [
    {
     "data": {
      "text/plain": [
       "<matplotlib.legend.Legend at 0x7f4111e9b4c0>"
      ]
     },
<<<<<<< HEAD
     "execution_count": 526,
=======
     "execution_count": 24,
>>>>>>> f2b949a036ff21f85192baa1d84df9551cfa66dd
     "metadata": {},
     "output_type": "execute_result"
    },
    {
     "data": {
      "image/png": "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\n",
      "text/plain": [
       "<Figure size 432x288 with 2 Axes>"
      ]
     },
     "metadata": {
      "needs_background": "light"
     },
     "output_type": "display_data"
    }
   ],
   "source": [
    "fig,ax = plt.subplots(1)\n",
    "\n",
    "cas = ys[:,1 ]\n",
    "\n",
    "ax.plot(ts, ys[:,0 ], label=\"Voltage\")\n",
    "ax.set_ylabel(\"V\")\n",
    "ax.set_xlabel(\"t\")\n",
    "ax.legend()\n",
    "\n",
    "axr = ax.twinx()\n",
    "axr.plot(ts,cas,\"k\",label=\"Ca\")\n",
    "plt.ylabel(\"Ca\")\n",
    "axr.legend(loc=4)"
   ]
  },
  {
   "cell_type": "markdown",
   "metadata": {},
   "source": [
    "### Here we are creating an example where we fit the model to real data\n",
    "\n",
    "- Data was recorded at 1 Hz, so the 400 frames here corresponds to 400 sec ---> 7 min = 420 sec ~ 400 sec  \n",
    "- we also normalize the data for simplicity\n",
    "- will assume that the useful data starts after thge 120th frame \n",
    "- 'transient' from model starts at t=10, so having data ts start from then too  "
   ]
  },
  {
   "cell_type": "code",
<<<<<<< HEAD
   "execution_count": 531,
=======
   "execution_count": 25,
>>>>>>> f2b949a036ff21f85192baa1d84df9551cfa66dd
   "metadata": {},
   "outputs": [
    {
     "name": "stdout",
     "output_type": "stream",
     "text": [
      "(421, 2)\n"
     ]
    }
   ],
   "source": [
    "data = np.loadtxt(\"fluo4.csv\",skiprows=1, delimiter=',')\n",
    "print( np.shape(data) )\n",
    "frInit = 120\n",
    "dts = data[frInit:,0]  # 400 sec\n",
    "dts -= (frInit-10) \n",
    "\n",
    "\n",
    "\n",
    "dcas = data[frInit:,1]\n",
    "dcas-= np.min(dcas)\n",
    "dcas/= np.max(dcas)\n",
    "\n"
   ]
  },
  {
   "cell_type": "code",
<<<<<<< HEAD
   "execution_count": 532,
=======
   "execution_count": 26,
>>>>>>> f2b949a036ff21f85192baa1d84df9551cfa66dd
   "metadata": {},
   "outputs": [
    {
     "data": {
      "text/plain": [
<<<<<<< HEAD
       "[<matplotlib.lines.Line2D at 0x7f895af17af0>]"
      ]
     },
     "execution_count": 532,
=======
       "[<matplotlib.lines.Line2D at 0x7f4111e49550>]"
      ]
     },
     "execution_count": 26,
>>>>>>> f2b949a036ff21f85192baa1d84df9551cfa66dd
     "metadata": {},
     "output_type": "execute_result"
    },
    {
     "data": {
      "image/png": "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\n",
      "text/plain": [
       "<Figure size 432x288 with 1 Axes>"
      ]
     },
     "metadata": {
      "needs_background": "light"
     },
     "output_type": "display_data"
    }
   ],
   "source": [
    "ncas = cas - np.min(cas)\n",
    "ncas = ncas/np.max(ncas)\n",
    "#ncas = cas\n",
    "plt.plot(ts,ncas)\n",
    "\n",
    "plt.plot(dts,dcas)\n"
   ]
  },
  {
   "cell_type": "code",
   "execution_count": null,
   "metadata": {},
   "outputs": [],
   "source": []
  },
  {
   "cell_type": "code",
   "execution_count": null,
   "metadata": {},
   "outputs": [],
   "source": []
  },
  {
   "cell_type": "code",
   "execution_count": null,
   "metadata": {},
   "outputs": [],
   "source": []
  },
  {
   "cell_type": "code",
   "execution_count": null,
   "metadata": {},
   "outputs": [],
   "source": []
  },
  {
   "cell_type": "code",
   "execution_count": null,
   "metadata": {},
   "outputs": [],
   "source": []
  },
  {
   "cell_type": "code",
   "execution_count": null,
   "metadata": {},
   "outputs": [],
   "source": []
  },
  {
   "cell_type": "code",
   "execution_count": null,
   "metadata": {},
   "outputs": [],
   "source": []
  }
 ],
 "metadata": {
  "kernelspec": {
   "display_name": "Python 3",
   "language": "python",
   "name": "python3"
  },
  "language_info": {
   "codemirror_mode": {
    "name": "ipython",
    "version": 3
   },
   "file_extension": ".py",
   "mimetype": "text/x-python",
   "name": "python",
   "nbconvert_exporter": "python",
   "pygments_lexer": "ipython3",
   "version": "3.8.3"
  }
 },
 "nbformat": 4,
 "nbformat_minor": 2
}
