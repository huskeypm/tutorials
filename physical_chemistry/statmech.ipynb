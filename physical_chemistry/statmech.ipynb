{
 "metadata": {
  "name": "",
  "signature": "sha256:1a218e217bba9bbd410f244a14eed7b85a11e7552fc12c0a58edafaa00af5bba"
 },
 "nbformat": 3,
 "nbformat_minor": 0,
 "worksheets": [
  {
   "cells": [
    {
     "cell_type": "markdown",
     "metadata": {},
     "source": [
      "## Log into plotly with my credentials"
     ]
    },
    {
     "cell_type": "code",
     "collapsed": false,
     "input": [
      "import plotly \n",
      "plotly.tools.set_credentials_file(username='huskeypm', api_key='3x5rz5d19r')\n",
      "import plotly.tools as tls\n",
      "import plotly.plotly as py"
     ],
     "language": "python",
     "metadata": {},
     "outputs": [],
     "prompt_number": 42
    },
    {
     "cell_type": "markdown",
     "metadata": {},
     "source": [
      "## Definition of pbound equation per Phillips et al\n",
      "\n",
      "\\begin{align}\n",
      "p_{bound} &= \n",
      "\\frac{(L/\\Omega) e^{-\\beta \\Delta \\epsilon}}\n",
      "{1 + (L/\\Omega) e^{-\\beta \\Delta \\epsilon}} \\\\\n",
      "&= \n",
      "\\frac{(c/c_0) e^{-\\beta \\Delta \\epsilon}}\n",
      "{1 + (c/c_0) e^{-\\beta \\Delta \\epsilon}}\n",
      "\\end{align}\n",
      "where $\\Delta \\epsilon = \\epsilon_b - \\epsilon_{sol}$.\n",
      "\n"
     ]
    },
    {
     "cell_type": "code",
     "collapsed": false,
     "input": [
      "#cs = np.linspace(0,100,100)*1e-6\n",
      "cs = 10**np.linspace(-8,1,100)\n",
      "c0 = 0.6 # [M]\n",
      "kT = 1.  # [kT]\n",
      "\n",
      "def pb(c,delE):\n",
      "    c_o_c0 = c/c0\n",
      "    ex = np.exp(-delE/kT)\n",
      "    num = c_o_c0 * ex\n",
      "    den = num+1\n",
      "    return num/den\n",
      "\n",
      "fig, ax = plt.subplots()\n",
      "ax.set_title('Prob(Bound) versus [L] ')\n",
      "ax.set_xlabel('[L] [uM]')\n",
      "\n",
      "from scipy import interpolate\n",
      "\n",
      "\n",
      "delEs = [-7.5,-10,-12.5] # [kT]\n",
      "for i,delE in enumerate(delEs):\n",
      "  # get KD  \n",
      "  p50 = 0.5  \n",
      "  L_interp = interpolate.interp1d(pb(cs,delE),cs)\n",
      "  KD = L_interp(p50)\n",
      "  print KD  \n",
      "  \n",
      "  ax.scatter(KD,p50)\n",
      "  ax.plot(cs, pb(cs,delE), label=\"dE=%3.1f [kT], KD=%3.1f [uM]\"% (delE,KD*1e6) )\n",
      "\n",
      "ax.set_xscale('log')\n",
      "ax.grid()\n",
      "\n",
      "plt.legend(loc=0)\n",
      "plt.gcf().savefig(\"pBound.png\",dpi=300)"
     ],
     "language": "python",
     "metadata": {},
     "outputs": [
      {
       "output_type": "stream",
       "stream": "stdout",
       "text": [
        "0.000333216489972\n",
        "2.73341870479e-05\n",
        "2.24199613296e-06\n"
       ]
      },
      {
       "metadata": {},
       "output_type": "display_data",
       "png": "[encoded data removed]",
       "text": [
        "<matplotlib.figure.Figure at 0x7f6274226a90>"
       ]
      }
     ],
     "prompt_number": 49
    },
    {
     "cell_type": "code",
     "collapsed": false,
     "input": [
      "#plt.legend(loc=0)\n",
      "plotly_fig = tls.mpl_to_plotly( fig )\n",
      "\n",
      "# Adding custom attributes to legend\n",
      "plotly_fig['layout']['showlegend'] = True\n",
      "\n",
      "url_ident = py.iplot(plotly_fig, filename = 'pbound')\n",
      "\n",
      "print url_ident.resource"
     ],
     "language": "python",
     "metadata": {},
     "outputs": [
      {
       "output_type": "stream",
       "stream": "stdout",
       "text": [
        "https://plot.ly/~huskeypm/38\n"
       ]
      }
     ],
     "prompt_number": 44
    },
    {
     "cell_type": "code",
     "collapsed": false,
     "input": [
      "url_ident"
     ],
     "language": "python",
     "metadata": {},
     "outputs": [
      {
       "html": [
        "<iframe id=\"igraph\" scrolling=\"no\" style=\"border:none;\" seamless=\"seamless\" src=\"https://plot.ly/~huskeypm/38.embed\" height=\"320px\" width=\"480px\"></iframe>"
       ],
       "metadata": {},
       "output_type": "pyout",
       "prompt_number": 45,
       "text": [
        "<plotly.tools.PlotlyDisplay at 0x7f62741d4c90>"
       ]
      }
     ],
     "prompt_number": 45
    },
    {
     "cell_type": "code",
     "collapsed": false,
     "input": [],
     "language": "python",
     "metadata": {},
     "outputs": []
    }
   ],
   "metadata": {}
  }
 ]
}