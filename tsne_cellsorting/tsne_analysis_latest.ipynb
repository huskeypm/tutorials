{
  "cells": [
    {
      "cell_type": "markdown",
      "metadata": {
        "id": "D1_C4UKLN3jl"
      },
      "source": [
        "# tsne on cytoflow data "
      ]
    },
    {
      "cell_type": "markdown",
      "metadata": {
        "id": "rIe8uphrN3jq"
      },
      "source": [
        "### Load important things"
      ]
    },
    {
      "cell_type": "code",
      "execution_count": 1,
      "metadata": {
        "id": "nQDBSj9WN3jr"
      },
      "outputs": [],
      "source": [
        "%load_ext autoreload\n",
        "%autoreload 2\n",
        "%matplotlib inline"
      ]
    },
    {
      "cell_type": "code",
      "execution_count": 2,
      "metadata": {
        "id": "_zb4zMfZN3ju"
      },
      "outputs": [],
      "source": [
        "import numpy as np\n",
        "from sklearn.datasets import load_digits\n",
        "from scipy.spatial.distance import pdist\n",
        "#from sklearn.manifold.t_sne import _joint_probabilities\n",
        "from scipy import linalg\n",
        "from sklearn.metrics import pairwise_distances\n",
        "from scipy.spatial.distance import squareform\n",
        "from sklearn.manifold import TSNE\n",
        "from matplotlib import pyplot as plt\n",
        "import seaborn as sns\n",
        "#sns.set(rc={'figure.figsize':(11.7,8.27)})\n",
        "palette = sns.color_palette(\"bright\", 10)\n",
        "import pandas as pd"
      ]
    },
    {
      "cell_type": "code",
      "execution_count": 3,
      "metadata": {
        "id": "T2EHbVa9N3jv"
      },
      "outputs": [],
      "source": [
        "nSamples = 1000 # 3000"
      ]
    },
    {
      "cell_type": "markdown",
      "metadata": {
        "id": "QG4CPKCcN3jw"
      },
      "source": [
        "Install fc tools if not available "
      ]
    },
    {
      "cell_type": "code",
      "execution_count": 4,
      "metadata": {
        "colab": {
          "base_uri": "https://localhost:8080/"
        },
        "id": "bWCWATdRN3jx",
        "outputId": "485c2be5-19d0-43ad-8913-652fd6d29691"
      },
      "outputs": [
        {
          "output_type": "stream",
          "name": "stdout",
          "text": [
            "Looking in indexes: https://pypi.org/simple, https://us-python.pkg.dev/colab-wheels/public/simple/\n",
            "Requirement already satisfied: flowcytometrytools in /usr/local/lib/python3.7/dist-packages (0.5.1)\n",
            "Requirement already satisfied: fcsparser>=0.1.1 in /usr/local/lib/python3.7/dist-packages (from flowcytometrytools) (0.2.4)\n",
            "Requirement already satisfied: setuptools in /usr/local/lib/python3.7/dist-packages (from flowcytometrytools) (57.4.0)\n",
            "Requirement already satisfied: decorator in /usr/local/lib/python3.7/dist-packages (from flowcytometrytools) (4.4.2)\n",
            "Requirement already satisfied: six in /usr/local/lib/python3.7/dist-packages (from fcsparser>=0.1.1->flowcytometrytools) (1.15.0)\n",
            "Requirement already satisfied: numpy in /usr/local/lib/python3.7/dist-packages (from fcsparser>=0.1.1->flowcytometrytools) (1.21.6)\n",
            "Requirement already satisfied: pandas in /usr/local/lib/python3.7/dist-packages (from fcsparser>=0.1.1->flowcytometrytools) (1.3.5)\n",
            "Requirement already satisfied: pytz>=2017.3 in /usr/local/lib/python3.7/dist-packages (from pandas->fcsparser>=0.1.1->flowcytometrytools) (2022.5)\n",
            "Requirement already satisfied: python-dateutil>=2.7.3 in /usr/local/lib/python3.7/dist-packages (from pandas->fcsparser>=0.1.1->flowcytometrytools) (2.8.2)\n"
          ]
        }
      ],
      "source": [
        "!pip install flowcytometrytools"
      ]
    },
    {
      "cell_type": "code",
      "execution_count": 5,
      "metadata": {
        "id": "IBYx9sUQN3jz"
      },
      "outputs": [],
      "source": [
        "import FlowCytometryTools as fct\n"
      ]
    },
    {
      "cell_type": "markdown",
      "metadata": {
        "id": "IMhFmKTNN3j0"
      },
      "source": [
        "### Set up data set "
      ]
    },
    {
      "cell_type": "code",
      "execution_count": 6,
      "metadata": {
        "id": "PYXtRG-lN3j0"
      },
      "outputs": [],
      "source": [
        "allData = {}    \n",
        "nTubes=0"
      ]
    },
    {
      "cell_type": "markdown",
      "metadata": {
        "id": "kptNEJ68N3j1"
      },
      "source": [
        "### download test\n",
        "see sharepoint https://loyolauniversitychicago-my.sharepoint.com/personal/rbonomo_luc_edu/_layouts/15/onedrive.aspx?ct=1574112430084&amp;or=OWA%2DNT&amp;cid=84cffd3c%2D4668%2D6e57%2D91fb%2D4f12520c418c&amp;originalPath=aHR0cHM6Ly9sb3lvbGF1bml2ZXJzaXR5Y2hpY2Fnby1teS5zaGFyZXBvaW50LmNvbS86ZjovZy9wZXJzb25hbC9yYm9ub21vX2x1Y19lZHUvRXZVM3BaT2psYkJGbkxNTHQ4MThad01CeHgyNXMwWVVrVXZTa2dtVC00N2Q4Zz9ydGltZT1UeWxhRW01czEwZw&amp;id=%2Fpersonal%2Frbonomo%5Fluc%5Fedu%2FDocuments%2FJune2019%2Ftsne%2Ffmt\n",
        "\n",
        "grabbed first couple and moved to /home/pkekeneshuskey/DataLocker/flowcyto/raiza/DIR\n",
        "\n",
        "DIR=fmt,vehicle"
      ]
    },
    {
      "cell_type": "code",
      "execution_count": 7,
      "metadata": {
        "id": "4Ci4LaX4N3j1"
      },
      "outputs": [],
      "source": [
        "path = \".\" # on colab"
      ]
    },
    {
      "cell_type": "markdown",
      "source": [
        "## Function for normalizing data "
      ],
      "metadata": {
        "id": "ck3MgWHWaJCs"
      }
    },
    {
      "cell_type": "code",
      "execution_count": 9,
      "metadata": {
        "id": "xu_-CKz5N3j2"
      },
      "outputs": [],
      "source": [
        "def doRenorm(sample,frame):\n",
        "  frame[frame < 1e-9] = 1e-9      # verify all numbers are positive \n",
        "  frame = frame.apply(np.log10)  # convert all into log    \n",
        "  frame=frame.fillna(0)\n",
        "  frame[frame<0]=0\n",
        "\n",
        "  for channel in sample.channel_names:\n",
        "      print(channel,np.median(frame[channel])) \n",
        "  return frame\n",
        "        "
      ]
    },
    {
      "cell_type": "markdown",
      "source": [
        "## Load data via pandas"
      ],
      "metadata": {
        "id": "4nOIbfeHaNuK"
      }
    },
    {
      "cell_type": "code",
      "execution_count": 10,
      "metadata": {
        "colab": {
          "base_uri": "https://localhost:8080/"
        },
        "id": "BjQcsyw6N3j3",
        "outputId": "ac4568a7-960b-4546-9d95-d9aa1ccd69f6"
      },
      "outputs": [
        {
          "output_type": "stream",
          "name": "stdout",
          "text": [
            "FSC-A 4.467143\n",
            "FSC-H 4.2041473\n",
            "FSC-W 5.073928\n",
            "SSC-A 4.2072406\n",
            "PE-Texas Red-A 2.6571133\n",
            "FITC-A 1.8640956\n",
            "PE-A 3.0091405\n",
            "APC-A 2.6062953\n",
            "PE-Cy7-A 1.871923\n",
            "APC-Cy 5-5-A 1.9176105\n",
            "Time 3.843625\n",
            "1000\n"
          ]
        }
      ],
      "source": [
        "fileNames = [\"1906188_Tube_045 4L WD DRG.fcs\"]\n",
        "\n",
        "\n",
        "renorm=True\n",
        "test=True\n",
        "nTubes=0\n",
        "randFromSet = True\n",
        "key = 'fmt'\n",
        "frames = []\n",
        "for fileName in fileNames:\n",
        "    sample = fct.FCMeasurement(ID='Test Sample', datafile=path+\"/\" + fileName)\n",
        "\n",
        "    # making a new dataframe \n",
        "    frame = pd.DataFrame(sample.data)\n",
        "    if renorm:\n",
        "        frame=doRenorm(sample,frame)\n",
        "        \n",
        "    if test:\n",
        "        frame.values[:]+=3\n",
        "    frames.append(frame)\n",
        "    nTubes+=1\n",
        "\n",
        "# merging several frames into a single data frame \n",
        "concat = pd.concat(frames)    \n",
        "\n",
        "\n",
        "# get a random subset\n",
        "if randFromSet:\n",
        "  concat = concat.sample(n=nSamples)    \n",
        "\n",
        "\n",
        "allData[key]=concat\n",
        "print(len(concat))\n"
      ]
    },
    {
      "cell_type": "code",
      "execution_count": 11,
      "metadata": {
        "colab": {
          "base_uri": "https://localhost:8080/",
          "height": 296
        },
        "id": "N-57X31xN3j3",
        "outputId": "7cf03a7c-b42b-45cd-b533-60713705a2b6"
      },
      "outputs": [
        {
          "output_type": "execute_result",
          "data": {
            "text/plain": [
              "Text(0, 0.5, 'PE-A')"
            ]
          },
          "metadata": {},
          "execution_count": 11
        },
        {
          "output_type": "display_data",
          "data": {
            "text/plain": [
              "<Figure size 432x288 with 1 Axes>"
            ],
            "image/png": "[encoded data removed]"
          },
          "metadata": {
            "needs_background": "light"
          }
        }
      ],
      "source": [
        "channel1 = 'PE-A' # CD45 \n",
        "channel2 = 'APC-A' # CD11b\n",
        "import seaborn as sns\n",
        "plt.scatter(sample[channel1],sample[channel2])\n",
        "plt.xlabel(channel2)\n",
        "plt.ylabel(channel1)"
      ]
    },
    {
      "cell_type": "code",
      "execution_count": 12,
      "metadata": {
        "colab": {
          "base_uri": "https://localhost:8080/"
        },
        "id": "clG16iaON3j4",
        "outputId": "cae47e9f-1c3e-46ec-8741-ec8b1a89aa20"
      },
      "outputs": [
        {
          "output_type": "stream",
          "name": "stdout",
          "text": [
            "('FSC-A', 'FSC-H', 'FSC-W', 'SSC-A', 'PE-Texas Red-A', 'FITC-A', 'PE-A', 'APC-A', 'PE-Cy7-A', 'APC-Cy 5-5-A', 'Time')\n"
          ]
        }
      ],
      "source": [
        "# printing all of the sample names \n",
        "print(sample.channel_names) # just as a guide, doesn't contain all data "
      ]
    },
    {
      "cell_type": "code",
      "execution_count": 13,
      "metadata": {
        "id": "VXrStbxDN3j5"
      },
      "outputs": [],
      "source": [
        "# adjust how much data we show\n",
        "pd.set_option('display.max_rows', 6)\n"
      ]
    },
    {
      "cell_type": "code",
      "execution_count": 14,
      "metadata": {
        "colab": {
          "base_uri": "https://localhost:8080/",
          "height": 360
        },
        "id": "uOxLRqtiN3j5",
        "outputId": "d7384776-aa5d-473f-949e-95e5f40c3f90"
      },
      "outputs": [
        {
          "output_type": "execute_result",
          "data": {
            "text/plain": [
              "          FSC-A     FSC-H     FSC-W     SSC-A  PE-Texas Red-A    FITC-A  \\\n",
              "4035   7.389485  7.268531  7.937434  7.144776        5.616139  4.838912   \n",
              "17343  6.986050  6.941263  7.861267  6.312345        4.669503  3.000000   \n",
              "19166  7.266247  7.140634  7.942093  7.096949        5.341889  4.313867   \n",
              "...         ...       ...       ...       ...             ...       ...   \n",
              "17441  7.419556  7.103769  8.132267  7.077969        5.509727  4.592621   \n",
              "11669  8.417204  7.384944  8.418538  8.418538        6.527400  6.538271   \n",
              "15890  8.042078  7.319855  8.418538  7.831696        6.252134  5.828415   \n",
              "\n",
              "           PE-A     APC-A  PE-Cy7-A  APC-Cy 5-5-A      Time  \n",
              "4035   5.986848  5.397801  4.579326      4.722634  6.457064  \n",
              "17343  5.091209  4.634679  3.000000      3.000000  7.096802  \n",
              "19166  5.826638  5.134814  4.526081      4.729813  7.142208  \n",
              "...         ...       ...       ...           ...       ...  \n",
              "17441  5.807312  5.713860  5.230679      5.406880  7.099425  \n",
              "11669  6.744251  7.123919  6.070418      6.427785  6.915859  \n",
              "15890  6.649577  6.173396  5.549959      5.280942  7.056893  \n",
              "\n",
              "[1000 rows x 11 columns]"
            ],
            "text/html": [
              "\n",
              "  <div id=\"df-45d17853-c121-4524-a563-4bd8702785e6\">\n",
              "    <div class=\"colab-df-container\">\n",
              "      <div>\n",
              "<style scoped>\n",
              "    .dataframe tbody tr th:only-of-type {\n",
              "        vertical-align: middle;\n",
              "    }\n",
              "\n",
              "    .dataframe tbody tr th {\n",
              "        vertical-align: top;\n",
              "    }\n",
              "\n",
              "    .dataframe thead th {\n",
              "        text-align: right;\n",
              "    }\n",
              "</style>\n",
              "<table border=\"1\" class=\"dataframe\">\n",
              "  <thead>\n",
              "    <tr style=\"text-align: right;\">\n",
              "      <th></th>\n",
              "      <th>FSC-A</th>\n",
              "      <th>FSC-H</th>\n",
              "      <th>FSC-W</th>\n",
              "      <th>SSC-A</th>\n",
              "      <th>PE-Texas Red-A</th>\n",
              "      <th>FITC-A</th>\n",
              "      <th>PE-A</th>\n",
              "      <th>APC-A</th>\n",
              "      <th>PE-Cy7-A</th>\n",
              "      <th>APC-Cy 5-5-A</th>\n",
              "      <th>Time</th>\n",
              "    </tr>\n",
              "  </thead>\n",
              "  <tbody>\n",
              "    <tr>\n",
              "      <th>4035</th>\n",
              "      <td>7.389485</td>\n",
              "      <td>7.268531</td>\n",
              "      <td>7.937434</td>\n",
              "      <td>7.144776</td>\n",
              "      <td>5.616139</td>\n",
              "      <td>4.838912</td>\n",
              "      <td>5.986848</td>\n",
              "      <td>5.397801</td>\n",
              "      <td>4.579326</td>\n",
              "      <td>4.722634</td>\n",
              "      <td>6.457064</td>\n",
              "    </tr>\n",
              "    <tr>\n",
              "      <th>17343</th>\n",
              "      <td>6.986050</td>\n",
              "      <td>6.941263</td>\n",
              "      <td>7.861267</td>\n",
              "      <td>6.312345</td>\n",
              "      <td>4.669503</td>\n",
              "      <td>3.000000</td>\n",
              "      <td>5.091209</td>\n",
              "      <td>4.634679</td>\n",
              "      <td>3.000000</td>\n",
              "      <td>3.000000</td>\n",
              "      <td>7.096802</td>\n",
              "    </tr>\n",
              "    <tr>\n",
              "      <th>19166</th>\n",
              "      <td>7.266247</td>\n",
              "      <td>7.140634</td>\n",
              "      <td>7.942093</td>\n",
              "      <td>7.096949</td>\n",
              "      <td>5.341889</td>\n",
              "      <td>4.313867</td>\n",
              "      <td>5.826638</td>\n",
              "      <td>5.134814</td>\n",
              "      <td>4.526081</td>\n",
              "      <td>4.729813</td>\n",
              "      <td>7.142208</td>\n",
              "    </tr>\n",
              "    <tr>\n",
              "      <th>...</th>\n",
              "      <td>...</td>\n",
              "      <td>...</td>\n",
              "      <td>...</td>\n",
              "      <td>...</td>\n",
              "      <td>...</td>\n",
              "      <td>...</td>\n",
              "      <td>...</td>\n",
              "      <td>...</td>\n",
              "      <td>...</td>\n",
              "      <td>...</td>\n",
              "      <td>...</td>\n",
              "    </tr>\n",
              "    <tr>\n",
              "      <th>17441</th>\n",
              "      <td>7.419556</td>\n",
              "      <td>7.103769</td>\n",
              "      <td>8.132267</td>\n",
              "      <td>7.077969</td>\n",
              "      <td>5.509727</td>\n",
              "      <td>4.592621</td>\n",
              "      <td>5.807312</td>\n",
              "      <td>5.713860</td>\n",
              "      <td>5.230679</td>\n",
              "      <td>5.406880</td>\n",
              "      <td>7.099425</td>\n",
              "    </tr>\n",
              "    <tr>\n",
              "      <th>11669</th>\n",
              "      <td>8.417204</td>\n",
              "      <td>7.384944</td>\n",
              "      <td>8.418538</td>\n",
              "      <td>8.418538</td>\n",
              "      <td>6.527400</td>\n",
              "      <td>6.538271</td>\n",
              "      <td>6.744251</td>\n",
              "      <td>7.123919</td>\n",
              "      <td>6.070418</td>\n",
              "      <td>6.427785</td>\n",
              "      <td>6.915859</td>\n",
              "    </tr>\n",
              "    <tr>\n",
              "      <th>15890</th>\n",
              "      <td>8.042078</td>\n",
              "      <td>7.319855</td>\n",
              "      <td>8.418538</td>\n",
              "      <td>7.831696</td>\n",
              "      <td>6.252134</td>\n",
              "      <td>5.828415</td>\n",
              "      <td>6.649577</td>\n",
              "      <td>6.173396</td>\n",
              "      <td>5.549959</td>\n",
              "      <td>5.280942</td>\n",
              "      <td>7.056893</td>\n",
              "    </tr>\n",
              "  </tbody>\n",
              "</table>\n",
              "<p>1000 rows × 11 columns</p>\n",
              "</div>\n",
              "      <button class=\"colab-df-convert\" onclick=\"convertToInteractive('df-45d17853-c121-4524-a563-4bd8702785e6')\"\n",
              "              title=\"Convert this dataframe to an interactive table.\"\n",
              "              style=\"display:none;\">\n",
              "        \n",
              "  <svg xmlns=\"http://www.w3.org/2000/svg\" height=\"24px\"viewBox=\"0 0 24 24\"\n",
              "       width=\"24px\">\n",
              "    <path d=\"M0 0h24v24H0V0z\" fill=\"none\"/>\n",
              "    <path d=\"M18.56 5.44l.94 2.06.94-2.06 2.06-.94-2.06-.94-.94-2.06-.94 2.06-2.06.94zm-11 1L8.5 8.5l.94-2.06 2.06-.94-2.06-.94L8.5 2.5l-.94 2.06-2.06.94zm10 10l.94 2.06.94-2.06 2.06-.94-2.06-.94-.94-2.06-.94 2.06-2.06.94z\"/><path d=\"M17.41 7.96l-1.37-1.37c-.4-.4-.92-.59-1.43-.59-.52 0-1.04.2-1.43.59L10.3 9.45l-7.72 7.72c-.78.78-.78 2.05 0 2.83L4 21.41c.39.39.9.59 1.41.59.51 0 1.02-.2 1.41-.59l7.78-7.78 2.81-2.81c.8-.78.8-2.07 0-2.86zM5.41 20L4 18.59l7.72-7.72 1.47 1.35L5.41 20z\"/>\n",
              "  </svg>\n",
              "      </button>\n",
              "      \n",
              "  <style>\n",
              "    .colab-df-container {\n",
              "      display:flex;\n",
              "      flex-wrap:wrap;\n",
              "      gap: 12px;\n",
              "    }\n",
              "\n",
              "    .colab-df-convert {\n",
              "      background-color: #E8F0FE;\n",
              "      border: none;\n",
              "      border-radius: 50%;\n",
              "      cursor: pointer;\n",
              "      display: none;\n",
              "      fill: #1967D2;\n",
              "      height: 32px;\n",
              "      padding: 0 0 0 0;\n",
              "      width: 32px;\n",
              "    }\n",
              "\n",
              "    .colab-df-convert:hover {\n",
              "      background-color: #E2EBFA;\n",
              "      box-shadow: 0px 1px 2px rgba(60, 64, 67, 0.3), 0px 1px 3px 1px rgba(60, 64, 67, 0.15);\n",
              "      fill: #174EA6;\n",
              "    }\n",
              "\n",
              "    [theme=dark] .colab-df-convert {\n",
              "      background-color: #3B4455;\n",
              "      fill: #D2E3FC;\n",
              "    }\n",
              "\n",
              "    [theme=dark] .colab-df-convert:hover {\n",
              "      background-color: #434B5C;\n",
              "      box-shadow: 0px 1px 3px 1px rgba(0, 0, 0, 0.15);\n",
              "      filter: drop-shadow(0px 1px 2px rgba(0, 0, 0, 0.3));\n",
              "      fill: #FFFFFF;\n",
              "    }\n",
              "  </style>\n",
              "\n",
              "      <script>\n",
              "        const buttonEl =\n",
              "          document.querySelector('#df-45d17853-c121-4524-a563-4bd8702785e6 button.colab-df-convert');\n",
              "        buttonEl.style.display =\n",
              "          google.colab.kernel.accessAllowed ? 'block' : 'none';\n",
              "\n",
              "        async function convertToInteractive(key) {\n",
              "          const element = document.querySelector('#df-45d17853-c121-4524-a563-4bd8702785e6');\n",
              "          const dataTable =\n",
              "            await google.colab.kernel.invokeFunction('convertToInteractive',\n",
              "                                                     [key], {});\n",
              "          if (!dataTable) return;\n",
              "\n",
              "          const docLinkHtml = 'Like what you see? Visit the ' +\n",
              "            '<a target=\"_blank\" href=https://colab.research.google.com/notebooks/data_table.ipynb>data table notebook</a>'\n",
              "            + ' to learn more about interactive tables.';\n",
              "          element.innerHTML = '';\n",
              "          dataTable['output_type'] = 'display_data';\n",
              "          await google.colab.output.renderOutput(dataTable, element);\n",
              "          const docLink = document.createElement('div');\n",
              "          docLink.innerHTML = docLinkHtml;\n",
              "          element.appendChild(docLink);\n",
              "        }\n",
              "      </script>\n",
              "    </div>\n",
              "  </div>\n",
              "  "
            ]
          },
          "metadata": {},
          "execution_count": 14
        }
      ],
      "source": [
        "allData['fmt']"
      ]
    },
    {
      "cell_type": "markdown",
      "metadata": {
        "id": "ETw9hPmtN3j7"
      },
      "source": [
        "### compare stats for full version. "
      ]
    },
    {
      "cell_type": "code",
      "execution_count": 15,
      "metadata": {
        "colab": {
          "base_uri": "https://localhost:8080/",
          "height": 1000
        },
        "id": "d6aIMXEaN3j7",
        "outputId": "7f9a7868-af2b-46f9-fdc7-22e87f06cf49"
      },
      "outputs": [
        {
          "output_type": "display_data",
          "data": {
            "text/plain": [
              "<Figure size 432x288 with 1 Axes>"
            ],
            "image/png": "[encoded data removed]"
          },
          "metadata": {
            "needs_background": "light"
          }
        },
        {
          "output_type": "display_data",
          "data": {
            "text/plain": [
              "<Figure size 432x288 with 1 Axes>"
            ],
            "image/png": "[encoded data removed]"
          },
          "metadata": {
            "needs_background": "light"
          }
        },
        {
          "output_type": "display_data",
          "data": {
            "text/plain": [
              "<Figure size 432x288 with 1 Axes>"
            ],
            "image/png": "[encoded data removed]"
          },
          "metadata": {
            "needs_background": "light"
          }
        },
        {
          "output_type": "display_data",
          "data": {
            "text/plain": [
              "<Figure size 432x288 with 1 Axes>"
            ],
            "image/png": "[encoded data removed]"
          },
          "metadata": {
            "needs_background": "light"
          }
        },
        {
          "output_type": "display_data",
          "data": {
            "text/plain": [
              "<Figure size 432x288 with 1 Axes>"
            ],
            "image/png": "[encoded data removed]"
          },
          "metadata": {
            "needs_background": "light"
          }
        },
        {
          "output_type": "display_data",
          "data": {
            "text/plain": [
              "<Figure size 432x288 with 1 Axes>"
            ],
            "image/png": "[encoded data removed]"
          },
          "metadata": {
            "needs_background": "light"
          }
        },
        {
          "output_type": "display_data",
          "data": {
            "text/plain": [
              "<Figure size 432x288 with 1 Axes>"
            ],
            "image/png": "[encoded data removed]"
          },
          "metadata": {
            "needs_background": "light"
          }
        },
        {
          "output_type": "display_data",
          "data": {
            "text/plain": [
              "<Figure size 432x288 with 1 Axes>"
            ],
            "image/png": "[encoded data removed]"
          },
          "metadata": {
            "needs_background": "light"
          }
        },
        {
          "output_type": "display_data",
          "data": {
            "text/plain": [
              "<Figure size 432x288 with 1 Axes>"
            ],
            "image/png": "[encoded data removed]"
          },
          "metadata": {
            "needs_background": "light"
          }
        },
        {
          "output_type": "display_data",
          "data": {
            "text/plain": [
              "<Figure size 432x288 with 1 Axes>"
            ],
            "image/png": "[encoded data removed]"
          },
          "metadata": {
            "needs_background": "light"
          }
        },
        {
          "output_type": "display_data",
          "data": {
            "text/plain": [
              "<Figure size 432x288 with 1 Axes>"
            ],
            "image/png": "[encoded data removed]"
          },
          "metadata": {
            "needs_background": "light"
          }
        }
      ],
      "source": [
        "for channel in sample.channel_names:\n",
        "    plt.figure()\n",
        "    frame=allData['fmt']\n",
        "    frame[channel].hist()\n",
        "    plt.title(channel)\n"
      ]
    },
    {
      "cell_type": "markdown",
      "metadata": {
        "id": "qgt1EvNaN3j9"
      },
      "source": [
        "### Grab channels of interest and randomize sets"
      ]
    },
    {
      "cell_type": "code",
      "execution_count": 16,
      "metadata": {
        "id": "Qupqc0TlN3j-"
      },
      "outputs": [],
      "source": [
        "wantedChannels=[\n",
        "                'PE-Cy7-A', 'PE-A',\n",
        "                'PE-Texas Red-A',\n",
        "                'APC-A','APC-Cy 5-5-A'\n",
        "               ]\n",
        "wantedData = frame[wantedChannels]"
      ]
    },
    {
      "cell_type": "code",
      "execution_count": 17,
      "metadata": {
        "id": "zrCP6ViUN3j-"
      },
      "outputs": [],
      "source": [
        "nRandom = nSamples*nTubes\n",
        "daData = wantedData.sample(n=nRandom)\n"
      ]
    },
    {
      "cell_type": "code",
      "execution_count": null,
      "metadata": {
        "id": "xuoIjHUDN3j-"
      },
      "outputs": [],
      "source": []
    },
    {
      "cell_type": "markdown",
      "metadata": {
        "id": "NHUsTjv5N3j_"
      },
      "source": [
        "### Relabel data for indexing later"
      ]
    },
    {
      "cell_type": "code",
      "execution_count": 18,
      "metadata": {
        "colab": {
          "base_uri": "https://localhost:8080/"
        },
        "id": "zvEC9vWCN3j_",
        "outputId": "0f4611ae-3c87-453b-b240-3bb423465d74"
      },
      "outputs": [
        {
          "output_type": "stream",
          "name": "stderr",
          "text": [
            "/usr/local/lib/python3.7/dist-packages/ipykernel_launcher.py:2: FutureWarning: In a future version of pandas all arguments of DataFrame.sort_index will be keyword-only\n",
            "  \n"
          ]
        }
      ],
      "source": [
        "Xi = daData\n",
        "Xi = Xi.sort_index('index')\n",
        "X = Xi.reset_index()\n",
        "Xw = X[wantedChannels] # take out other tags; contains only data"
      ]
    },
    {
      "cell_type": "code",
      "execution_count": 19,
      "metadata": {
        "colab": {
          "base_uri": "https://localhost:8080/",
          "height": 298
        },
        "id": "dw020XMLN3j_",
        "outputId": "ec22585e-6de0-4148-e997-6b70217f6866"
      },
      "outputs": [
        {
          "output_type": "execute_result",
          "data": {
            "text/plain": [
              "     PE-Cy7-A      PE-A  PE-Texas Red-A     APC-A  APC-Cy 5-5-A\n",
              "0    5.605262  7.544591        7.075351  4.922206      4.391641\n",
              "1    5.390953  6.095302        5.748118  5.600581      5.488551\n",
              "2    5.803840  7.517923        7.040859  7.423035      6.672998\n",
              "..        ...       ...             ...       ...           ...\n",
              "997  3.000000  3.000000        3.000000  4.500785      4.306211\n",
              "998  3.942504  4.506776        3.000000  3.722634      3.000000\n",
              "999  3.000000  3.000000        3.000000  3.000000      3.000000\n",
              "\n",
              "[1000 rows x 5 columns]"
            ],
            "text/html": [
              "\n",
              "  <div id=\"df-7bed457e-bd67-48fd-a69c-924f613381cc\">\n",
              "    <div class=\"colab-df-container\">\n",
              "      <div>\n",
              "<style scoped>\n",
              "    .dataframe tbody tr th:only-of-type {\n",
              "        vertical-align: middle;\n",
              "    }\n",
              "\n",
              "    .dataframe tbody tr th {\n",
              "        vertical-align: top;\n",
              "    }\n",
              "\n",
              "    .dataframe thead th {\n",
              "        text-align: right;\n",
              "    }\n",
              "</style>\n",
              "<table border=\"1\" class=\"dataframe\">\n",
              "  <thead>\n",
              "    <tr style=\"text-align: right;\">\n",
              "      <th></th>\n",
              "      <th>PE-Cy7-A</th>\n",
              "      <th>PE-A</th>\n",
              "      <th>PE-Texas Red-A</th>\n",
              "      <th>APC-A</th>\n",
              "      <th>APC-Cy 5-5-A</th>\n",
              "    </tr>\n",
              "  </thead>\n",
              "  <tbody>\n",
              "    <tr>\n",
              "      <th>0</th>\n",
              "      <td>5.605262</td>\n",
              "      <td>7.544591</td>\n",
              "      <td>7.075351</td>\n",
              "      <td>4.922206</td>\n",
              "      <td>4.391641</td>\n",
              "    </tr>\n",
              "    <tr>\n",
              "      <th>1</th>\n",
              "      <td>5.390953</td>\n",
              "      <td>6.095302</td>\n",
              "      <td>5.748118</td>\n",
              "      <td>5.600581</td>\n",
              "      <td>5.488551</td>\n",
              "    </tr>\n",
              "    <tr>\n",
              "      <th>2</th>\n",
              "      <td>5.803840</td>\n",
              "      <td>7.517923</td>\n",
              "      <td>7.040859</td>\n",
              "      <td>7.423035</td>\n",
              "      <td>6.672998</td>\n",
              "    </tr>\n",
              "    <tr>\n",
              "      <th>...</th>\n",
              "      <td>...</td>\n",
              "      <td>...</td>\n",
              "      <td>...</td>\n",
              "      <td>...</td>\n",
              "      <td>...</td>\n",
              "    </tr>\n",
              "    <tr>\n",
              "      <th>997</th>\n",
              "      <td>3.000000</td>\n",
              "      <td>3.000000</td>\n",
              "      <td>3.000000</td>\n",
              "      <td>4.500785</td>\n",
              "      <td>4.306211</td>\n",
              "    </tr>\n",
              "    <tr>\n",
              "      <th>998</th>\n",
              "      <td>3.942504</td>\n",
              "      <td>4.506776</td>\n",
              "      <td>3.000000</td>\n",
              "      <td>3.722634</td>\n",
              "      <td>3.000000</td>\n",
              "    </tr>\n",
              "    <tr>\n",
              "      <th>999</th>\n",
              "      <td>3.000000</td>\n",
              "      <td>3.000000</td>\n",
              "      <td>3.000000</td>\n",
              "      <td>3.000000</td>\n",
              "      <td>3.000000</td>\n",
              "    </tr>\n",
              "  </tbody>\n",
              "</table>\n",
              "<p>1000 rows × 5 columns</p>\n",
              "</div>\n",
              "      <button class=\"colab-df-convert\" onclick=\"convertToInteractive('df-7bed457e-bd67-48fd-a69c-924f613381cc')\"\n",
              "              title=\"Convert this dataframe to an interactive table.\"\n",
              "              style=\"display:none;\">\n",
              "        \n",
              "  <svg xmlns=\"http://www.w3.org/2000/svg\" height=\"24px\"viewBox=\"0 0 24 24\"\n",
              "       width=\"24px\">\n",
              "    <path d=\"M0 0h24v24H0V0z\" fill=\"none\"/>\n",
              "    <path d=\"M18.56 5.44l.94 2.06.94-2.06 2.06-.94-2.06-.94-.94-2.06-.94 2.06-2.06.94zm-11 1L8.5 8.5l.94-2.06 2.06-.94-2.06-.94L8.5 2.5l-.94 2.06-2.06.94zm10 10l.94 2.06.94-2.06 2.06-.94-2.06-.94-.94-2.06-.94 2.06-2.06.94z\"/><path d=\"M17.41 7.96l-1.37-1.37c-.4-.4-.92-.59-1.43-.59-.52 0-1.04.2-1.43.59L10.3 9.45l-7.72 7.72c-.78.78-.78 2.05 0 2.83L4 21.41c.39.39.9.59 1.41.59.51 0 1.02-.2 1.41-.59l7.78-7.78 2.81-2.81c.8-.78.8-2.07 0-2.86zM5.41 20L4 18.59l7.72-7.72 1.47 1.35L5.41 20z\"/>\n",
              "  </svg>\n",
              "      </button>\n",
              "      \n",
              "  <style>\n",
              "    .colab-df-container {\n",
              "      display:flex;\n",
              "      flex-wrap:wrap;\n",
              "      gap: 12px;\n",
              "    }\n",
              "\n",
              "    .colab-df-convert {\n",
              "      background-color: #E8F0FE;\n",
              "      border: none;\n",
              "      border-radius: 50%;\n",
              "      cursor: pointer;\n",
              "      display: none;\n",
              "      fill: #1967D2;\n",
              "      height: 32px;\n",
              "      padding: 0 0 0 0;\n",
              "      width: 32px;\n",
              "    }\n",
              "\n",
              "    .colab-df-convert:hover {\n",
              "      background-color: #E2EBFA;\n",
              "      box-shadow: 0px 1px 2px rgba(60, 64, 67, 0.3), 0px 1px 3px 1px rgba(60, 64, 67, 0.15);\n",
              "      fill: #174EA6;\n",
              "    }\n",
              "\n",
              "    [theme=dark] .colab-df-convert {\n",
              "      background-color: #3B4455;\n",
              "      fill: #D2E3FC;\n",
              "    }\n",
              "\n",
              "    [theme=dark] .colab-df-convert:hover {\n",
              "      background-color: #434B5C;\n",
              "      box-shadow: 0px 1px 3px 1px rgba(0, 0, 0, 0.15);\n",
              "      filter: drop-shadow(0px 1px 2px rgba(0, 0, 0, 0.3));\n",
              "      fill: #FFFFFF;\n",
              "    }\n",
              "  </style>\n",
              "\n",
              "      <script>\n",
              "        const buttonEl =\n",
              "          document.querySelector('#df-7bed457e-bd67-48fd-a69c-924f613381cc button.colab-df-convert');\n",
              "        buttonEl.style.display =\n",
              "          google.colab.kernel.accessAllowed ? 'block' : 'none';\n",
              "\n",
              "        async function convertToInteractive(key) {\n",
              "          const element = document.querySelector('#df-7bed457e-bd67-48fd-a69c-924f613381cc');\n",
              "          const dataTable =\n",
              "            await google.colab.kernel.invokeFunction('convertToInteractive',\n",
              "                                                     [key], {});\n",
              "          if (!dataTable) return;\n",
              "\n",
              "          const docLinkHtml = 'Like what you see? Visit the ' +\n",
              "            '<a target=\"_blank\" href=https://colab.research.google.com/notebooks/data_table.ipynb>data table notebook</a>'\n",
              "            + ' to learn more about interactive tables.';\n",
              "          element.innerHTML = '';\n",
              "          dataTable['output_type'] = 'display_data';\n",
              "          await google.colab.output.renderOutput(dataTable, element);\n",
              "          const docLink = document.createElement('div');\n",
              "          docLink.innerHTML = docLinkHtml;\n",
              "          element.appendChild(docLink);\n",
              "        }\n",
              "      </script>\n",
              "    </div>\n",
              "  </div>\n",
              "  "
            ]
          },
          "metadata": {},
          "execution_count": 19
        }
      ],
      "source": [
        "Xw"
      ]
    },
    {
      "cell_type": "markdown",
      "metadata": {
        "id": "nM8fL-QdN3kA"
      },
      "source": [
        "## tsne\n",
        "- This is a technique for projecting data into clusters (by their attributes)\n",
        "- Takes about a minute for ~2K points"
      ]
    },
    {
      "cell_type": "code",
      "execution_count": 20,
      "metadata": {
        "colab": {
          "base_uri": "https://localhost:8080/"
        },
        "id": "sm0pxOKoN3kA",
        "outputId": "109c7991-7916-40ac-e2b6-00bda800a901"
      },
      "outputs": [
        {
          "output_type": "stream",
          "name": "stderr",
          "text": [
            "/usr/local/lib/python3.7/dist-packages/sklearn/manifold/_t_sne.py:783: FutureWarning: The default initialization in TSNE will change from 'random' to 'pca' in 1.2.\n",
            "  FutureWarning,\n",
            "/usr/local/lib/python3.7/dist-packages/sklearn/manifold/_t_sne.py:793: FutureWarning: The default learning rate in TSNE will change from 200.0 to 'auto' in 1.2.\n",
            "  FutureWarning,\n"
          ]
        }
      ],
      "source": [
        "tsne = TSNE()\n",
        "X_embedded = tsne.fit_transform(Xw)"
      ]
    },
    {
      "cell_type": "markdown",
      "source": [
        "## Define function for plotting data "
      ],
      "metadata": {
        "id": "RCcUgNqtZ0Zq"
      }
    },
    {
      "cell_type": "code",
      "execution_count": 21,
      "metadata": {
        "id": "Q0DHj1AdN3kB"
      },
      "outputs": [],
      "source": [
        "# plot all data (no characteristics)\n",
        "from scipy.stats import kde\n",
        "\n",
        "def PlotData(\n",
        "    X,             # original data\n",
        "    X_embedded,    # tsne'd data\n",
        "    channel='SSC-A',# which channel to select for\n",
        "    channelThresh = 0, # threshold \n",
        "    allData = True # display 'all' data on background, plot 'key' data on foreground\n",
        "    ):\n",
        "    \n",
        "    # plot background     \n",
        "    plt.figure()\n",
        "    if allData:\n",
        "      nbins=300\n",
        "      x,y = X_embedded[:,0], X_embedded[:,1]\n",
        "      k = kde.gaussian_kde([x,y])\n",
        "      xi, yi = np.mgrid[x.min():x.max():nbins*1j, y.min():y.max():nbins*1j]\n",
        "      zi = k(np.vstack([xi.flatten(), yi.flatten()]))\n",
        " \n",
        "      # Make the plot\n",
        "      plt.pcolormesh(xi, yi, zi.reshape(xi.shape),cmap=\"binary\")\n",
        "  \n",
        "      #sns.scatterplot(X_`embedded[:,0], X_embedded[:,1],\n",
        "       #             facecolors='gray') # , characteristic)\n",
        "\n",
        "    # grab subset satisfying a criterion \n",
        "    subset = X.loc[ \n",
        "        X[channel] > channelThresh   # just for testing \n",
        "    ]\n",
        "    idxSubset= subset.index.values  \n",
        "    characteristic = subset[channel]\n",
        "    #print(characteristic)\n",
        "\n",
        "    # plot data \n",
        "    xAxis = X_embedded[idxSubset,0]\n",
        "    yAxis = X_embedded[idxSubset,1]\n",
        "    sns.scatterplot(X_embedded[idxSubset],x=xAxis,y=yAxis,hue=characteristic)#,hue_norm=True)    \n",
        "    plt.title(\"%s/%s\"%(key,channel))\n",
        "    \n",
        "\n"
      ]
    },
    {
      "cell_type": "markdown",
      "source": [],
      "metadata": {
        "id": "2It8amszZzKA"
      }
    },
    {
      "cell_type": "code",
      "execution_count": 23,
      "metadata": {
        "colab": {
          "base_uri": "https://localhost:8080/",
          "height": 281
        },
        "id": "UQO55PNAN3kB",
        "outputId": "d2a73ca9-def6-4c21-f734-db540174dd90"
      },
      "outputs": [
        {
          "output_type": "display_data",
          "data": {
            "text/plain": [
              "<Figure size 432x288 with 1 Axes>"
            ],
            "image/png": "[encoded data removed]"
          },
          "metadata": {
            "needs_background": "light"
          }
        }
      ],
      "source": [
        "channel = \"PE-Cy7-A\"\n",
        "PlotData(X,X_embedded,channel=channel, channelThresh=4,allData=True)#\n"
      ]
    },
    {
      "cell_type": "code",
      "execution_count": null,
      "metadata": {
        "id": "P-51obF_N3kD"
      },
      "outputs": [],
      "source": []
    },
    {
      "cell_type": "code",
      "execution_count": null,
      "metadata": {
        "collapsed": true,
        "id": "31VSY_ONN3kD"
      },
      "outputs": [],
      "source": []
    }
  ],
  "metadata": {
    "kernelspec": {
      "display_name": "Python 3",
      "language": "python",
      "name": "python3"
    },
    "language_info": {
      "codemirror_mode": {
        "name": "ipython",
        "version": 3
      },
      "file_extension": ".py",
      "mimetype": "text/x-python",
      "name": "python",
      "nbconvert_exporter": "python",
      "pygments_lexer": "ipython3",
      "version": "3.6.8"
    },
    "colab": {
      "provenance": [],
      "collapsed_sections": []
    }
  },
  "nbformat": 4,
  "nbformat_minor": 0
}