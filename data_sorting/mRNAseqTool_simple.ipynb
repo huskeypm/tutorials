{
 "cells": [
  {
   "cell_type": "markdown",
   "metadata": {},
   "source": [
    "# Data Filtering\n",
    "This code/script is for sorting data based on filtering. \n",
    "1. upload the reference data \n",
    "2. upload the test data \n",
    "3. filter the test data based on the reference data \n",
    "4. store the filtered test data into file"
   ]
  },
  {
   "cell_type": "code",
   "execution_count": 33,
   "metadata": {},
   "outputs": [
    {
     "name": "stdout",
     "output_type": "stream",
     "text": [
      "The autoreload extension is already loaded. To reload it, use:\n",
      "  %reload_ext autoreload\n"
     ]
    },
    {
     "data": {
      "text/html": [
       "<style>.container { width:100% !important; }</style>"
      ],
      "text/plain": [
       "<IPython.core.display.HTML object>"
      ]
     },
     "metadata": {},
     "output_type": "display_data"
    }
   ],
   "source": [
    "import numpy as np\n",
    "import math\n",
    "import matplotlib.pylab as plt\n",
    "\n",
    "%matplotlib inline\n",
    "%load_ext autoreload\n",
    "%autoreload 2\n",
    "\n",
    "from IPython.core.display import display, HTML\n",
    "display(HTML(\"<style>.container { width:100% !important; }</style>\"))"
   ]
  },
  {
   "cell_type": "markdown",
   "metadata": {},
   "source": [
    "### The following functions are tools to pull the data out from each text file. \n",
    "1. extract_data_fromM0: The outcome of data is the list of gene symbols/names and stores as \"Reference\"\n",
    "2. extract_dta_fromM1toM2_test: The outcome of data is the list of \"Fold-change (log2[FC])\", \"gene symbols\", \"gene description\""
   ]
  },
  {
   "cell_type": "code",
   "execution_count": 34,
   "metadata": {},
   "outputs": [],
   "source": [
    "def extract_data_fromM0(filename):             ## <---- Reference data file name: this should be in the format of string(ex. 'yourfilename.txt')\n",
    "    infile = open(filename,'r')                ## <---- open the file: 'r' means \"Reading mode\" and 'w' means \"Writing mode\"\n",
    "    infile.readline()                          ## Skip the first line\n",
    "    symbols  = []                              ## Creating the dummy list where all your collection goes\n",
    "    for line in infile:                        ## infile is the format of sort of list but it will be the entire row (it can be \"hello world\" instead of \"hello\" and \"world\")\n",
    "        if line.strip():                       ## by doing so, you know line.strip() exists or not. if not, then this conditional statement will pass the element of infile (line) \n",
    "            line = line.strip(\"\\n ' '\")        ## I would say this is precautionary to make sure it cut the sentence if there is any \\n \n",
    "            line = line.split(\"\t\")             ## split row into column \n",
    "            symbol = line[0]                   ## pull the very first element as symbol (I think this file format has only one column)\n",
    "            symbols.append(symbol)             ## what this does is filling the dummy list as you progress\n",
    "    infile.close()                             ## close writing process \n",
    "    return symbols                             ## return the outcome \n",
    "\n",
    "def extract_data_fromM1toM2_test(filename):\n",
    "    infile = open(filename,'r')\n",
    "    infile.readline()\n",
    "    numbers1 = []\n",
    "    symbols  = []\n",
    "    descriptions = []\n",
    "    for line in infile:\n",
    "        if line.strip():\n",
    "            line = line.strip(\"\\n ' '\")\n",
    "            line = line.split(\"\t\")\n",
    "            number1 = float(line[0])          ## This time what you are storing is a number (float) but python will treat as \"string\" in the first place so you have to convert to float to treat as numerical value\n",
    "            symbol = line[2]                  ## If you check the text file, there are many columns. So once you split them, you need to treat them as column and the integer in [] indicates the index of the column you are interested in.\n",
    "            description = line[5]\n",
    "            numbers1.append(number1)\n",
    "            symbols.append(symbol)\n",
    "            descriptions.append(description)            \n",
    "    infile.close()\n",
    "    return numbers1, symbols, descriptions    ## These are float, string, and string.\n"
   ]
  },
  {
   "cell_type": "markdown",
   "metadata": {},
   "source": [
    "### Comparison\n",
    "1. it will go through matching process for filtering irrelevant data.\n",
    "2. it will store them as output "
   ]
  },
  {
   "cell_type": "code",
   "execution_count": 35,
   "metadata": {},
   "outputs": [],
   "source": [
    "def comparison(testUpfile,testDownfile): ## inputs are string so make sure you put as comparison('yourtestfile1.txt','yourtestfile2.txt')\n",
    "    \n",
    "    M0toM1up   = extract_data_fromM0('orecchioni-supp2-M0toM1-up.txt')   ## M1 specific upregualted Genes\n",
    "    M0toM2up   = extract_data_fromM0('orecchioni-supp2-M0toM2-up.txt')   ## M2 specific upregulated Genes\n",
    "       \n",
    "    ### Pulling out the specific genes that are down or up regulated from the mRNA seq data obtained and collected by Chris and Rob \n",
    "    [logFCdowntest, symbolsdowntest, dscrptdowntest] = extract_data_fromM1toM2_test(testDownfile) ## you don't have to give them the same name as return upthere. \n",
    "    [logFCuptest, symbolsuptest, dscrptuptest] = extract_data_fromM1toM2_test(testUpfile)\n",
    "       \n",
    "    x = len(logFCdowntest)   # This will pull the size of list. if there are ten elements, then your x = 10\n",
    "    y = len(logFCuptest)\n",
    "    \n",
    "    DownSymbols = [] ## M1 specific like gene\n",
    "    DownDscrpts = []\n",
    "    DownFCtest  = []\n",
    "    \n",
    "    UpSymbols = [] ## M2 specific like gene\n",
    "    UpDscrpts = []\n",
    "    UpFCtest  = []\n",
    "    \n",
    "               \n",
    "    ##### Check the M1 or M2 specificity\n",
    "    ## Case 1 : If M1 -> M2, then M1 specific genes should be downregulated from the process \n",
    "    ## Therefore, from \"DownRegulated Genes\" in M1->M2, we should be able to see overlapped from M0 -> M1 upregulated\n",
    "    \n",
    "    n2 = len(M0toM1up)\n",
    "    ## Against Test Data\n",
    "    SpecificSymbolDowntest = []\n",
    "    SpecificDscrptDowntest = []\n",
    "    for k in np.arange(n2):        # if you put np.arange(2), the outcome is [0,1] and these elements can be use as index \n",
    "        for l in np.arange(x):\n",
    "            if M0toM1up[k] == symbolsdowntest[l]:    ## This will go through each element of M0toM1up and compared with symbolsdowntest to see if they match or not. If not, it will pass.\n",
    "                SpecificSymbolDowntest.append(symbolsdowntest[l])  ## downregulated genes during M1->M2 polarization are M1 specific\n",
    "                SpecificDscrptDowntest.append(dscrptdowntest[l])\n",
    "    \n",
    "    file = open('M1specificDownM1toM2test.txt','w')\n",
    "    file.write('This data shows \"M1 specific genes\" appearing in the process of M0 to M1 being \"down-regulated\" in the process of M1 to M2 in test \\n')\n",
    "    file.write('mRNA_Symbol, description \\n')\n",
    "    for num in np.arange(len(SpecificSymbolDowntest)):\n",
    "         file.write('{}, {} \\n'.format(SpecificSymbolDowntest[num],SpecificDscrptDowntest[num]))\n",
    "    file.close()\n",
    "    \n",
    "    ## Case 2 : If M1 -> M2, then M2 specific genes should be upregulated from the process \n",
    "    ## Therefore, from \"UpRegulated Genes\" in M1->M2, we should be able to see overlapped from M0 -> M2 upregulated    \n",
    "    \n",
    "    n4 = len(M0toM2up)\n",
    "    ## Against Test Data\n",
    "    SpecificSymbolUptest = []\n",
    "    SpecificDscrptUptest = []\n",
    "    for k in np.arange(n4):\n",
    "        for l in np.arange(y):\n",
    "            if M0toM2up[k] == symbolsuptest[l]:\n",
    "                SpecificSymbolUptest.append(symbolsuptest[l])\n",
    "                SpecificDscrptUptest.append(dscrptuptest[l])\n",
    "    \n",
    "    file = open('M2specificUpM1toM2test.txt','w')\n",
    "    file.write('This data shows \"M2 specific genes\" appearing in the process of M0 to M1 being \"up-regulated\" in the process of M1 to M2 in test \\n')\n",
    "    file.write('mRNA_Symbol, description \\n')\n",
    "    for num in np.arange(len(SpecificSymbolUptest)):\n",
    "         file.write('{}, {} \\n'.format(SpecificSymbolUptest[num],SpecificDscrptUptest[num]))\n",
    "    file.close()\n",
    "    \n",
    "   \n",
    "    return"
   ]
  },
  {
   "cell_type": "code",
   "execution_count": 36,
   "metadata": {},
   "outputs": [],
   "source": [
    "comparison('m1tom2beyond2FCup.txt','m1tom2beyond2FCdown.txt')"
   ]
  },
  {
   "cell_type": "code",
   "execution_count": null,
   "metadata": {},
   "outputs": [],
   "source": []
  }
 ],
 "metadata": {
  "kernelspec": {
   "display_name": "Python 3",
   "language": "python",
   "name": "python3"
  },
  "language_info": {
   "codemirror_mode": {
    "name": "ipython",
    "version": 3
   },
   "file_extension": ".py",
   "mimetype": "text/x-python",
   "name": "python",
   "nbconvert_exporter": "python",
   "pygments_lexer": "ipython3",
   "version": "3.7.3"
  }
 },
 "nbformat": 4,
 "nbformat_minor": 2
}
